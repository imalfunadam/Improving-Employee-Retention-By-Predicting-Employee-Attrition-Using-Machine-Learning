{
 "cells": [
  {
   "cell_type": "markdown",
   "metadata": {},
   "source": [
    "# Improving Employee Retention by Predicting Employee Attrition\n",
    "\n",
    "Table of Content :\n",
    "\n",
    "- Introducation\n",
    "- Load Dataset\n",
    "- Exploratory Data Analysis\n",
    "\n",
    "## Introduction\n",
    "**Background**\n",
    "\n",
    "Sumber daya manusia (SDM) adalah aset utama yang perlu dikelola dengan baik oleh perusahaan agar tujuan bisnis dapat tercapai dengan efektif dan efisien. Pada kesempatan kali ini, kita akan menghadapi sebuah permasalahan tentang sumber daya manusia yang ada di perusahaan. Fokus kita adalah untuk mengetahui bagaimana cara menjaga karyawan agar tetap bertahan di perusahaan yang ada saat ini yang dapat mengakibatkan bengkaknya biaya untuk rekrutmen karyawan serta pelatihan untuk mereka yang baru masuk. Dengan mengetahui faktor utama yang menyebabkan karyawan tidak merasa, perusahaan dapat segera menanggulanginya dengan membuat program-program yang relevan dengan permasalahan karyawan.\n",
    "\n",
    "**Goal:**\n",
    "\n",
    "Meningkatkan retensi karyawan di perusahaan dengan mengidentifikasi dan mengatasi faktor-faktor utama yang menyebabkan ketidakpuasan serta meningkatkan keberlanjutan sumber daya manusia (SDM) sebagai aset utama perusahaan.\n",
    "\n",
    "**Objectives:**\n",
    "\n",
    "\n",
    "1. Mengidentifikasi faktor-faktor utama yang menyebabkan ketidakpuasan dan keengganan karyawan untuk tetap berada di perusahaan.\n",
    "2. Membuat survei atau mekanisme umpan balik untuk mendapatkan pandangan langsung dari karyawan terkait dengan aspek-aspek yang dapat ditingkatkan.\n",
    "3. Menganalisis hasil survei untuk menentukan tren dan pola dalam faktor-faktor ketidakpuasan yang ditemukan.\n",
    "4. Mengembangkan program-program yang sesuai dan relevan untuk mengatasi setiap faktor ketidakpuasan yang diidentifikasi.\n",
    "5. Menyusun strategi komprehensif untuk meningkatkan kepuasan karyawan dan meningkatkan retensi mereka.\n",
    "6. Memonitor efektivitas program-program yang diimplementasikan melalui evaluasi rutin dan umpan balik dari karyawan.\n",
    "7. Mengukur penurunan biaya rekrutmen dan pelatihan dengan memantau peningkatan retensi karyawan dan kepuasan mereka.\n",
    "8. Meningkatkan komunikasi antara manajemen dan karyawan untuk memastikan pemahaman yang lebih baik tentang kebutuhan dan harapan karyawan.\n",
    "9. Membentuk tim internal atau komite karyawan untuk berkolaborasi dalam merancang dan melaksanakan inisiatif retensi.\n",
    "10. Menilai dan menyempurnakan program-program secara berkala berdasarkan umpan balik dan evaluasi kinerja perusahaan.\n",
    "\n",
    "## Load Dataset"
   ]
  },
  {
   "cell_type": "code",
   "execution_count": 1,
   "metadata": {},
   "outputs": [],
   "source": [
    "import pandas as pd \n",
    "import numpy as np\n",
    "import seaborn as sns\n",
    "import matplotlib.pyplot as plt \n",
    "%matplotlib inline\n",
    "import warnings\n",
    "warnings.filterwarnings(\"ignore\")"
   ]
  },
  {
   "cell_type": "code",
   "execution_count": 2,
   "metadata": {},
   "outputs": [
    {
     "data": {
      "text/html": [
       "<div>\n",
       "<style scoped>\n",
       "    .dataframe tbody tr th:only-of-type {\n",
       "        vertical-align: middle;\n",
       "    }\n",
       "\n",
       "    .dataframe tbody tr th {\n",
       "        vertical-align: top;\n",
       "    }\n",
       "\n",
       "    .dataframe thead th {\n",
       "        text-align: right;\n",
       "    }\n",
       "</style>\n",
       "<table border=\"1\" class=\"dataframe\">\n",
       "  <thead>\n",
       "    <tr style=\"text-align: right;\">\n",
       "      <th></th>\n",
       "      <th>Username</th>\n",
       "      <th>EnterpriseID</th>\n",
       "      <th>StatusPernikahan</th>\n",
       "      <th>JenisKelamin</th>\n",
       "      <th>StatusKepegawaian</th>\n",
       "      <th>Pekerjaan</th>\n",
       "      <th>JenjangKarir</th>\n",
       "      <th>PerformancePegawai</th>\n",
       "      <th>AsalDaerah</th>\n",
       "      <th>HiringPlatform</th>\n",
       "      <th>...</th>\n",
       "      <th>NomorHP</th>\n",
       "      <th>Email</th>\n",
       "      <th>TingkatPendidikan</th>\n",
       "      <th>PernahBekerja</th>\n",
       "      <th>IkutProgramLOP</th>\n",
       "      <th>AlasanResign</th>\n",
       "      <th>TanggalLahir</th>\n",
       "      <th>TanggalHiring</th>\n",
       "      <th>TanggalPenilaianKaryawan</th>\n",
       "      <th>TanggalResign</th>\n",
       "    </tr>\n",
       "  </thead>\n",
       "  <tbody>\n",
       "    <tr>\n",
       "      <th>39</th>\n",
       "      <td>blissfulHyena1</td>\n",
       "      <td>111140</td>\n",
       "      <td>Bercerai</td>\n",
       "      <td>Wanita</td>\n",
       "      <td>FullTime</td>\n",
       "      <td>Digital Product Manager</td>\n",
       "      <td>Freshgraduate_program</td>\n",
       "      <td>Bagus</td>\n",
       "      <td>Jakarta Timur</td>\n",
       "      <td>Indeed</td>\n",
       "      <td>...</td>\n",
       "      <td>+6289713466xxx</td>\n",
       "      <td>blissfulHyena1934@hotmail.com</td>\n",
       "      <td>Sarjana</td>\n",
       "      <td>1</td>\n",
       "      <td>NaN</td>\n",
       "      <td>masih_bekerja</td>\n",
       "      <td>1982-03-28</td>\n",
       "      <td>2013-8-19</td>\n",
       "      <td>2020-02-12</td>\n",
       "      <td>-</td>\n",
       "    </tr>\n",
       "    <tr>\n",
       "      <th>207</th>\n",
       "      <td>troubledQuiche5</td>\n",
       "      <td>106480</td>\n",
       "      <td>Menikah</td>\n",
       "      <td>Wanita</td>\n",
       "      <td>FullTime</td>\n",
       "      <td>Software Engineer (Front End)</td>\n",
       "      <td>Mid_level</td>\n",
       "      <td>Sangat_bagus</td>\n",
       "      <td>Jakarta Pusat</td>\n",
       "      <td>Indeed</td>\n",
       "      <td>...</td>\n",
       "      <td>+6285896075xxx</td>\n",
       "      <td>troubledQuiche5924@icloud.com</td>\n",
       "      <td>Sarjana</td>\n",
       "      <td>1</td>\n",
       "      <td>NaN</td>\n",
       "      <td>leadership</td>\n",
       "      <td>1972-11-21</td>\n",
       "      <td>2017-01-07</td>\n",
       "      <td>2020-02-06</td>\n",
       "      <td>2013-5-30</td>\n",
       "    </tr>\n",
       "    <tr>\n",
       "      <th>20</th>\n",
       "      <td>peacefulCoati5</td>\n",
       "      <td>100301</td>\n",
       "      <td>Menikah</td>\n",
       "      <td>Wanita</td>\n",
       "      <td>FullTime</td>\n",
       "      <td>Product Manager</td>\n",
       "      <td>Senior_level</td>\n",
       "      <td>Sangat_bagus</td>\n",
       "      <td>Jakarta Utara</td>\n",
       "      <td>LinkedIn</td>\n",
       "      <td>...</td>\n",
       "      <td>+6283355427xxx</td>\n",
       "      <td>peacefulCoati5154@yahoo.com</td>\n",
       "      <td>Sarjana</td>\n",
       "      <td>1</td>\n",
       "      <td>NaN</td>\n",
       "      <td>masih_bekerja</td>\n",
       "      <td>1977-05-22</td>\n",
       "      <td>2012-01-09</td>\n",
       "      <td>2020-01-07</td>\n",
       "      <td>-</td>\n",
       "    </tr>\n",
       "  </tbody>\n",
       "</table>\n",
       "<p>3 rows × 25 columns</p>\n",
       "</div>"
      ],
      "text/plain": [
       "            Username  EnterpriseID StatusPernikahan JenisKelamin  \\\n",
       "39    blissfulHyena1        111140         Bercerai       Wanita   \n",
       "207  troubledQuiche5        106480          Menikah       Wanita   \n",
       "20    peacefulCoati5        100301          Menikah       Wanita   \n",
       "\n",
       "    StatusKepegawaian                      Pekerjaan           JenjangKarir  \\\n",
       "39           FullTime        Digital Product Manager  Freshgraduate_program   \n",
       "207          FullTime  Software Engineer (Front End)              Mid_level   \n",
       "20           FullTime                Product Manager           Senior_level   \n",
       "\n",
       "    PerformancePegawai     AsalDaerah HiringPlatform  ...         NomorHP  \\\n",
       "39               Bagus  Jakarta Timur         Indeed  ...  +6289713466xxx   \n",
       "207       Sangat_bagus  Jakarta Pusat         Indeed  ...  +6285896075xxx   \n",
       "20        Sangat_bagus  Jakarta Utara       LinkedIn  ...  +6283355427xxx   \n",
       "\n",
       "                             Email  TingkatPendidikan  PernahBekerja  \\\n",
       "39   blissfulHyena1934@hotmail.com            Sarjana              1   \n",
       "207  troubledQuiche5924@icloud.com            Sarjana              1   \n",
       "20     peacefulCoati5154@yahoo.com            Sarjana              1   \n",
       "\n",
       "     IkutProgramLOP   AlasanResign TanggalLahir TanggalHiring  \\\n",
       "39              NaN  masih_bekerja   1982-03-28     2013-8-19   \n",
       "207             NaN     leadership   1972-11-21    2017-01-07   \n",
       "20              NaN  masih_bekerja   1977-05-22    2012-01-09   \n",
       "\n",
       "    TanggalPenilaianKaryawan  TanggalResign  \n",
       "39                2020-02-12              -  \n",
       "207               2020-02-06      2013-5-30  \n",
       "20                2020-01-07              -  \n",
       "\n",
       "[3 rows x 25 columns]"
      ]
     },
     "execution_count": 2,
     "metadata": {},
     "output_type": "execute_result"
    }
   ],
   "source": [
    "df = pd.read_csv('Improving Employee Retention by Predicting Employee Attrition Using Machine Learning.csv')\n",
    "df.sample(3)"
   ]
  },
  {
   "cell_type": "markdown",
   "metadata": {},
   "source": [
    "## Exploratory Data Analysis\n",
    "\n",
    "### Overview Data\n",
    "\n",
    "Melakukan investigasi awal terhadap data untuk memahami karakteristik dan informasi yang terkandung didalamnya termasuk missing value dan duplikat."
   ]
  },
  {
   "cell_type": "code",
   "execution_count": 3,
   "metadata": {},
   "outputs": [
    {
     "data": {
      "text/plain": [
       "(287, 25)"
      ]
     },
     "execution_count": 3,
     "metadata": {},
     "output_type": "execute_result"
    }
   ],
   "source": [
    "df.shape"
   ]
  },
  {
   "cell_type": "code",
   "execution_count": 4,
   "metadata": {},
   "outputs": [
    {
     "name": "stdout",
     "output_type": "stream",
     "text": [
      "<class 'pandas.core.frame.DataFrame'>\n",
      "RangeIndex: 287 entries, 0 to 286\n",
      "Data columns (total 25 columns):\n",
      " #   Column                              Non-Null Count  Dtype  \n",
      "---  ------                              --------------  -----  \n",
      " 0   Username                            287 non-null    object \n",
      " 1   EnterpriseID                        287 non-null    int64  \n",
      " 2   StatusPernikahan                    287 non-null    object \n",
      " 3   JenisKelamin                        287 non-null    object \n",
      " 4   StatusKepegawaian                   287 non-null    object \n",
      " 5   Pekerjaan                           287 non-null    object \n",
      " 6   JenjangKarir                        287 non-null    object \n",
      " 7   PerformancePegawai                  287 non-null    object \n",
      " 8   AsalDaerah                          287 non-null    object \n",
      " 9   HiringPlatform                      287 non-null    object \n",
      " 10  SkorSurveyEngagement                287 non-null    int64  \n",
      " 11  SkorKepuasanPegawai                 282 non-null    float64\n",
      " 12  JumlahKeikutsertaanProjek           284 non-null    float64\n",
      " 13  JumlahKeterlambatanSebulanTerakhir  286 non-null    float64\n",
      " 14  JumlahKetidakhadiran                281 non-null    float64\n",
      " 15  NomorHP                             287 non-null    object \n",
      " 16  Email                               287 non-null    object \n",
      " 17  TingkatPendidikan                   287 non-null    object \n",
      " 18  PernahBekerja                       287 non-null    object \n",
      " 19  IkutProgramLOP                      29 non-null     float64\n",
      " 20  AlasanResign                        221 non-null    object \n",
      " 21  TanggalLahir                        287 non-null    object \n",
      " 22  TanggalHiring                       287 non-null    object \n",
      " 23  TanggalPenilaianKaryawan            287 non-null    object \n",
      " 24  TanggalResign                       287 non-null    object \n",
      "dtypes: float64(5), int64(2), object(18)\n",
      "memory usage: 56.2+ KB\n"
     ]
    }
   ],
   "source": [
    "df.info()"
   ]
  },
  {
   "cell_type": "code",
   "execution_count": 5,
   "metadata": {},
   "outputs": [
    {
     "data": {
      "text/plain": [
       "Username                                0\n",
       "EnterpriseID                            0\n",
       "StatusPernikahan                        0\n",
       "JenisKelamin                            0\n",
       "StatusKepegawaian                       0\n",
       "Pekerjaan                               0\n",
       "JenjangKarir                            0\n",
       "PerformancePegawai                      0\n",
       "AsalDaerah                              0\n",
       "HiringPlatform                          0\n",
       "SkorSurveyEngagement                    0\n",
       "SkorKepuasanPegawai                     5\n",
       "JumlahKeikutsertaanProjek               3\n",
       "JumlahKeterlambatanSebulanTerakhir      1\n",
       "JumlahKetidakhadiran                    6\n",
       "NomorHP                                 0\n",
       "Email                                   0\n",
       "TingkatPendidikan                       0\n",
       "PernahBekerja                           0\n",
       "IkutProgramLOP                        258\n",
       "AlasanResign                           66\n",
       "TanggalLahir                            0\n",
       "TanggalHiring                           0\n",
       "TanggalPenilaianKaryawan                0\n",
       "TanggalResign                           0\n",
       "dtype: int64"
      ]
     },
     "execution_count": 5,
     "metadata": {},
     "output_type": "execute_result"
    }
   ],
   "source": [
    "df.isnull().sum()"
   ]
  },
  {
   "cell_type": "markdown",
   "metadata": {},
   "source": [
    "Terdapat beberapa fitur yang missing value yaitu `SkorKepuasanPegawai`, `JumlahKeikutsertaanProjek`, `JumlahKeterlambatanSebulanTerakhir`, `JumlahKetidakhadiran`, `IkutProgramLOP`, `AlasanResign`"
   ]
  },
  {
   "cell_type": "code",
   "execution_count": 6,
   "metadata": {},
   "outputs": [
    {
     "data": {
      "text/html": [
       "<div>\n",
       "<style scoped>\n",
       "    .dataframe tbody tr th:only-of-type {\n",
       "        vertical-align: middle;\n",
       "    }\n",
       "\n",
       "    .dataframe tbody tr th {\n",
       "        vertical-align: top;\n",
       "    }\n",
       "\n",
       "    .dataframe thead th {\n",
       "        text-align: right;\n",
       "    }\n",
       "</style>\n",
       "<table border=\"1\" class=\"dataframe\">\n",
       "  <thead>\n",
       "    <tr style=\"text-align: right;\">\n",
       "      <th></th>\n",
       "      <th>Username</th>\n",
       "      <th>EnterpriseID</th>\n",
       "      <th>StatusPernikahan</th>\n",
       "      <th>JenisKelamin</th>\n",
       "      <th>StatusKepegawaian</th>\n",
       "      <th>Pekerjaan</th>\n",
       "    </tr>\n",
       "  </thead>\n",
       "  <tbody>\n",
       "    <tr>\n",
       "      <th>0</th>\n",
       "      <td>Username</td>\n",
       "      <td>object</td>\n",
       "      <td>0</td>\n",
       "      <td>0.00</td>\n",
       "      <td>285</td>\n",
       "      <td>[spiritedPorpoise3, jealousGelding2, pluckyMue...</td>\n",
       "    </tr>\n",
       "    <tr>\n",
       "      <th>1</th>\n",
       "      <td>EnterpriseID</td>\n",
       "      <td>int64</td>\n",
       "      <td>0</td>\n",
       "      <td>0.00</td>\n",
       "      <td>287</td>\n",
       "      <td>[111065, 106080, 106452, 106325, 111171, 10641...</td>\n",
       "    </tr>\n",
       "    <tr>\n",
       "      <th>2</th>\n",
       "      <td>StatusPernikahan</td>\n",
       "      <td>object</td>\n",
       "      <td>0</td>\n",
       "      <td>0.00</td>\n",
       "      <td>5</td>\n",
       "      <td>[Belum_menikah, Menikah, Bercerai, Lainnya, -]</td>\n",
       "    </tr>\n",
       "    <tr>\n",
       "      <th>3</th>\n",
       "      <td>JenisKelamin</td>\n",
       "      <td>object</td>\n",
       "      <td>0</td>\n",
       "      <td>0.00</td>\n",
       "      <td>2</td>\n",
       "      <td>[Pria, Wanita]</td>\n",
       "    </tr>\n",
       "    <tr>\n",
       "      <th>4</th>\n",
       "      <td>StatusKepegawaian</td>\n",
       "      <td>object</td>\n",
       "      <td>0</td>\n",
       "      <td>0.00</td>\n",
       "      <td>3</td>\n",
       "      <td>[Outsource, FullTime, Internship]</td>\n",
       "    </tr>\n",
       "    <tr>\n",
       "      <th>5</th>\n",
       "      <td>Pekerjaan</td>\n",
       "      <td>object</td>\n",
       "      <td>0</td>\n",
       "      <td>0.00</td>\n",
       "      <td>14</td>\n",
       "      <td>[Software Engineer (Back End), Data Analyst, S...</td>\n",
       "    </tr>\n",
       "    <tr>\n",
       "      <th>6</th>\n",
       "      <td>JenjangKarir</td>\n",
       "      <td>object</td>\n",
       "      <td>0</td>\n",
       "      <td>0.00</td>\n",
       "      <td>3</td>\n",
       "      <td>[Freshgraduate_program, Senior_level, Mid_level]</td>\n",
       "    </tr>\n",
       "    <tr>\n",
       "      <th>7</th>\n",
       "      <td>PerformancePegawai</td>\n",
       "      <td>object</td>\n",
       "      <td>0</td>\n",
       "      <td>0.00</td>\n",
       "      <td>5</td>\n",
       "      <td>[Sangat_bagus, Sangat_kurang, Bagus, Biasa, Ku...</td>\n",
       "    </tr>\n",
       "    <tr>\n",
       "      <th>8</th>\n",
       "      <td>AsalDaerah</td>\n",
       "      <td>object</td>\n",
       "      <td>0</td>\n",
       "      <td>0.00</td>\n",
       "      <td>5</td>\n",
       "      <td>[Jakarta Timur, Jakarta Utara, Jakarta Pusat, ...</td>\n",
       "    </tr>\n",
       "    <tr>\n",
       "      <th>9</th>\n",
       "      <td>HiringPlatform</td>\n",
       "      <td>object</td>\n",
       "      <td>0</td>\n",
       "      <td>0.00</td>\n",
       "      <td>9</td>\n",
       "      <td>[Employee_Referral, Website, Indeed, LinkedIn,...</td>\n",
       "    </tr>\n",
       "    <tr>\n",
       "      <th>10</th>\n",
       "      <td>SkorSurveyEngagement</td>\n",
       "      <td>int64</td>\n",
       "      <td>0</td>\n",
       "      <td>0.00</td>\n",
       "      <td>5</td>\n",
       "      <td>[4, 3, 2, 1, 5]</td>\n",
       "    </tr>\n",
       "    <tr>\n",
       "      <th>11</th>\n",
       "      <td>SkorKepuasanPegawai</td>\n",
       "      <td>float64</td>\n",
       "      <td>5</td>\n",
       "      <td>1.74</td>\n",
       "      <td>5</td>\n",
       "      <td>[4.0, 3.0, 5.0, nan, 2.0, 1.0]</td>\n",
       "    </tr>\n",
       "    <tr>\n",
       "      <th>12</th>\n",
       "      <td>JumlahKeikutsertaanProjek</td>\n",
       "      <td>float64</td>\n",
       "      <td>3</td>\n",
       "      <td>1.05</td>\n",
       "      <td>9</td>\n",
       "      <td>[0.0, 4.0, 6.0, nan, 7.0, 3.0, 5.0, 1.0, 2.0, ...</td>\n",
       "    </tr>\n",
       "    <tr>\n",
       "      <th>13</th>\n",
       "      <td>JumlahKeterlambatanSebulanTerakhir</td>\n",
       "      <td>float64</td>\n",
       "      <td>1</td>\n",
       "      <td>0.35</td>\n",
       "      <td>7</td>\n",
       "      <td>[0.0, 4.0, 3.0, 5.0, 2.0, 6.0, 1.0, nan]</td>\n",
       "    </tr>\n",
       "    <tr>\n",
       "      <th>14</th>\n",
       "      <td>JumlahKetidakhadiran</td>\n",
       "      <td>float64</td>\n",
       "      <td>6</td>\n",
       "      <td>2.09</td>\n",
       "      <td>22</td>\n",
       "      <td>[9.0, 3.0, 11.0, 6.0, 10.0, 19.0, 4.0, 5.0, 2....</td>\n",
       "    </tr>\n",
       "    <tr>\n",
       "      <th>15</th>\n",
       "      <td>NomorHP</td>\n",
       "      <td>object</td>\n",
       "      <td>0</td>\n",
       "      <td>0.00</td>\n",
       "      <td>287</td>\n",
       "      <td>[+6282232522xxx, +6281270745xxx, +6281346215xx...</td>\n",
       "    </tr>\n",
       "    <tr>\n",
       "      <th>16</th>\n",
       "      <td>Email</td>\n",
       "      <td>object</td>\n",
       "      <td>0</td>\n",
       "      <td>0.00</td>\n",
       "      <td>287</td>\n",
       "      <td>[spiritedPorpoise3135@yahoo.com, jealousGeldin...</td>\n",
       "    </tr>\n",
       "    <tr>\n",
       "      <th>17</th>\n",
       "      <td>TingkatPendidikan</td>\n",
       "      <td>object</td>\n",
       "      <td>0</td>\n",
       "      <td>0.00</td>\n",
       "      <td>3</td>\n",
       "      <td>[Magister, Sarjana, Doktor]</td>\n",
       "    </tr>\n",
       "    <tr>\n",
       "      <th>18</th>\n",
       "      <td>PernahBekerja</td>\n",
       "      <td>object</td>\n",
       "      <td>0</td>\n",
       "      <td>0.00</td>\n",
       "      <td>2</td>\n",
       "      <td>[1, yes]</td>\n",
       "    </tr>\n",
       "    <tr>\n",
       "      <th>19</th>\n",
       "      <td>IkutProgramLOP</td>\n",
       "      <td>float64</td>\n",
       "      <td>258</td>\n",
       "      <td>89.90</td>\n",
       "      <td>2</td>\n",
       "      <td>[1.0, 0.0, nan]</td>\n",
       "    </tr>\n",
       "    <tr>\n",
       "      <th>20</th>\n",
       "      <td>AlasanResign</td>\n",
       "      <td>object</td>\n",
       "      <td>66</td>\n",
       "      <td>23.00</td>\n",
       "      <td>11</td>\n",
       "      <td>[masih_bekerja, toxic_culture, jam_kerja, gant...</td>\n",
       "    </tr>\n",
       "    <tr>\n",
       "      <th>21</th>\n",
       "      <td>TanggalLahir</td>\n",
       "      <td>object</td>\n",
       "      <td>0</td>\n",
       "      <td>0.00</td>\n",
       "      <td>284</td>\n",
       "      <td>[1972-07-01, 1984-04-26, 1974-01-07, 1979-11-2...</td>\n",
       "    </tr>\n",
       "    <tr>\n",
       "      <th>22</th>\n",
       "      <td>TanggalHiring</td>\n",
       "      <td>object</td>\n",
       "      <td>0</td>\n",
       "      <td>0.00</td>\n",
       "      <td>97</td>\n",
       "      <td>[2011-01-10, 2014-01-06, 2014-2-17, 2013-11-11...</td>\n",
       "    </tr>\n",
       "    <tr>\n",
       "      <th>23</th>\n",
       "      <td>TanggalPenilaianKaryawan</td>\n",
       "      <td>object</td>\n",
       "      <td>0</td>\n",
       "      <td>0.00</td>\n",
       "      <td>127</td>\n",
       "      <td>[2016-2-15, 2020-1-17, 2016-01-10, 2020-02-04,...</td>\n",
       "    </tr>\n",
       "    <tr>\n",
       "      <th>24</th>\n",
       "      <td>TanggalResign</td>\n",
       "      <td>object</td>\n",
       "      <td>0</td>\n",
       "      <td>0.00</td>\n",
       "      <td>53</td>\n",
       "      <td>[-, 2018-6-16, 2014-9-24, 2018-09-06, 2019-01-...</td>\n",
       "    </tr>\n",
       "  </tbody>\n",
       "</table>\n",
       "</div>"
      ],
      "text/plain": [
       "                              Username  EnterpriseID   StatusPernikahan  \\\n",
       "0                             Username        object                  0   \n",
       "1                         EnterpriseID         int64                  0   \n",
       "2                     StatusPernikahan        object                  0   \n",
       "3                         JenisKelamin        object                  0   \n",
       "4                    StatusKepegawaian        object                  0   \n",
       "5                            Pekerjaan        object                  0   \n",
       "6                         JenjangKarir        object                  0   \n",
       "7                   PerformancePegawai        object                  0   \n",
       "8                           AsalDaerah        object                  0   \n",
       "9                       HiringPlatform        object                  0   \n",
       "10                SkorSurveyEngagement         int64                  0   \n",
       "11                 SkorKepuasanPegawai       float64                  5   \n",
       "12           JumlahKeikutsertaanProjek       float64                  3   \n",
       "13  JumlahKeterlambatanSebulanTerakhir       float64                  1   \n",
       "14                JumlahKetidakhadiran       float64                  6   \n",
       "15                             NomorHP        object                  0   \n",
       "16                               Email        object                  0   \n",
       "17                   TingkatPendidikan        object                  0   \n",
       "18                       PernahBekerja        object                  0   \n",
       "19                      IkutProgramLOP       float64                258   \n",
       "20                        AlasanResign        object                 66   \n",
       "21                        TanggalLahir        object                  0   \n",
       "22                       TanggalHiring        object                  0   \n",
       "23            TanggalPenilaianKaryawan        object                  0   \n",
       "24                       TanggalResign        object                  0   \n",
       "\n",
       "     JenisKelamin   StatusKepegawaian  \\\n",
       "0            0.00                 285   \n",
       "1            0.00                 287   \n",
       "2            0.00                   5   \n",
       "3            0.00                   2   \n",
       "4            0.00                   3   \n",
       "5            0.00                  14   \n",
       "6            0.00                   3   \n",
       "7            0.00                   5   \n",
       "8            0.00                   5   \n",
       "9            0.00                   9   \n",
       "10           0.00                   5   \n",
       "11           1.74                   5   \n",
       "12           1.05                   9   \n",
       "13           0.35                   7   \n",
       "14           2.09                  22   \n",
       "15           0.00                 287   \n",
       "16           0.00                 287   \n",
       "17           0.00                   3   \n",
       "18           0.00                   2   \n",
       "19          89.90                   2   \n",
       "20          23.00                  11   \n",
       "21           0.00                 284   \n",
       "22           0.00                  97   \n",
       "23           0.00                 127   \n",
       "24           0.00                  53   \n",
       "\n",
       "                                            Pekerjaan  \n",
       "0   [spiritedPorpoise3, jealousGelding2, pluckyMue...  \n",
       "1   [111065, 106080, 106452, 106325, 111171, 10641...  \n",
       "2      [Belum_menikah, Menikah, Bercerai, Lainnya, -]  \n",
       "3                                      [Pria, Wanita]  \n",
       "4                   [Outsource, FullTime, Internship]  \n",
       "5   [Software Engineer (Back End), Data Analyst, S...  \n",
       "6    [Freshgraduate_program, Senior_level, Mid_level]  \n",
       "7   [Sangat_bagus, Sangat_kurang, Bagus, Biasa, Ku...  \n",
       "8   [Jakarta Timur, Jakarta Utara, Jakarta Pusat, ...  \n",
       "9   [Employee_Referral, Website, Indeed, LinkedIn,...  \n",
       "10                                    [4, 3, 2, 1, 5]  \n",
       "11                     [4.0, 3.0, 5.0, nan, 2.0, 1.0]  \n",
       "12  [0.0, 4.0, 6.0, nan, 7.0, 3.0, 5.0, 1.0, 2.0, ...  \n",
       "13           [0.0, 4.0, 3.0, 5.0, 2.0, 6.0, 1.0, nan]  \n",
       "14  [9.0, 3.0, 11.0, 6.0, 10.0, 19.0, 4.0, 5.0, 2....  \n",
       "15  [+6282232522xxx, +6281270745xxx, +6281346215xx...  \n",
       "16  [spiritedPorpoise3135@yahoo.com, jealousGeldin...  \n",
       "17                        [Magister, Sarjana, Doktor]  \n",
       "18                                           [1, yes]  \n",
       "19                                    [1.0, 0.0, nan]  \n",
       "20  [masih_bekerja, toxic_culture, jam_kerja, gant...  \n",
       "21  [1972-07-01, 1984-04-26, 1974-01-07, 1979-11-2...  \n",
       "22  [2011-01-10, 2014-01-06, 2014-2-17, 2013-11-11...  \n",
       "23  [2016-2-15, 2020-1-17, 2016-01-10, 2020-02-04,...  \n",
       "24  [-, 2018-6-16, 2014-9-24, 2018-09-06, 2019-01-...  "
      ]
     },
     "execution_count": 6,
     "metadata": {},
     "output_type": "execute_result"
    }
   ],
   "source": [
    "# overview\n",
    "list_item = []\n",
    "for col in df.columns:\n",
    "    list_item.append([col, df[col].dtype, df[col].isna().sum(), round(100*df[col].isna().sum()/len(df[col]), 2), df[col].nunique(), df[col].unique()[:10]])\n",
    "desc_df = pd.DataFrame(data=list_item, columns='Username, EnterpriseID, StatusPernikahan, JenisKelamin, StatusKepegawaian, Pekerjaan'.split(\",\"))\n",
    "desc_df"
   ]
  },
  {
   "cell_type": "markdown",
   "metadata": {},
   "source": [
    "Di Fitur pernah bekerja terdapat keanehan data yaitu data numerik dengan kategorikal contohnya [1, yes]"
   ]
  },
  {
   "cell_type": "code",
   "execution_count": 7,
   "metadata": {},
   "outputs": [
    {
     "data": {
      "text/plain": [
       "0"
      ]
     },
     "execution_count": 7,
     "metadata": {},
     "output_type": "execute_result"
    }
   ],
   "source": [
    "df.duplicated().sum()"
   ]
  },
  {
   "cell_type": "code",
   "execution_count": 8,
   "metadata": {},
   "outputs": [
    {
     "data": {
      "text/plain": [
       "['EnterpriseID',\n",
       " 'SkorSurveyEngagement',\n",
       " 'SkorKepuasanPegawai',\n",
       " 'JumlahKeikutsertaanProjek',\n",
       " 'JumlahKeterlambatanSebulanTerakhir',\n",
       " 'JumlahKetidakhadiran',\n",
       " 'IkutProgramLOP']"
      ]
     },
     "execution_count": 8,
     "metadata": {},
     "output_type": "execute_result"
    }
   ],
   "source": [
    "# numerikal fitur\n",
    "nums = df.loc[:, (df.dtypes == 'int64') | (df.dtypes == float)].columns.tolist()\n",
    "nums"
   ]
  },
  {
   "cell_type": "code",
   "execution_count": 9,
   "metadata": {},
   "outputs": [
    {
     "data": {
      "text/plain": [
       "['Username',\n",
       " 'StatusPernikahan',\n",
       " 'JenisKelamin',\n",
       " 'StatusKepegawaian',\n",
       " 'Pekerjaan',\n",
       " 'JenjangKarir',\n",
       " 'PerformancePegawai',\n",
       " 'AsalDaerah',\n",
       " 'HiringPlatform',\n",
       " 'NomorHP',\n",
       " 'Email',\n",
       " 'TingkatPendidikan',\n",
       " 'PernahBekerja',\n",
       " 'AlasanResign',\n",
       " 'TanggalLahir',\n",
       " 'TanggalHiring',\n",
       " 'TanggalPenilaianKaryawan',\n",
       " 'TanggalResign']"
      ]
     },
     "execution_count": 9,
     "metadata": {},
     "output_type": "execute_result"
    }
   ],
   "source": [
    "# kategorikal fitur\n",
    "cats = df.loc[:, (df.dtypes == 'object')].columns.tolist()\n",
    "cats"
   ]
  },
  {
   "cell_type": "markdown",
   "metadata": {},
   "source": [
    "## **Poin-poin Penting**\n",
    "\n",
    "**Karakteristik Data:**\n",
    "\n",
    "- Dataset terdiri dari 287 baris dan 25 fitur.\n",
    "- 7 fitur numerik dan 18 fitur kategori\n",
    "\n",
    "**Missing Value:**\n",
    "\n",
    "- Terdapat missing value pada fitur :\n",
    "    - SkorKepuasanPegawai \n",
    "    - JumlahKeikutsertaanProjek\n",
    "    - JumlahKeterlambatanSebulanTerakhir\n",
    "    - JumlahKetidakhadiran\n",
    "    - IkutProgramLOP\n",
    "    - AlasanResign\n",
    "\n",
    " **Duplikat Data:**\n",
    "- Tidak ada duplikat data dalam dataset.\n",
    "\n",
    "## Statistical Summary"
   ]
  },
  {
   "cell_type": "code",
   "execution_count": 10,
   "metadata": {},
   "outputs": [
    {
     "data": {
      "text/html": [
       "<div>\n",
       "<style scoped>\n",
       "    .dataframe tbody tr th:only-of-type {\n",
       "        vertical-align: middle;\n",
       "    }\n",
       "\n",
       "    .dataframe tbody tr th {\n",
       "        vertical-align: top;\n",
       "    }\n",
       "\n",
       "    .dataframe thead th {\n",
       "        text-align: right;\n",
       "    }\n",
       "</style>\n",
       "<table border=\"1\" class=\"dataframe\">\n",
       "  <thead>\n",
       "    <tr style=\"text-align: right;\">\n",
       "      <th></th>\n",
       "      <th>count</th>\n",
       "      <th>mean</th>\n",
       "      <th>std</th>\n",
       "      <th>min</th>\n",
       "      <th>25%</th>\n",
       "      <th>50%</th>\n",
       "      <th>75%</th>\n",
       "      <th>max</th>\n",
       "    </tr>\n",
       "  </thead>\n",
       "  <tbody>\n",
       "    <tr>\n",
       "      <th>EnterpriseID</th>\n",
       "      <td>287.0</td>\n",
       "      <td>105923.0</td>\n",
       "      <td>4045.0</td>\n",
       "      <td>100282.0</td>\n",
       "      <td>101269.0</td>\n",
       "      <td>106069.0</td>\n",
       "      <td>110514.0</td>\n",
       "      <td>111703.0</td>\n",
       "    </tr>\n",
       "    <tr>\n",
       "      <th>SkorSurveyEngagement</th>\n",
       "      <td>287.0</td>\n",
       "      <td>3.0</td>\n",
       "      <td>1.0</td>\n",
       "      <td>1.0</td>\n",
       "      <td>3.0</td>\n",
       "      <td>3.0</td>\n",
       "      <td>4.0</td>\n",
       "      <td>5.0</td>\n",
       "    </tr>\n",
       "    <tr>\n",
       "      <th>SkorKepuasanPegawai</th>\n",
       "      <td>282.0</td>\n",
       "      <td>4.0</td>\n",
       "      <td>1.0</td>\n",
       "      <td>1.0</td>\n",
       "      <td>3.0</td>\n",
       "      <td>4.0</td>\n",
       "      <td>5.0</td>\n",
       "      <td>5.0</td>\n",
       "    </tr>\n",
       "    <tr>\n",
       "      <th>JumlahKeikutsertaanProjek</th>\n",
       "      <td>284.0</td>\n",
       "      <td>1.0</td>\n",
       "      <td>2.0</td>\n",
       "      <td>0.0</td>\n",
       "      <td>0.0</td>\n",
       "      <td>0.0</td>\n",
       "      <td>0.0</td>\n",
       "      <td>8.0</td>\n",
       "    </tr>\n",
       "    <tr>\n",
       "      <th>JumlahKeterlambatanSebulanTerakhir</th>\n",
       "      <td>286.0</td>\n",
       "      <td>0.0</td>\n",
       "      <td>1.0</td>\n",
       "      <td>0.0</td>\n",
       "      <td>0.0</td>\n",
       "      <td>0.0</td>\n",
       "      <td>0.0</td>\n",
       "      <td>6.0</td>\n",
       "    </tr>\n",
       "    <tr>\n",
       "      <th>JumlahKetidakhadiran</th>\n",
       "      <td>281.0</td>\n",
       "      <td>10.0</td>\n",
       "      <td>7.0</td>\n",
       "      <td>1.0</td>\n",
       "      <td>5.0</td>\n",
       "      <td>10.0</td>\n",
       "      <td>15.0</td>\n",
       "      <td>55.0</td>\n",
       "    </tr>\n",
       "    <tr>\n",
       "      <th>IkutProgramLOP</th>\n",
       "      <td>29.0</td>\n",
       "      <td>1.0</td>\n",
       "      <td>1.0</td>\n",
       "      <td>0.0</td>\n",
       "      <td>0.0</td>\n",
       "      <td>1.0</td>\n",
       "      <td>1.0</td>\n",
       "      <td>1.0</td>\n",
       "    </tr>\n",
       "  </tbody>\n",
       "</table>\n",
       "</div>"
      ],
      "text/plain": [
       "                                    count      mean     std       min  \\\n",
       "EnterpriseID                        287.0  105923.0  4045.0  100282.0   \n",
       "SkorSurveyEngagement                287.0       3.0     1.0       1.0   \n",
       "SkorKepuasanPegawai                 282.0       4.0     1.0       1.0   \n",
       "JumlahKeikutsertaanProjek           284.0       1.0     2.0       0.0   \n",
       "JumlahKeterlambatanSebulanTerakhir  286.0       0.0     1.0       0.0   \n",
       "JumlahKetidakhadiran                281.0      10.0     7.0       1.0   \n",
       "IkutProgramLOP                       29.0       1.0     1.0       0.0   \n",
       "\n",
       "                                         25%       50%       75%       max  \n",
       "EnterpriseID                        101269.0  106069.0  110514.0  111703.0  \n",
       "SkorSurveyEngagement                     3.0       3.0       4.0       5.0  \n",
       "SkorKepuasanPegawai                      3.0       4.0       5.0       5.0  \n",
       "JumlahKeikutsertaanProjek                0.0       0.0       0.0       8.0  \n",
       "JumlahKeterlambatanSebulanTerakhir       0.0       0.0       0.0       6.0  \n",
       "JumlahKetidakhadiran                     5.0      10.0      15.0      55.0  \n",
       "IkutProgramLOP                           0.0       1.0       1.0       1.0  "
      ]
     },
     "execution_count": 10,
     "metadata": {},
     "output_type": "execute_result"
    }
   ],
   "source": [
    "df[nums].describe().round(0).T"
   ]
  },
  {
   "cell_type": "markdown",
   "metadata": {},
   "source": [
    "**Key Takeaways:**\n",
    "\n",
    "- Dilihat dari nilai mean dan median yang tidak begitu jauh nilainya, distribusi data cenderung mendekati normal\n",
    "- Mayoritas karyawan memiliki **SkorSurveyEngagement 3.0 dari 5.0**\n",
    "- Mayoritas karyawan memiliki **SkorKepuasanPegawai 4.0 dari 5.0**\n",
    "- Mayoritas karyawan memiliki **JumlahKeikutsertaanProjek 0.0 dari 8.0**\n",
    "- Mayoritas karyawan memiliki **JumlahKeterlambatanSebulanTerakhir\t0.0 dari 6.0**\n",
    "- Mayoritas karyawan memiliki **JumlahKetidakhadiran 10.0 dari 55.0**\n",
    "- Mayoritas karyawan memiliki **IkutProgramLOP 1.0 dari 1.0 dari jumlah karyawan yang totalnya 287 yang hanya mengisi 29**\n",
    "\n",
    "**Penjelasan**\n",
    "- Jika mayoritas karyawan memiliki **Skor Survey Engagement sebesar 3.0 dari 5.0**, hal ini menunjukkan adanya tingkat keterlibatan yang cenderung rata-rata. \n",
    "- Jika **Skor Kepuasan Pegawai sebesar 4.0 dari 5.0**, itu menunjukkan bahwa mayoritas pegawai merasa cukup puas dengan kondisi dan pengalaman mereka di perusahaan. Meskipun sudah mencapai tingkat kepuasan yang baik, perusahaan dapat tetap mengambil langkah-langkah untuk mempertahankan dan meningkatkan kepuasan pegawai\n",
    "- Jika mayoritas karyawan memiliki Jumlah **Keikutsertaan Projek sebesar 0.0 dari 8.0**, ini mungkin menunjukkan bahwa karyawan tidak terlibat dalam proyek-proyek perusahaan atau memiliki tingkat partisipasi yang sangat rendah. Situasi ini dapat memiliki dampak negatif pada motivasi, pengembangan keterampilan, dan rasa kepemilikan terhadap pekerjaan.\n",
    "- Jika mayoritas karyawan memiliki **Jumlah Keterlambatan sebesar 0.0 dari 6.0**, itu menunjukkan bahwa sebagian besar karyawan memiliki rekam jejak kehadiran yang baik dan jarang mengalami keterlambatan. Ini bisa diartikan sebagai indikator positif terhadap disiplin dan keteraturan karyawan dalam memenuhi kewajiban mereka terkait waktu kerja. Walaupun demikian, tetap diperlukan pemantauan dan tindakan yang proaktif untuk memastikan bahwa keadaan ini tetap terjaga.\n",
    "- Jika mayoritas karyawan memiliki **Jumlah Ketidakhadiran sebesar 10.0 dari 55.0**, ini menunjukkan bahwa ada sejumlah tingkat ketidakhadiran di antara karyawan yang mungkin memerlukan perhatian lebih lanjut. Ketidakhadiran dapat memiliki dampak negatif pada produktivitas dan kinerja perusahaan secara keseluruhan. \n",
    "- Jika mayoritas dari karyawan, yang jumlahnya total 287 namun hanya 29 yang mengisi, memiliki Skor Ikut Program Loyalitas dan Organisasi (LOP) sebesar 1.0 dari 1.0, hal ini menunjukkan bahwa karyawan yang telah mengisi survei sangat positif terhadap dan berpartisipasi dalam program LOP yang ditawarkan oleh perusahaan. Meskipun jumlah responden relatif kecil dibandingkan dengan jumlah total karyawan, skor penuh menunjukkan tingkat kepuasan yang tinggi terhadap program tersebut. "
   ]
  },
  {
   "cell_type": "code",
   "execution_count": 11,
   "metadata": {},
   "outputs": [
    {
     "data": {
      "text/html": [
       "<div>\n",
       "<style scoped>\n",
       "    .dataframe tbody tr th:only-of-type {\n",
       "        vertical-align: middle;\n",
       "    }\n",
       "\n",
       "    .dataframe tbody tr th {\n",
       "        vertical-align: top;\n",
       "    }\n",
       "\n",
       "    .dataframe thead th {\n",
       "        text-align: right;\n",
       "    }\n",
       "</style>\n",
       "<table border=\"1\" class=\"dataframe\">\n",
       "  <thead>\n",
       "    <tr style=\"text-align: right;\">\n",
       "      <th></th>\n",
       "      <th>count</th>\n",
       "      <th>unique</th>\n",
       "      <th>top</th>\n",
       "      <th>freq</th>\n",
       "    </tr>\n",
       "  </thead>\n",
       "  <tbody>\n",
       "    <tr>\n",
       "      <th>Username</th>\n",
       "      <td>287</td>\n",
       "      <td>285</td>\n",
       "      <td>boredEggs0</td>\n",
       "      <td>2</td>\n",
       "    </tr>\n",
       "    <tr>\n",
       "      <th>StatusPernikahan</th>\n",
       "      <td>287</td>\n",
       "      <td>5</td>\n",
       "      <td>Belum_menikah</td>\n",
       "      <td>132</td>\n",
       "    </tr>\n",
       "    <tr>\n",
       "      <th>JenisKelamin</th>\n",
       "      <td>287</td>\n",
       "      <td>2</td>\n",
       "      <td>Wanita</td>\n",
       "      <td>167</td>\n",
       "    </tr>\n",
       "    <tr>\n",
       "      <th>StatusKepegawaian</th>\n",
       "      <td>287</td>\n",
       "      <td>3</td>\n",
       "      <td>FullTime</td>\n",
       "      <td>217</td>\n",
       "    </tr>\n",
       "    <tr>\n",
       "      <th>Pekerjaan</th>\n",
       "      <td>287</td>\n",
       "      <td>14</td>\n",
       "      <td>Software Engineer (Back End)</td>\n",
       "      <td>109</td>\n",
       "    </tr>\n",
       "    <tr>\n",
       "      <th>JenjangKarir</th>\n",
       "      <td>287</td>\n",
       "      <td>3</td>\n",
       "      <td>Freshgraduate_program</td>\n",
       "      <td>169</td>\n",
       "    </tr>\n",
       "    <tr>\n",
       "      <th>PerformancePegawai</th>\n",
       "      <td>287</td>\n",
       "      <td>5</td>\n",
       "      <td>Biasa</td>\n",
       "      <td>85</td>\n",
       "    </tr>\n",
       "    <tr>\n",
       "      <th>AsalDaerah</th>\n",
       "      <td>287</td>\n",
       "      <td>5</td>\n",
       "      <td>Jakarta Pusat</td>\n",
       "      <td>72</td>\n",
       "    </tr>\n",
       "    <tr>\n",
       "      <th>HiringPlatform</th>\n",
       "      <td>287</td>\n",
       "      <td>9</td>\n",
       "      <td>Indeed</td>\n",
       "      <td>85</td>\n",
       "    </tr>\n",
       "    <tr>\n",
       "      <th>NomorHP</th>\n",
       "      <td>287</td>\n",
       "      <td>287</td>\n",
       "      <td>+6282232522xxx</td>\n",
       "      <td>1</td>\n",
       "    </tr>\n",
       "    <tr>\n",
       "      <th>Email</th>\n",
       "      <td>287</td>\n",
       "      <td>287</td>\n",
       "      <td>spiritedPorpoise3135@yahoo.com</td>\n",
       "      <td>1</td>\n",
       "    </tr>\n",
       "    <tr>\n",
       "      <th>TingkatPendidikan</th>\n",
       "      <td>287</td>\n",
       "      <td>3</td>\n",
       "      <td>Sarjana</td>\n",
       "      <td>176</td>\n",
       "    </tr>\n",
       "    <tr>\n",
       "      <th>PernahBekerja</th>\n",
       "      <td>287</td>\n",
       "      <td>2</td>\n",
       "      <td>1</td>\n",
       "      <td>286</td>\n",
       "    </tr>\n",
       "    <tr>\n",
       "      <th>AlasanResign</th>\n",
       "      <td>221</td>\n",
       "      <td>11</td>\n",
       "      <td>masih_bekerja</td>\n",
       "      <td>132</td>\n",
       "    </tr>\n",
       "    <tr>\n",
       "      <th>TanggalLahir</th>\n",
       "      <td>287</td>\n",
       "      <td>284</td>\n",
       "      <td>1987-06-14</td>\n",
       "      <td>2</td>\n",
       "    </tr>\n",
       "    <tr>\n",
       "      <th>TanggalHiring</th>\n",
       "      <td>287</td>\n",
       "      <td>97</td>\n",
       "      <td>2011-01-10</td>\n",
       "      <td>12</td>\n",
       "    </tr>\n",
       "    <tr>\n",
       "      <th>TanggalPenilaianKaryawan</th>\n",
       "      <td>287</td>\n",
       "      <td>127</td>\n",
       "      <td>2020-1-14</td>\n",
       "      <td>17</td>\n",
       "    </tr>\n",
       "    <tr>\n",
       "      <th>TanggalResign</th>\n",
       "      <td>287</td>\n",
       "      <td>53</td>\n",
       "      <td>-</td>\n",
       "      <td>198</td>\n",
       "    </tr>\n",
       "  </tbody>\n",
       "</table>\n",
       "</div>"
      ],
      "text/plain": [
       "                         count unique                             top freq\n",
       "Username                   287    285                      boredEggs0    2\n",
       "StatusPernikahan           287      5                   Belum_menikah  132\n",
       "JenisKelamin               287      2                          Wanita  167\n",
       "StatusKepegawaian          287      3                        FullTime  217\n",
       "Pekerjaan                  287     14    Software Engineer (Back End)  109\n",
       "JenjangKarir               287      3           Freshgraduate_program  169\n",
       "PerformancePegawai         287      5                           Biasa   85\n",
       "AsalDaerah                 287      5                   Jakarta Pusat   72\n",
       "HiringPlatform             287      9                          Indeed   85\n",
       "NomorHP                    287    287                  +6282232522xxx    1\n",
       "Email                      287    287  spiritedPorpoise3135@yahoo.com    1\n",
       "TingkatPendidikan          287      3                         Sarjana  176\n",
       "PernahBekerja              287      2                               1  286\n",
       "AlasanResign               221     11                   masih_bekerja  132\n",
       "TanggalLahir               287    284                      1987-06-14    2\n",
       "TanggalHiring              287     97                      2011-01-10   12\n",
       "TanggalPenilaianKaryawan   287    127                       2020-1-14   17\n",
       "TanggalResign              287     53                               -  198"
      ]
     },
     "execution_count": 11,
     "metadata": {},
     "output_type": "execute_result"
    }
   ],
   "source": [
    "df[cats].describe().T"
   ]
  },
  {
   "cell_type": "markdown",
   "metadata": {},
   "source": [
    "Berikut adalah simpulan singkat dari data yang disediakan:\n",
    "\n",
    "1. **Username:**\n",
    "    - Terdapat 287 entri, dengan 285 nama pengguna unik.\n",
    "    - Nama pengguna 'boredEggs0' muncul 2 kali.\n",
    "\n",
    "2. **Status Pernikahan:**\n",
    "    - Ada 5 status pernikahan yang berbeda.\n",
    "    - Mayoritas karyawan (132) belum menikah.\n",
    "\n",
    "3. **Jenis Kelamin:**\n",
    "    - Terdapat dua jenis kelamin, dengan mayoritas karyawan (167) adalah wanita.\n",
    "\n",
    "4. **Status Kepegawaian:**\n",
    "    - Ada 3 status kepegawaian, dengan mayoritas karyawan (217) bekerja sebagai karyawan penuh waktu (FullTime).\n",
    "\n",
    "5. **Pekerjaan:**\n",
    "    - Terdapat 14 jenis pekerjaan berbeda.\n",
    "    - Posisi Software Engineer (Back End) paling banyak diisi, dengan 109 karyawan.\n",
    "\n",
    "6. **Jenjang Karir:**\n",
    "    - Ada 3 jenjang karir yang berbeda.\n",
    "    - Mayoritas karyawan (169) berada pada jenjang Freshgraduate_program.\n",
    "\n",
    "7. Performance Pegawai:\n",
    "    - Terdapat 5 level performa pegawai.\n",
    "    - Mayoritas karyawan (85) memiliki performa biasa.\n",
    "\n",
    "8. **Asal Daerah:**\n",
    "    - Ada 5 asal daerah yang berbeda.\n",
    "    - Jakarta Pusat merupakan asal daerah mayoritas dengan 72 karyawan.\n",
    "\n",
    "9. **Hiring Platform:**\n",
    "    - Terdapat 9 platform perekrutan yang berbeda.\n",
    "    - Indeed adalah platform perekrutan yang paling sering digunakan oleh karyawan (85 kali).\n",
    "\n",
    "10. **Nomor HP dan Email:**\n",
    "    - Setiap karyawan memiliki nomor HP dan alamat email yang unik.\n",
    "\n",
    "11. **Tingkat Pendidikan:**\n",
    "    - Ada 3 tingkat pendidikan yang berbeda.\n",
    "    - Mayoritas karyawan (176) memiliki gelar Sarjana.\n",
    "\n",
    "12. **Pernah Bekerja:**\n",
    "    - Mayoritas karyawan (286 dari 287) telah bekerja sebelumnya.\n",
    "\n",
    "13. **Alasan Resign:**\n",
    "    - Terdapat 11 alasan resign yang berbeda.\n",
    "    - Alasan resign paling umum adalah masih bekerja (132 karyawan).\n",
    "\n",
    "14. **Tanggal Lahir:**\n",
    "    - Terdapat 287 tanggal lahir yang berbeda, dengan beberapa tanggal lahir yang sama muncul 2 kali.\n",
    "\n",
    "15. **Tanggal Hiring:**\n",
    "    - Terdapat 97 tanggal hiring yang berbeda, dengan beberapa tanggal hiring yang muncul 12 kali.\n",
    "\n",
    "16. **Tanggal Penilaian Karyawan:**\n",
    "    - Terdapat 127 tanggal penilaian karyawan yang berbeda, dengan beberapa tanggal penilaian yang muncul 17 kali.\n",
    "\n",
    "17. **Tanggal Resign:**\n",
    "    - Terdapat 53 tanggal resign yang berbeda, dengan mayoritas (198 kali) tidak memiliki tanggal resign yang diisi (-).\n",
    "\n",
    "## Data preprocessing\n",
    "Sebelum memulai pemrosesan data, tahap paling awal yang harus dilakukan adalah mempersiapkan data mentah menjadi data yang bersih dan siap diolah. Kamu harus melakukan data preprocessing, yakni menangani berbagai permasalahan data seperti data yang kosong, data yang tidak sesuai, hingga mengidentifikasi data-data yang tidak dibutuhkan."
   ]
  },
  {
   "cell_type": "code",
   "execution_count": 12,
   "metadata": {},
   "outputs": [],
   "source": [
    "#Mengatasi data null \n",
    "df['SkorKepuasanPegawai'].fillna(df['SkorKepuasanPegawai'].median(), inplace=True)\n",
    "df['JumlahKeikutsertaanProjek'].fillna(df['JumlahKeikutsertaanProjek'].mean(), inplace=True)\n",
    "df['JumlahKeterlambatanSebulanTerakhir'].fillna(df['JumlahKeterlambatanSebulanTerakhir'].mean(), inplace=True)\n",
    "df['JumlahKetidakhadiran'].fillna(df['JumlahKetidakhadiran'].median(), inplace=True)\n",
    "df['IkutProgramLOP'].fillna(df['IkutProgramLOP'].mode()[0], inplace=True)\n",
    "df['AlasanResign'].fillna('Tidak Diketahui', inplace=True)"
   ]
  },
  {
   "cell_type": "code",
   "execution_count": 13,
   "metadata": {},
   "outputs": [
    {
     "name": "stdout",
     "output_type": "stream",
     "text": [
      "<class 'pandas.core.frame.DataFrame'>\n",
      "RangeIndex: 287 entries, 0 to 286\n",
      "Data columns (total 25 columns):\n",
      " #   Column                              Non-Null Count  Dtype  \n",
      "---  ------                              --------------  -----  \n",
      " 0   Username                            287 non-null    object \n",
      " 1   EnterpriseID                        287 non-null    int64  \n",
      " 2   StatusPernikahan                    287 non-null    object \n",
      " 3   JenisKelamin                        287 non-null    object \n",
      " 4   StatusKepegawaian                   287 non-null    object \n",
      " 5   Pekerjaan                           287 non-null    object \n",
      " 6   JenjangKarir                        287 non-null    object \n",
      " 7   PerformancePegawai                  287 non-null    object \n",
      " 8   AsalDaerah                          287 non-null    object \n",
      " 9   HiringPlatform                      287 non-null    object \n",
      " 10  SkorSurveyEngagement                287 non-null    int64  \n",
      " 11  SkorKepuasanPegawai                 287 non-null    float64\n",
      " 12  JumlahKeikutsertaanProjek           287 non-null    float64\n",
      " 13  JumlahKeterlambatanSebulanTerakhir  287 non-null    float64\n",
      " 14  JumlahKetidakhadiran                287 non-null    float64\n",
      " 15  NomorHP                             287 non-null    object \n",
      " 16  Email                               287 non-null    object \n",
      " 17  TingkatPendidikan                   287 non-null    object \n",
      " 18  PernahBekerja                       287 non-null    object \n",
      " 19  IkutProgramLOP                      287 non-null    float64\n",
      " 20  AlasanResign                        287 non-null    object \n",
      " 21  TanggalLahir                        287 non-null    object \n",
      " 22  TanggalHiring                       287 non-null    object \n",
      " 23  TanggalPenilaianKaryawan            287 non-null    object \n",
      " 24  TanggalResign                       287 non-null    object \n",
      "dtypes: float64(5), int64(2), object(18)\n",
      "memory usage: 56.2+ KB\n"
     ]
    }
   ],
   "source": [
    "df.info()"
   ]
  },
  {
   "cell_type": "code",
   "execution_count": 14,
   "metadata": {},
   "outputs": [
    {
     "data": {
      "text/html": [
       "<div>\n",
       "<style scoped>\n",
       "    .dataframe tbody tr th:only-of-type {\n",
       "        vertical-align: middle;\n",
       "    }\n",
       "\n",
       "    .dataframe tbody tr th {\n",
       "        vertical-align: top;\n",
       "    }\n",
       "\n",
       "    .dataframe thead th {\n",
       "        text-align: right;\n",
       "    }\n",
       "</style>\n",
       "<table border=\"1\" class=\"dataframe\">\n",
       "  <thead>\n",
       "    <tr style=\"text-align: right;\">\n",
       "      <th></th>\n",
       "      <th>Username</th>\n",
       "      <th>EnterpriseID</th>\n",
       "      <th>StatusPernikahan</th>\n",
       "      <th>JenisKelamin</th>\n",
       "      <th>StatusKepegawaian</th>\n",
       "      <th>Pekerjaan</th>\n",
       "    </tr>\n",
       "  </thead>\n",
       "  <tbody>\n",
       "    <tr>\n",
       "      <th>0</th>\n",
       "      <td>Username</td>\n",
       "      <td>object</td>\n",
       "      <td>0</td>\n",
       "      <td>0.0</td>\n",
       "      <td>285</td>\n",
       "      <td>[spiritedPorpoise3, jealousGelding2, pluckyMue...</td>\n",
       "    </tr>\n",
       "    <tr>\n",
       "      <th>1</th>\n",
       "      <td>EnterpriseID</td>\n",
       "      <td>int64</td>\n",
       "      <td>0</td>\n",
       "      <td>0.0</td>\n",
       "      <td>287</td>\n",
       "      <td>[111065, 106080, 106452, 106325, 111171, 10641...</td>\n",
       "    </tr>\n",
       "    <tr>\n",
       "      <th>2</th>\n",
       "      <td>StatusPernikahan</td>\n",
       "      <td>object</td>\n",
       "      <td>0</td>\n",
       "      <td>0.0</td>\n",
       "      <td>5</td>\n",
       "      <td>[Belum_menikah, Menikah, Bercerai, Lainnya, -]</td>\n",
       "    </tr>\n",
       "    <tr>\n",
       "      <th>3</th>\n",
       "      <td>JenisKelamin</td>\n",
       "      <td>object</td>\n",
       "      <td>0</td>\n",
       "      <td>0.0</td>\n",
       "      <td>2</td>\n",
       "      <td>[Pria, Wanita]</td>\n",
       "    </tr>\n",
       "    <tr>\n",
       "      <th>4</th>\n",
       "      <td>StatusKepegawaian</td>\n",
       "      <td>object</td>\n",
       "      <td>0</td>\n",
       "      <td>0.0</td>\n",
       "      <td>3</td>\n",
       "      <td>[Outsource, FullTime, Internship]</td>\n",
       "    </tr>\n",
       "    <tr>\n",
       "      <th>5</th>\n",
       "      <td>Pekerjaan</td>\n",
       "      <td>object</td>\n",
       "      <td>0</td>\n",
       "      <td>0.0</td>\n",
       "      <td>14</td>\n",
       "      <td>[Software Engineer (Back End), Data Analyst, S...</td>\n",
       "    </tr>\n",
       "    <tr>\n",
       "      <th>6</th>\n",
       "      <td>JenjangKarir</td>\n",
       "      <td>object</td>\n",
       "      <td>0</td>\n",
       "      <td>0.0</td>\n",
       "      <td>3</td>\n",
       "      <td>[Freshgraduate_program, Senior_level, Mid_level]</td>\n",
       "    </tr>\n",
       "    <tr>\n",
       "      <th>7</th>\n",
       "      <td>PerformancePegawai</td>\n",
       "      <td>object</td>\n",
       "      <td>0</td>\n",
       "      <td>0.0</td>\n",
       "      <td>5</td>\n",
       "      <td>[Sangat_bagus, Sangat_kurang, Bagus, Biasa, Ku...</td>\n",
       "    </tr>\n",
       "    <tr>\n",
       "      <th>8</th>\n",
       "      <td>AsalDaerah</td>\n",
       "      <td>object</td>\n",
       "      <td>0</td>\n",
       "      <td>0.0</td>\n",
       "      <td>5</td>\n",
       "      <td>[Jakarta Timur, Jakarta Utara, Jakarta Pusat, ...</td>\n",
       "    </tr>\n",
       "    <tr>\n",
       "      <th>9</th>\n",
       "      <td>HiringPlatform</td>\n",
       "      <td>object</td>\n",
       "      <td>0</td>\n",
       "      <td>0.0</td>\n",
       "      <td>9</td>\n",
       "      <td>[Employee_Referral, Website, Indeed, LinkedIn,...</td>\n",
       "    </tr>\n",
       "    <tr>\n",
       "      <th>10</th>\n",
       "      <td>SkorSurveyEngagement</td>\n",
       "      <td>int64</td>\n",
       "      <td>0</td>\n",
       "      <td>0.0</td>\n",
       "      <td>5</td>\n",
       "      <td>[4, 3, 2, 1, 5]</td>\n",
       "    </tr>\n",
       "    <tr>\n",
       "      <th>11</th>\n",
       "      <td>SkorKepuasanPegawai</td>\n",
       "      <td>float64</td>\n",
       "      <td>0</td>\n",
       "      <td>0.0</td>\n",
       "      <td>5</td>\n",
       "      <td>[4.0, 3.0, 5.0, 2.0, 1.0]</td>\n",
       "    </tr>\n",
       "    <tr>\n",
       "      <th>12</th>\n",
       "      <td>JumlahKeikutsertaanProjek</td>\n",
       "      <td>float64</td>\n",
       "      <td>0</td>\n",
       "      <td>0.0</td>\n",
       "      <td>10</td>\n",
       "      <td>[0.0, 4.0, 6.0, 1.1795774647887325, 7.0, 3.0, ...</td>\n",
       "    </tr>\n",
       "    <tr>\n",
       "      <th>13</th>\n",
       "      <td>JumlahKeterlambatanSebulanTerakhir</td>\n",
       "      <td>float64</td>\n",
       "      <td>0</td>\n",
       "      <td>0.0</td>\n",
       "      <td>8</td>\n",
       "      <td>[0.0, 4.0, 3.0, 5.0, 2.0, 6.0, 1.0, 0.41258741...</td>\n",
       "    </tr>\n",
       "    <tr>\n",
       "      <th>14</th>\n",
       "      <td>JumlahKetidakhadiran</td>\n",
       "      <td>float64</td>\n",
       "      <td>0</td>\n",
       "      <td>0.0</td>\n",
       "      <td>22</td>\n",
       "      <td>[9.0, 3.0, 11.0, 6.0, 10.0, 19.0, 4.0, 5.0, 2....</td>\n",
       "    </tr>\n",
       "    <tr>\n",
       "      <th>15</th>\n",
       "      <td>NomorHP</td>\n",
       "      <td>object</td>\n",
       "      <td>0</td>\n",
       "      <td>0.0</td>\n",
       "      <td>287</td>\n",
       "      <td>[+6282232522xxx, +6281270745xxx, +6281346215xx...</td>\n",
       "    </tr>\n",
       "    <tr>\n",
       "      <th>16</th>\n",
       "      <td>Email</td>\n",
       "      <td>object</td>\n",
       "      <td>0</td>\n",
       "      <td>0.0</td>\n",
       "      <td>287</td>\n",
       "      <td>[spiritedPorpoise3135@yahoo.com, jealousGeldin...</td>\n",
       "    </tr>\n",
       "    <tr>\n",
       "      <th>17</th>\n",
       "      <td>TingkatPendidikan</td>\n",
       "      <td>object</td>\n",
       "      <td>0</td>\n",
       "      <td>0.0</td>\n",
       "      <td>3</td>\n",
       "      <td>[Magister, Sarjana, Doktor]</td>\n",
       "    </tr>\n",
       "    <tr>\n",
       "      <th>18</th>\n",
       "      <td>PernahBekerja</td>\n",
       "      <td>object</td>\n",
       "      <td>0</td>\n",
       "      <td>0.0</td>\n",
       "      <td>2</td>\n",
       "      <td>[1, yes]</td>\n",
       "    </tr>\n",
       "    <tr>\n",
       "      <th>19</th>\n",
       "      <td>IkutProgramLOP</td>\n",
       "      <td>float64</td>\n",
       "      <td>0</td>\n",
       "      <td>0.0</td>\n",
       "      <td>2</td>\n",
       "      <td>[1.0, 0.0]</td>\n",
       "    </tr>\n",
       "    <tr>\n",
       "      <th>20</th>\n",
       "      <td>AlasanResign</td>\n",
       "      <td>object</td>\n",
       "      <td>0</td>\n",
       "      <td>0.0</td>\n",
       "      <td>12</td>\n",
       "      <td>[masih_bekerja, toxic_culture, jam_kerja, gant...</td>\n",
       "    </tr>\n",
       "    <tr>\n",
       "      <th>21</th>\n",
       "      <td>TanggalLahir</td>\n",
       "      <td>object</td>\n",
       "      <td>0</td>\n",
       "      <td>0.0</td>\n",
       "      <td>284</td>\n",
       "      <td>[1972-07-01, 1984-04-26, 1974-01-07, 1979-11-2...</td>\n",
       "    </tr>\n",
       "    <tr>\n",
       "      <th>22</th>\n",
       "      <td>TanggalHiring</td>\n",
       "      <td>object</td>\n",
       "      <td>0</td>\n",
       "      <td>0.0</td>\n",
       "      <td>97</td>\n",
       "      <td>[2011-01-10, 2014-01-06, 2014-2-17, 2013-11-11...</td>\n",
       "    </tr>\n",
       "    <tr>\n",
       "      <th>23</th>\n",
       "      <td>TanggalPenilaianKaryawan</td>\n",
       "      <td>object</td>\n",
       "      <td>0</td>\n",
       "      <td>0.0</td>\n",
       "      <td>127</td>\n",
       "      <td>[2016-2-15, 2020-1-17, 2016-01-10, 2020-02-04,...</td>\n",
       "    </tr>\n",
       "    <tr>\n",
       "      <th>24</th>\n",
       "      <td>TanggalResign</td>\n",
       "      <td>object</td>\n",
       "      <td>0</td>\n",
       "      <td>0.0</td>\n",
       "      <td>53</td>\n",
       "      <td>[-, 2018-6-16, 2014-9-24, 2018-09-06, 2019-01-...</td>\n",
       "    </tr>\n",
       "  </tbody>\n",
       "</table>\n",
       "</div>"
      ],
      "text/plain": [
       "                              Username  EnterpriseID   StatusPernikahan  \\\n",
       "0                             Username        object                  0   \n",
       "1                         EnterpriseID         int64                  0   \n",
       "2                     StatusPernikahan        object                  0   \n",
       "3                         JenisKelamin        object                  0   \n",
       "4                    StatusKepegawaian        object                  0   \n",
       "5                            Pekerjaan        object                  0   \n",
       "6                         JenjangKarir        object                  0   \n",
       "7                   PerformancePegawai        object                  0   \n",
       "8                           AsalDaerah        object                  0   \n",
       "9                       HiringPlatform        object                  0   \n",
       "10                SkorSurveyEngagement         int64                  0   \n",
       "11                 SkorKepuasanPegawai       float64                  0   \n",
       "12           JumlahKeikutsertaanProjek       float64                  0   \n",
       "13  JumlahKeterlambatanSebulanTerakhir       float64                  0   \n",
       "14                JumlahKetidakhadiran       float64                  0   \n",
       "15                             NomorHP        object                  0   \n",
       "16                               Email        object                  0   \n",
       "17                   TingkatPendidikan        object                  0   \n",
       "18                       PernahBekerja        object                  0   \n",
       "19                      IkutProgramLOP       float64                  0   \n",
       "20                        AlasanResign        object                  0   \n",
       "21                        TanggalLahir        object                  0   \n",
       "22                       TanggalHiring        object                  0   \n",
       "23            TanggalPenilaianKaryawan        object                  0   \n",
       "24                       TanggalResign        object                  0   \n",
       "\n",
       "     JenisKelamin   StatusKepegawaian  \\\n",
       "0             0.0                 285   \n",
       "1             0.0                 287   \n",
       "2             0.0                   5   \n",
       "3             0.0                   2   \n",
       "4             0.0                   3   \n",
       "5             0.0                  14   \n",
       "6             0.0                   3   \n",
       "7             0.0                   5   \n",
       "8             0.0                   5   \n",
       "9             0.0                   9   \n",
       "10            0.0                   5   \n",
       "11            0.0                   5   \n",
       "12            0.0                  10   \n",
       "13            0.0                   8   \n",
       "14            0.0                  22   \n",
       "15            0.0                 287   \n",
       "16            0.0                 287   \n",
       "17            0.0                   3   \n",
       "18            0.0                   2   \n",
       "19            0.0                   2   \n",
       "20            0.0                  12   \n",
       "21            0.0                 284   \n",
       "22            0.0                  97   \n",
       "23            0.0                 127   \n",
       "24            0.0                  53   \n",
       "\n",
       "                                            Pekerjaan  \n",
       "0   [spiritedPorpoise3, jealousGelding2, pluckyMue...  \n",
       "1   [111065, 106080, 106452, 106325, 111171, 10641...  \n",
       "2      [Belum_menikah, Menikah, Bercerai, Lainnya, -]  \n",
       "3                                      [Pria, Wanita]  \n",
       "4                   [Outsource, FullTime, Internship]  \n",
       "5   [Software Engineer (Back End), Data Analyst, S...  \n",
       "6    [Freshgraduate_program, Senior_level, Mid_level]  \n",
       "7   [Sangat_bagus, Sangat_kurang, Bagus, Biasa, Ku...  \n",
       "8   [Jakarta Timur, Jakarta Utara, Jakarta Pusat, ...  \n",
       "9   [Employee_Referral, Website, Indeed, LinkedIn,...  \n",
       "10                                    [4, 3, 2, 1, 5]  \n",
       "11                          [4.0, 3.0, 5.0, 2.0, 1.0]  \n",
       "12  [0.0, 4.0, 6.0, 1.1795774647887325, 7.0, 3.0, ...  \n",
       "13  [0.0, 4.0, 3.0, 5.0, 2.0, 6.0, 1.0, 0.41258741...  \n",
       "14  [9.0, 3.0, 11.0, 6.0, 10.0, 19.0, 4.0, 5.0, 2....  \n",
       "15  [+6282232522xxx, +6281270745xxx, +6281346215xx...  \n",
       "16  [spiritedPorpoise3135@yahoo.com, jealousGeldin...  \n",
       "17                        [Magister, Sarjana, Doktor]  \n",
       "18                                           [1, yes]  \n",
       "19                                         [1.0, 0.0]  \n",
       "20  [masih_bekerja, toxic_culture, jam_kerja, gant...  \n",
       "21  [1972-07-01, 1984-04-26, 1974-01-07, 1979-11-2...  \n",
       "22  [2011-01-10, 2014-01-06, 2014-2-17, 2013-11-11...  \n",
       "23  [2016-2-15, 2020-1-17, 2016-01-10, 2020-02-04,...  \n",
       "24  [-, 2018-6-16, 2014-9-24, 2018-09-06, 2019-01-...  "
      ]
     },
     "execution_count": 14,
     "metadata": {},
     "output_type": "execute_result"
    }
   ],
   "source": [
    "# overview\n",
    "list_item = []\n",
    "for col in df.columns:\n",
    "    list_item.append([col, df[col].dtype, df[col].isna().sum(), round(100*df[col].isna().sum()/len(df[col]), 2), df[col].nunique(), df[col].unique()[:10]])\n",
    "desc_df = pd.DataFrame(data=list_item, columns='Username, EnterpriseID, StatusPernikahan, JenisKelamin, StatusKepegawaian, Pekerjaan'.split(\",\"))\n",
    "desc_df"
   ]
  },
  {
   "cell_type": "code",
   "execution_count": 15,
   "metadata": {},
   "outputs": [],
   "source": [
    "# Menghapus kolom \"nomorhp\" karena memiliki satu unique value\n",
    "df.drop(\"NomorHP\", axis=1, inplace=True)\n",
    "\n",
    "# Menghapus kolom \"email\" karena memiliki satu unique value\n",
    "df.drop(\"Email\", axis=1, inplace=True)"
   ]
  },
  {
   "cell_type": "code",
   "execution_count": 16,
   "metadata": {},
   "outputs": [
    {
     "name": "stdout",
     "output_type": "stream",
     "text": [
      "<class 'pandas.core.frame.DataFrame'>\n",
      "RangeIndex: 287 entries, 0 to 286\n",
      "Data columns (total 23 columns):\n",
      " #   Column                              Non-Null Count  Dtype  \n",
      "---  ------                              --------------  -----  \n",
      " 0   Username                            287 non-null    object \n",
      " 1   EnterpriseID                        287 non-null    int64  \n",
      " 2   StatusPernikahan                    287 non-null    object \n",
      " 3   JenisKelamin                        287 non-null    object \n",
      " 4   StatusKepegawaian                   287 non-null    object \n",
      " 5   Pekerjaan                           287 non-null    object \n",
      " 6   JenjangKarir                        287 non-null    object \n",
      " 7   PerformancePegawai                  287 non-null    object \n",
      " 8   AsalDaerah                          287 non-null    object \n",
      " 9   HiringPlatform                      287 non-null    object \n",
      " 10  SkorSurveyEngagement                287 non-null    int64  \n",
      " 11  SkorKepuasanPegawai                 287 non-null    float64\n",
      " 12  JumlahKeikutsertaanProjek           287 non-null    float64\n",
      " 13  JumlahKeterlambatanSebulanTerakhir  287 non-null    float64\n",
      " 14  JumlahKetidakhadiran                287 non-null    float64\n",
      " 15  TingkatPendidikan                   287 non-null    object \n",
      " 16  PernahBekerja                       287 non-null    object \n",
      " 17  IkutProgramLOP                      287 non-null    float64\n",
      " 18  AlasanResign                        287 non-null    object \n",
      " 19  TanggalLahir                        287 non-null    object \n",
      " 20  TanggalHiring                       287 non-null    object \n",
      " 21  TanggalPenilaianKaryawan            287 non-null    object \n",
      " 22  TanggalResign                       287 non-null    object \n",
      "dtypes: float64(5), int64(2), object(16)\n",
      "memory usage: 51.7+ KB\n"
     ]
    }
   ],
   "source": [
    "df.info()"
   ]
  },
  {
   "cell_type": "markdown",
   "metadata": {},
   "source": [
    "## Annual Report On Employee Number Changes\n",
    "Dalam konteks manajemen karyawan, perusahaan perlu mengetahui berapa perubahan jumlah karyawan setiap tahunnya agar bisa menyesuaikan langkah strategis guna meningkatkan kinerja perusahaan dan bisa bertahan di dunia yang terdisrupsi ini. Salah satu langkah yang telah dibuat perusahaan adalah melakukan perubahan budaya kerja setiap tahunnya yang mengacu pada jumlah karyawan yang ada, semakin banyak karyawan maka office space yang perlu disiapkan juga semakin bertambah, serta kebijakan-kebijakan lain seperti besaran bonus maksimal untuk karyawan yang performanya baik di tahun tersebut dan lain-lain. Setiap tahunnya perusahaan menyadari ada yang keluar dan ada yang masuk (karyawan), namun apabila pada tahun tertentu jumlah karyawan yang keluar lebih banyak dari yang masuk artinya perusahaan perlu berbenah diri agar karyawan lain tetap bertahan sehingga rancangan strategi jangka panjang tetap dapat dilaksanakan tanpa kendala."
   ]
  },
  {
   "cell_type": "code",
   "execution_count": 17,
   "metadata": {},
   "outputs": [],
   "source": [
    "df['StatusPernikahan'] = df['StatusPernikahan'].replace('-','')\n",
    "\n",
    "df['TanggalLahir'] =  pd.to_datetime(df['TanggalLahir'])\n",
    "\n",
    "df['TahunLahir'] = df['TanggalLahir'].dt.year\n",
    "\n",
    "df['Umur'] = 2024 - df['TahunLahir']\n",
    "\n",
    "df['TanggalResign'] = df['TanggalResign'].replace('-', np.nan)\n",
    "\n",
    "df['TanggalResign'] = pd.to_datetime(df['TanggalResign'])\n",
    "df['TanggalHiring'] = pd.to_datetime(df['TanggalHiring'])\n",
    "\n",
    "def check_resign(date):\n",
    "    if pd.isnull(date):\n",
    "        return 'No'\n",
    "    else:\n",
    "        return 'Yes'\n",
    "    \n",
    "df['Resign'] = df['TanggalResign'].apply(check_resign)\n",
    "\n",
    "df['TahunHiring'] = df['TanggalHiring'].dt.year\n",
    "df['TahunResign'] = df['TanggalResign'].dt.year"
   ]
  },
  {
   "cell_type": "code",
   "execution_count": 18,
   "metadata": {},
   "outputs": [
    {
     "data": {
      "text/html": [
       "<div>\n",
       "<style scoped>\n",
       "    .dataframe tbody tr th:only-of-type {\n",
       "        vertical-align: middle;\n",
       "    }\n",
       "\n",
       "    .dataframe tbody tr th {\n",
       "        vertical-align: top;\n",
       "    }\n",
       "\n",
       "    .dataframe thead th {\n",
       "        text-align: right;\n",
       "    }\n",
       "</style>\n",
       "<table border=\"1\" class=\"dataframe\">\n",
       "  <thead>\n",
       "    <tr style=\"text-align: right;\">\n",
       "      <th></th>\n",
       "      <th>TahunHiring</th>\n",
       "      <th>JumlahPegawaiHire</th>\n",
       "      <th>TahunResign</th>\n",
       "      <th>JumlahPegawaiResign</th>\n",
       "      <th>PegawaiBertahan</th>\n",
       "    </tr>\n",
       "  </thead>\n",
       "  <tbody>\n",
       "    <tr>\n",
       "      <th>0</th>\n",
       "      <td>2006.0</td>\n",
       "      <td>1.0</td>\n",
       "      <td>2006.0</td>\n",
       "      <td>0.0</td>\n",
       "      <td>1.0</td>\n",
       "    </tr>\n",
       "    <tr>\n",
       "      <th>1</th>\n",
       "      <td>2007.0</td>\n",
       "      <td>2.0</td>\n",
       "      <td>2007.0</td>\n",
       "      <td>0.0</td>\n",
       "      <td>2.0</td>\n",
       "    </tr>\n",
       "    <tr>\n",
       "      <th>2</th>\n",
       "      <td>2008.0</td>\n",
       "      <td>2.0</td>\n",
       "      <td>2008.0</td>\n",
       "      <td>0.0</td>\n",
       "      <td>2.0</td>\n",
       "    </tr>\n",
       "    <tr>\n",
       "      <th>3</th>\n",
       "      <td>2009.0</td>\n",
       "      <td>7.0</td>\n",
       "      <td>2009.0</td>\n",
       "      <td>0.0</td>\n",
       "      <td>7.0</td>\n",
       "    </tr>\n",
       "    <tr>\n",
       "      <th>4</th>\n",
       "      <td>2010.0</td>\n",
       "      <td>8.0</td>\n",
       "      <td>2010.0</td>\n",
       "      <td>0.0</td>\n",
       "      <td>8.0</td>\n",
       "    </tr>\n",
       "    <tr>\n",
       "      <th>5</th>\n",
       "      <td>2011.0</td>\n",
       "      <td>76.0</td>\n",
       "      <td>2011.0</td>\n",
       "      <td>0.0</td>\n",
       "      <td>76.0</td>\n",
       "    </tr>\n",
       "    <tr>\n",
       "      <th>6</th>\n",
       "      <td>2012.0</td>\n",
       "      <td>41.0</td>\n",
       "      <td>2012.0</td>\n",
       "      <td>0.0</td>\n",
       "      <td>41.0</td>\n",
       "    </tr>\n",
       "    <tr>\n",
       "      <th>7</th>\n",
       "      <td>2013.0</td>\n",
       "      <td>43.0</td>\n",
       "      <td>2013.0</td>\n",
       "      <td>5.0</td>\n",
       "      <td>38.0</td>\n",
       "    </tr>\n",
       "    <tr>\n",
       "      <th>8</th>\n",
       "      <td>2014.0</td>\n",
       "      <td>56.0</td>\n",
       "      <td>2014.0</td>\n",
       "      <td>12.0</td>\n",
       "      <td>44.0</td>\n",
       "    </tr>\n",
       "    <tr>\n",
       "      <th>9</th>\n",
       "      <td>2015.0</td>\n",
       "      <td>31.0</td>\n",
       "      <td>2015.0</td>\n",
       "      <td>8.0</td>\n",
       "      <td>23.0</td>\n",
       "    </tr>\n",
       "    <tr>\n",
       "      <th>10</th>\n",
       "      <td>2016.0</td>\n",
       "      <td>14.0</td>\n",
       "      <td>2016.0</td>\n",
       "      <td>8.0</td>\n",
       "      <td>6.0</td>\n",
       "    </tr>\n",
       "    <tr>\n",
       "      <th>11</th>\n",
       "      <td>2017.0</td>\n",
       "      <td>5.0</td>\n",
       "      <td>2017.0</td>\n",
       "      <td>19.0</td>\n",
       "      <td>-14.0</td>\n",
       "    </tr>\n",
       "    <tr>\n",
       "      <th>12</th>\n",
       "      <td>2018.0</td>\n",
       "      <td>1.0</td>\n",
       "      <td>2018.0</td>\n",
       "      <td>26.0</td>\n",
       "      <td>-25.0</td>\n",
       "    </tr>\n",
       "    <tr>\n",
       "      <th>13</th>\n",
       "      <td>2019.0</td>\n",
       "      <td>0.0</td>\n",
       "      <td>2019.0</td>\n",
       "      <td>5.0</td>\n",
       "      <td>-5.0</td>\n",
       "    </tr>\n",
       "    <tr>\n",
       "      <th>14</th>\n",
       "      <td>2020.0</td>\n",
       "      <td>0.0</td>\n",
       "      <td>2020.0</td>\n",
       "      <td>6.0</td>\n",
       "      <td>-6.0</td>\n",
       "    </tr>\n",
       "  </tbody>\n",
       "</table>\n",
       "</div>"
      ],
      "text/plain": [
       "    TahunHiring  JumlahPegawaiHire  TahunResign  JumlahPegawaiResign  \\\n",
       "0        2006.0                1.0       2006.0                  0.0   \n",
       "1        2007.0                2.0       2007.0                  0.0   \n",
       "2        2008.0                2.0       2008.0                  0.0   \n",
       "3        2009.0                7.0       2009.0                  0.0   \n",
       "4        2010.0                8.0       2010.0                  0.0   \n",
       "5        2011.0               76.0       2011.0                  0.0   \n",
       "6        2012.0               41.0       2012.0                  0.0   \n",
       "7        2013.0               43.0       2013.0                  5.0   \n",
       "8        2014.0               56.0       2014.0                 12.0   \n",
       "9        2015.0               31.0       2015.0                  8.0   \n",
       "10       2016.0               14.0       2016.0                  8.0   \n",
       "11       2017.0                5.0       2017.0                 19.0   \n",
       "12       2018.0                1.0       2018.0                 26.0   \n",
       "13       2019.0                0.0       2019.0                  5.0   \n",
       "14       2020.0                0.0       2020.0                  6.0   \n",
       "\n",
       "    PegawaiBertahan  \n",
       "0               1.0  \n",
       "1               2.0  \n",
       "2               2.0  \n",
       "3               7.0  \n",
       "4               8.0  \n",
       "5              76.0  \n",
       "6              41.0  \n",
       "7              38.0  \n",
       "8              44.0  \n",
       "9              23.0  \n",
       "10              6.0  \n",
       "11            -14.0  \n",
       "12            -25.0  \n",
       "13             -5.0  \n",
       "14             -6.0  "
      ]
     },
     "execution_count": 18,
     "metadata": {},
     "output_type": "execute_result"
    }
   ],
   "source": [
    "annual_hiring_agg =  (\n",
    "    df\n",
    "    .groupby('TahunHiring')['Username']\n",
    "    .count()\n",
    "    .to_frame()\n",
    "    .reset_index()\n",
    "    .rename(columns={'Username': 'JumlahPegawaiHire'})\n",
    "    .sort_values(by='TahunHiring', ascending=True)\n",
    ")\n",
    "\n",
    "annual_resign_agg = (\n",
    "    df\n",
    "    .groupby('TahunResign')['Username']\n",
    "    .count()\n",
    "    .to_frame()\n",
    "    .reset_index()\n",
    "    .rename(columns={'Username': 'JumlahPegawaiResign'})\n",
    "    .sort_values(by='TahunResign', ascending=True)\n",
    ")\n",
    "\n",
    "annual_hr_agg = annual_hiring_agg.merge(annual_resign_agg, how='outer', left_on='TahunHiring', right_on='TahunResign')\n",
    "annual_hr_agg['TahunHiring'] = annual_hr_agg['TahunHiring'].fillna(annual_hr_agg['TahunResign'])\n",
    "annual_hr_agg['TahunResign'] = annual_hr_agg['TahunResign'].fillna(annual_hr_agg['TahunHiring'])\n",
    "annual_hr_agg.fillna(0, inplace=True)\n",
    "\n",
    "annual_hr_agg['PegawaiBertahan'] = annual_hr_agg['JumlahPegawaiHire'] - annual_hr_agg['JumlahPegawaiResign']\n",
    "annual_hr_agg"
   ]
  },
  {
   "cell_type": "code",
   "execution_count": 24,
   "metadata": {},
   "outputs": [
    {
     "data": {
      "application/vnd.plotly.v1+json": {
       "config": {
        "plotlyServerURL": "https://plot.ly"
       },
       "data": [
        {
         "decreasing": {
          "marker": {
           "color": "Red"
          }
         },
         "increasing": {
          "marker": {
           "color": "Green"
          }
         },
         "measure": [
          "relative",
          "relative",
          "relative",
          "relative",
          "relative",
          "relative",
          "relative",
          "relative",
          "relative",
          "relative",
          "relative",
          "relative",
          "relative",
          "relative",
          "relative"
         ],
         "name": "20",
         "orientation": "v",
         "text": [
          "1.0",
          "2.0",
          "2.0",
          "7.0",
          "8.0",
          "76.0",
          "41.0",
          "38.0",
          "44.0",
          "23.0",
          "6.0",
          "-14.0",
          "-25.0",
          "-5.0",
          "-6.0"
         ],
         "textposition": "outside",
         "type": "waterfall",
         "x": [
          2006,
          2007,
          2008,
          2009,
          2010,
          2011,
          2012,
          2013,
          2014,
          2015,
          2016,
          2017,
          2018,
          2019,
          2020
         ],
         "y": [
          1,
          2,
          2,
          7,
          8,
          76,
          41,
          38,
          44,
          23,
          6,
          -14,
          -25,
          -5,
          -6
         ]
        }
       ],
       "layout": {
        "showlegend": false,
        "template": {
         "data": {
          "bar": [
           {
            "error_x": {
             "color": "#2a3f5f"
            },
            "error_y": {
             "color": "#2a3f5f"
            },
            "marker": {
             "line": {
              "color": "#E5ECF6",
              "width": 0.5
             },
             "pattern": {
              "fillmode": "overlay",
              "size": 10,
              "solidity": 0.2
             }
            },
            "type": "bar"
           }
          ],
          "barpolar": [
           {
            "marker": {
             "line": {
              "color": "#E5ECF6",
              "width": 0.5
             },
             "pattern": {
              "fillmode": "overlay",
              "size": 10,
              "solidity": 0.2
             }
            },
            "type": "barpolar"
           }
          ],
          "carpet": [
           {
            "aaxis": {
             "endlinecolor": "#2a3f5f",
             "gridcolor": "white",
             "linecolor": "white",
             "minorgridcolor": "white",
             "startlinecolor": "#2a3f5f"
            },
            "baxis": {
             "endlinecolor": "#2a3f5f",
             "gridcolor": "white",
             "linecolor": "white",
             "minorgridcolor": "white",
             "startlinecolor": "#2a3f5f"
            },
            "type": "carpet"
           }
          ],
          "choropleth": [
           {
            "colorbar": {
             "outlinewidth": 0,
             "ticks": ""
            },
            "type": "choropleth"
           }
          ],
          "contour": [
           {
            "colorbar": {
             "outlinewidth": 0,
             "ticks": ""
            },
            "colorscale": [
             [
              0,
              "#0d0887"
             ],
             [
              0.1111111111111111,
              "#46039f"
             ],
             [
              0.2222222222222222,
              "#7201a8"
             ],
             [
              0.3333333333333333,
              "#9c179e"
             ],
             [
              0.4444444444444444,
              "#bd3786"
             ],
             [
              0.5555555555555556,
              "#d8576b"
             ],
             [
              0.6666666666666666,
              "#ed7953"
             ],
             [
              0.7777777777777778,
              "#fb9f3a"
             ],
             [
              0.8888888888888888,
              "#fdca26"
             ],
             [
              1,
              "#f0f921"
             ]
            ],
            "type": "contour"
           }
          ],
          "contourcarpet": [
           {
            "colorbar": {
             "outlinewidth": 0,
             "ticks": ""
            },
            "type": "contourcarpet"
           }
          ],
          "heatmap": [
           {
            "colorbar": {
             "outlinewidth": 0,
             "ticks": ""
            },
            "colorscale": [
             [
              0,
              "#0d0887"
             ],
             [
              0.1111111111111111,
              "#46039f"
             ],
             [
              0.2222222222222222,
              "#7201a8"
             ],
             [
              0.3333333333333333,
              "#9c179e"
             ],
             [
              0.4444444444444444,
              "#bd3786"
             ],
             [
              0.5555555555555556,
              "#d8576b"
             ],
             [
              0.6666666666666666,
              "#ed7953"
             ],
             [
              0.7777777777777778,
              "#fb9f3a"
             ],
             [
              0.8888888888888888,
              "#fdca26"
             ],
             [
              1,
              "#f0f921"
             ]
            ],
            "type": "heatmap"
           }
          ],
          "heatmapgl": [
           {
            "colorbar": {
             "outlinewidth": 0,
             "ticks": ""
            },
            "colorscale": [
             [
              0,
              "#0d0887"
             ],
             [
              0.1111111111111111,
              "#46039f"
             ],
             [
              0.2222222222222222,
              "#7201a8"
             ],
             [
              0.3333333333333333,
              "#9c179e"
             ],
             [
              0.4444444444444444,
              "#bd3786"
             ],
             [
              0.5555555555555556,
              "#d8576b"
             ],
             [
              0.6666666666666666,
              "#ed7953"
             ],
             [
              0.7777777777777778,
              "#fb9f3a"
             ],
             [
              0.8888888888888888,
              "#fdca26"
             ],
             [
              1,
              "#f0f921"
             ]
            ],
            "type": "heatmapgl"
           }
          ],
          "histogram": [
           {
            "marker": {
             "pattern": {
              "fillmode": "overlay",
              "size": 10,
              "solidity": 0.2
             }
            },
            "type": "histogram"
           }
          ],
          "histogram2d": [
           {
            "colorbar": {
             "outlinewidth": 0,
             "ticks": ""
            },
            "colorscale": [
             [
              0,
              "#0d0887"
             ],
             [
              0.1111111111111111,
              "#46039f"
             ],
             [
              0.2222222222222222,
              "#7201a8"
             ],
             [
              0.3333333333333333,
              "#9c179e"
             ],
             [
              0.4444444444444444,
              "#bd3786"
             ],
             [
              0.5555555555555556,
              "#d8576b"
             ],
             [
              0.6666666666666666,
              "#ed7953"
             ],
             [
              0.7777777777777778,
              "#fb9f3a"
             ],
             [
              0.8888888888888888,
              "#fdca26"
             ],
             [
              1,
              "#f0f921"
             ]
            ],
            "type": "histogram2d"
           }
          ],
          "histogram2dcontour": [
           {
            "colorbar": {
             "outlinewidth": 0,
             "ticks": ""
            },
            "colorscale": [
             [
              0,
              "#0d0887"
             ],
             [
              0.1111111111111111,
              "#46039f"
             ],
             [
              0.2222222222222222,
              "#7201a8"
             ],
             [
              0.3333333333333333,
              "#9c179e"
             ],
             [
              0.4444444444444444,
              "#bd3786"
             ],
             [
              0.5555555555555556,
              "#d8576b"
             ],
             [
              0.6666666666666666,
              "#ed7953"
             ],
             [
              0.7777777777777778,
              "#fb9f3a"
             ],
             [
              0.8888888888888888,
              "#fdca26"
             ],
             [
              1,
              "#f0f921"
             ]
            ],
            "type": "histogram2dcontour"
           }
          ],
          "mesh3d": [
           {
            "colorbar": {
             "outlinewidth": 0,
             "ticks": ""
            },
            "type": "mesh3d"
           }
          ],
          "parcoords": [
           {
            "line": {
             "colorbar": {
              "outlinewidth": 0,
              "ticks": ""
             }
            },
            "type": "parcoords"
           }
          ],
          "pie": [
           {
            "automargin": true,
            "type": "pie"
           }
          ],
          "scatter": [
           {
            "fillpattern": {
             "fillmode": "overlay",
             "size": 10,
             "solidity": 0.2
            },
            "type": "scatter"
           }
          ],
          "scatter3d": [
           {
            "line": {
             "colorbar": {
              "outlinewidth": 0,
              "ticks": ""
             }
            },
            "marker": {
             "colorbar": {
              "outlinewidth": 0,
              "ticks": ""
             }
            },
            "type": "scatter3d"
           }
          ],
          "scattercarpet": [
           {
            "marker": {
             "colorbar": {
              "outlinewidth": 0,
              "ticks": ""
             }
            },
            "type": "scattercarpet"
           }
          ],
          "scattergeo": [
           {
            "marker": {
             "colorbar": {
              "outlinewidth": 0,
              "ticks": ""
             }
            },
            "type": "scattergeo"
           }
          ],
          "scattergl": [
           {
            "marker": {
             "colorbar": {
              "outlinewidth": 0,
              "ticks": ""
             }
            },
            "type": "scattergl"
           }
          ],
          "scattermapbox": [
           {
            "marker": {
             "colorbar": {
              "outlinewidth": 0,
              "ticks": ""
             }
            },
            "type": "scattermapbox"
           }
          ],
          "scatterpolar": [
           {
            "marker": {
             "colorbar": {
              "outlinewidth": 0,
              "ticks": ""
             }
            },
            "type": "scatterpolar"
           }
          ],
          "scatterpolargl": [
           {
            "marker": {
             "colorbar": {
              "outlinewidth": 0,
              "ticks": ""
             }
            },
            "type": "scatterpolargl"
           }
          ],
          "scatterternary": [
           {
            "marker": {
             "colorbar": {
              "outlinewidth": 0,
              "ticks": ""
             }
            },
            "type": "scatterternary"
           }
          ],
          "surface": [
           {
            "colorbar": {
             "outlinewidth": 0,
             "ticks": ""
            },
            "colorscale": [
             [
              0,
              "#0d0887"
             ],
             [
              0.1111111111111111,
              "#46039f"
             ],
             [
              0.2222222222222222,
              "#7201a8"
             ],
             [
              0.3333333333333333,
              "#9c179e"
             ],
             [
              0.4444444444444444,
              "#bd3786"
             ],
             [
              0.5555555555555556,
              "#d8576b"
             ],
             [
              0.6666666666666666,
              "#ed7953"
             ],
             [
              0.7777777777777778,
              "#fb9f3a"
             ],
             [
              0.8888888888888888,
              "#fdca26"
             ],
             [
              1,
              "#f0f921"
             ]
            ],
            "type": "surface"
           }
          ],
          "table": [
           {
            "cells": {
             "fill": {
              "color": "#EBF0F8"
             },
             "line": {
              "color": "white"
             }
            },
            "header": {
             "fill": {
              "color": "#C8D4E3"
             },
             "line": {
              "color": "white"
             }
            },
            "type": "table"
           }
          ]
         },
         "layout": {
          "annotationdefaults": {
           "arrowcolor": "#2a3f5f",
           "arrowhead": 0,
           "arrowwidth": 1
          },
          "autotypenumbers": "strict",
          "coloraxis": {
           "colorbar": {
            "outlinewidth": 0,
            "ticks": ""
           }
          },
          "colorscale": {
           "diverging": [
            [
             0,
             "#8e0152"
            ],
            [
             0.1,
             "#c51b7d"
            ],
            [
             0.2,
             "#de77ae"
            ],
            [
             0.3,
             "#f1b6da"
            ],
            [
             0.4,
             "#fde0ef"
            ],
            [
             0.5,
             "#f7f7f7"
            ],
            [
             0.6,
             "#e6f5d0"
            ],
            [
             0.7,
             "#b8e186"
            ],
            [
             0.8,
             "#7fbc41"
            ],
            [
             0.9,
             "#4d9221"
            ],
            [
             1,
             "#276419"
            ]
           ],
           "sequential": [
            [
             0,
             "#0d0887"
            ],
            [
             0.1111111111111111,
             "#46039f"
            ],
            [
             0.2222222222222222,
             "#7201a8"
            ],
            [
             0.3333333333333333,
             "#9c179e"
            ],
            [
             0.4444444444444444,
             "#bd3786"
            ],
            [
             0.5555555555555556,
             "#d8576b"
            ],
            [
             0.6666666666666666,
             "#ed7953"
            ],
            [
             0.7777777777777778,
             "#fb9f3a"
            ],
            [
             0.8888888888888888,
             "#fdca26"
            ],
            [
             1,
             "#f0f921"
            ]
           ],
           "sequentialminus": [
            [
             0,
             "#0d0887"
            ],
            [
             0.1111111111111111,
             "#46039f"
            ],
            [
             0.2222222222222222,
             "#7201a8"
            ],
            [
             0.3333333333333333,
             "#9c179e"
            ],
            [
             0.4444444444444444,
             "#bd3786"
            ],
            [
             0.5555555555555556,
             "#d8576b"
            ],
            [
             0.6666666666666666,
             "#ed7953"
            ],
            [
             0.7777777777777778,
             "#fb9f3a"
            ],
            [
             0.8888888888888888,
             "#fdca26"
            ],
            [
             1,
             "#f0f921"
            ]
           ]
          },
          "colorway": [
           "#636efa",
           "#EF553B",
           "#00cc96",
           "#ab63fa",
           "#FFA15A",
           "#19d3f3",
           "#FF6692",
           "#B6E880",
           "#FF97FF",
           "#FECB52"
          ],
          "font": {
           "color": "#2a3f5f"
          },
          "geo": {
           "bgcolor": "white",
           "lakecolor": "white",
           "landcolor": "#E5ECF6",
           "showlakes": true,
           "showland": true,
           "subunitcolor": "white"
          },
          "hoverlabel": {
           "align": "left"
          },
          "hovermode": "closest",
          "mapbox": {
           "style": "light"
          },
          "paper_bgcolor": "white",
          "plot_bgcolor": "#E5ECF6",
          "polar": {
           "angularaxis": {
            "gridcolor": "white",
            "linecolor": "white",
            "ticks": ""
           },
           "bgcolor": "#E5ECF6",
           "radialaxis": {
            "gridcolor": "white",
            "linecolor": "white",
            "ticks": ""
           }
          },
          "scene": {
           "xaxis": {
            "backgroundcolor": "#E5ECF6",
            "gridcolor": "white",
            "gridwidth": 2,
            "linecolor": "white",
            "showbackground": true,
            "ticks": "",
            "zerolinecolor": "white"
           },
           "yaxis": {
            "backgroundcolor": "#E5ECF6",
            "gridcolor": "white",
            "gridwidth": 2,
            "linecolor": "white",
            "showbackground": true,
            "ticks": "",
            "zerolinecolor": "white"
           },
           "zaxis": {
            "backgroundcolor": "#E5ECF6",
            "gridcolor": "white",
            "gridwidth": 2,
            "linecolor": "white",
            "showbackground": true,
            "ticks": "",
            "zerolinecolor": "white"
           }
          },
          "shapedefaults": {
           "line": {
            "color": "#2a3f5f"
           }
          },
          "ternary": {
           "aaxis": {
            "gridcolor": "white",
            "linecolor": "white",
            "ticks": ""
           },
           "baxis": {
            "gridcolor": "white",
            "linecolor": "white",
            "ticks": ""
           },
           "bgcolor": "#E5ECF6",
           "caxis": {
            "gridcolor": "white",
            "linecolor": "white",
            "ticks": ""
           }
          },
          "title": {
           "x": 0.05
          },
          "xaxis": {
           "automargin": true,
           "gridcolor": "white",
           "linecolor": "white",
           "ticks": "",
           "title": {
            "standoff": 15
           },
           "zerolinecolor": "white",
           "zerolinewidth": 2
          },
          "yaxis": {
           "automargin": true,
           "gridcolor": "white",
           "linecolor": "white",
           "ticks": "",
           "title": {
            "standoff": 15
           },
           "zerolinecolor": "white",
           "zerolinewidth": 2
          }
         }
        },
        "title": {
         "text": "Perubahan Jumlah Pegawai"
        }
       }
      }
     },
     "metadata": {},
     "output_type": "display_data"
    }
   ],
   "source": [
    "import plotly.graph_objects as go\n",
    "dfg = annual_hr_agg\n",
    "\n",
    "dfg['Net'] = dfg['JumlahPegawaiHire'] - dfg['JumlahPegawaiResign']\n",
    "\n",
    "measures = ['relative' if net >= 0 else 'relative' for net in dfg['Net']]\n",
    "\n",
    "fig = go.Figure(go.Waterfall(\n",
    "    name=\"20\", orientation=\"v\",\n",
    "    measure=measures,  # Corrected property name\n",
    "    x=dfg['TahunHiring'].to_list(),\n",
    "    textposition=\"outside\",\n",
    "    text=dfg['Net'].to_list(),\n",
    "    y=dfg['Net'].to_list(),\n",
    "    decreasing={\"marker\": {\"color\": \"Red\"}},\n",
    "    increasing={\"marker\": {\"color\": \"Green\"}},\n",
    "))\n",
    "\n",
    "fig.update_layout(title=\"Perubahan Jumlah Pegawai\", showlegend=False)\n",
    "\n",
    "fig.show()"
   ]
  },
  {
   "cell_type": "code",
   "execution_count": 25,
   "metadata": {},
   "outputs": [
    {
     "data": {
      "application/vnd.plotly.v1+json": {
       "config": {
        "linkText": "Export to plot.ly",
        "plotlyServerURL": "https://plot.ly",
        "showLink": false
       },
       "data": [
        {
         "decreasing": {
          "marker": {
           "color": "Red"
          }
         },
         "increasing": {
          "marker": {
           "color": "Green"
          }
         },
         "measure": [
          "relative",
          "relative",
          "relative",
          "relative",
          "relative",
          "relative",
          "relative",
          "relative",
          "relative",
          "relative",
          "relative",
          "relative",
          "relative",
          "relative",
          "relative"
         ],
         "name": "20",
         "orientation": "v",
         "text": [
          "1.0",
          "2.0",
          "2.0",
          "7.0",
          "8.0",
          "76.0",
          "41.0",
          "38.0",
          "44.0",
          "23.0",
          "6.0",
          "-14.0",
          "-25.0",
          "-5.0",
          "-6.0"
         ],
         "textposition": "outside",
         "type": "waterfall",
         "x": [
          2006,
          2007,
          2008,
          2009,
          2010,
          2011,
          2012,
          2013,
          2014,
          2015,
          2016,
          2017,
          2018,
          2019,
          2020
         ],
         "y": [
          1,
          2,
          2,
          7,
          8,
          76,
          41,
          38,
          44,
          23,
          6,
          -14,
          -25,
          -5,
          -6
         ]
        }
       ],
       "layout": {
        "showlegend": false,
        "template": {
         "data": {
          "bar": [
           {
            "error_x": {
             "color": "#2a3f5f"
            },
            "error_y": {
             "color": "#2a3f5f"
            },
            "marker": {
             "line": {
              "color": "#E5ECF6",
              "width": 0.5
             },
             "pattern": {
              "fillmode": "overlay",
              "size": 10,
              "solidity": 0.2
             }
            },
            "type": "bar"
           }
          ],
          "barpolar": [
           {
            "marker": {
             "line": {
              "color": "#E5ECF6",
              "width": 0.5
             },
             "pattern": {
              "fillmode": "overlay",
              "size": 10,
              "solidity": 0.2
             }
            },
            "type": "barpolar"
           }
          ],
          "carpet": [
           {
            "aaxis": {
             "endlinecolor": "#2a3f5f",
             "gridcolor": "white",
             "linecolor": "white",
             "minorgridcolor": "white",
             "startlinecolor": "#2a3f5f"
            },
            "baxis": {
             "endlinecolor": "#2a3f5f",
             "gridcolor": "white",
             "linecolor": "white",
             "minorgridcolor": "white",
             "startlinecolor": "#2a3f5f"
            },
            "type": "carpet"
           }
          ],
          "choropleth": [
           {
            "colorbar": {
             "outlinewidth": 0,
             "ticks": ""
            },
            "type": "choropleth"
           }
          ],
          "contour": [
           {
            "colorbar": {
             "outlinewidth": 0,
             "ticks": ""
            },
            "colorscale": [
             [
              0,
              "#0d0887"
             ],
             [
              0.1111111111111111,
              "#46039f"
             ],
             [
              0.2222222222222222,
              "#7201a8"
             ],
             [
              0.3333333333333333,
              "#9c179e"
             ],
             [
              0.4444444444444444,
              "#bd3786"
             ],
             [
              0.5555555555555556,
              "#d8576b"
             ],
             [
              0.6666666666666666,
              "#ed7953"
             ],
             [
              0.7777777777777778,
              "#fb9f3a"
             ],
             [
              0.8888888888888888,
              "#fdca26"
             ],
             [
              1,
              "#f0f921"
             ]
            ],
            "type": "contour"
           }
          ],
          "contourcarpet": [
           {
            "colorbar": {
             "outlinewidth": 0,
             "ticks": ""
            },
            "type": "contourcarpet"
           }
          ],
          "heatmap": [
           {
            "colorbar": {
             "outlinewidth": 0,
             "ticks": ""
            },
            "colorscale": [
             [
              0,
              "#0d0887"
             ],
             [
              0.1111111111111111,
              "#46039f"
             ],
             [
              0.2222222222222222,
              "#7201a8"
             ],
             [
              0.3333333333333333,
              "#9c179e"
             ],
             [
              0.4444444444444444,
              "#bd3786"
             ],
             [
              0.5555555555555556,
              "#d8576b"
             ],
             [
              0.6666666666666666,
              "#ed7953"
             ],
             [
              0.7777777777777778,
              "#fb9f3a"
             ],
             [
              0.8888888888888888,
              "#fdca26"
             ],
             [
              1,
              "#f0f921"
             ]
            ],
            "type": "heatmap"
           }
          ],
          "heatmapgl": [
           {
            "colorbar": {
             "outlinewidth": 0,
             "ticks": ""
            },
            "colorscale": [
             [
              0,
              "#0d0887"
             ],
             [
              0.1111111111111111,
              "#46039f"
             ],
             [
              0.2222222222222222,
              "#7201a8"
             ],
             [
              0.3333333333333333,
              "#9c179e"
             ],
             [
              0.4444444444444444,
              "#bd3786"
             ],
             [
              0.5555555555555556,
              "#d8576b"
             ],
             [
              0.6666666666666666,
              "#ed7953"
             ],
             [
              0.7777777777777778,
              "#fb9f3a"
             ],
             [
              0.8888888888888888,
              "#fdca26"
             ],
             [
              1,
              "#f0f921"
             ]
            ],
            "type": "heatmapgl"
           }
          ],
          "histogram": [
           {
            "marker": {
             "pattern": {
              "fillmode": "overlay",
              "size": 10,
              "solidity": 0.2
             }
            },
            "type": "histogram"
           }
          ],
          "histogram2d": [
           {
            "colorbar": {
             "outlinewidth": 0,
             "ticks": ""
            },
            "colorscale": [
             [
              0,
              "#0d0887"
             ],
             [
              0.1111111111111111,
              "#46039f"
             ],
             [
              0.2222222222222222,
              "#7201a8"
             ],
             [
              0.3333333333333333,
              "#9c179e"
             ],
             [
              0.4444444444444444,
              "#bd3786"
             ],
             [
              0.5555555555555556,
              "#d8576b"
             ],
             [
              0.6666666666666666,
              "#ed7953"
             ],
             [
              0.7777777777777778,
              "#fb9f3a"
             ],
             [
              0.8888888888888888,
              "#fdca26"
             ],
             [
              1,
              "#f0f921"
             ]
            ],
            "type": "histogram2d"
           }
          ],
          "histogram2dcontour": [
           {
            "colorbar": {
             "outlinewidth": 0,
             "ticks": ""
            },
            "colorscale": [
             [
              0,
              "#0d0887"
             ],
             [
              0.1111111111111111,
              "#46039f"
             ],
             [
              0.2222222222222222,
              "#7201a8"
             ],
             [
              0.3333333333333333,
              "#9c179e"
             ],
             [
              0.4444444444444444,
              "#bd3786"
             ],
             [
              0.5555555555555556,
              "#d8576b"
             ],
             [
              0.6666666666666666,
              "#ed7953"
             ],
             [
              0.7777777777777778,
              "#fb9f3a"
             ],
             [
              0.8888888888888888,
              "#fdca26"
             ],
             [
              1,
              "#f0f921"
             ]
            ],
            "type": "histogram2dcontour"
           }
          ],
          "mesh3d": [
           {
            "colorbar": {
             "outlinewidth": 0,
             "ticks": ""
            },
            "type": "mesh3d"
           }
          ],
          "parcoords": [
           {
            "line": {
             "colorbar": {
              "outlinewidth": 0,
              "ticks": ""
             }
            },
            "type": "parcoords"
           }
          ],
          "pie": [
           {
            "automargin": true,
            "type": "pie"
           }
          ],
          "scatter": [
           {
            "fillpattern": {
             "fillmode": "overlay",
             "size": 10,
             "solidity": 0.2
            },
            "type": "scatter"
           }
          ],
          "scatter3d": [
           {
            "line": {
             "colorbar": {
              "outlinewidth": 0,
              "ticks": ""
             }
            },
            "marker": {
             "colorbar": {
              "outlinewidth": 0,
              "ticks": ""
             }
            },
            "type": "scatter3d"
           }
          ],
          "scattercarpet": [
           {
            "marker": {
             "colorbar": {
              "outlinewidth": 0,
              "ticks": ""
             }
            },
            "type": "scattercarpet"
           }
          ],
          "scattergeo": [
           {
            "marker": {
             "colorbar": {
              "outlinewidth": 0,
              "ticks": ""
             }
            },
            "type": "scattergeo"
           }
          ],
          "scattergl": [
           {
            "marker": {
             "colorbar": {
              "outlinewidth": 0,
              "ticks": ""
             }
            },
            "type": "scattergl"
           }
          ],
          "scattermapbox": [
           {
            "marker": {
             "colorbar": {
              "outlinewidth": 0,
              "ticks": ""
             }
            },
            "type": "scattermapbox"
           }
          ],
          "scatterpolar": [
           {
            "marker": {
             "colorbar": {
              "outlinewidth": 0,
              "ticks": ""
             }
            },
            "type": "scatterpolar"
           }
          ],
          "scatterpolargl": [
           {
            "marker": {
             "colorbar": {
              "outlinewidth": 0,
              "ticks": ""
             }
            },
            "type": "scatterpolargl"
           }
          ],
          "scatterternary": [
           {
            "marker": {
             "colorbar": {
              "outlinewidth": 0,
              "ticks": ""
             }
            },
            "type": "scatterternary"
           }
          ],
          "surface": [
           {
            "colorbar": {
             "outlinewidth": 0,
             "ticks": ""
            },
            "colorscale": [
             [
              0,
              "#0d0887"
             ],
             [
              0.1111111111111111,
              "#46039f"
             ],
             [
              0.2222222222222222,
              "#7201a8"
             ],
             [
              0.3333333333333333,
              "#9c179e"
             ],
             [
              0.4444444444444444,
              "#bd3786"
             ],
             [
              0.5555555555555556,
              "#d8576b"
             ],
             [
              0.6666666666666666,
              "#ed7953"
             ],
             [
              0.7777777777777778,
              "#fb9f3a"
             ],
             [
              0.8888888888888888,
              "#fdca26"
             ],
             [
              1,
              "#f0f921"
             ]
            ],
            "type": "surface"
           }
          ],
          "table": [
           {
            "cells": {
             "fill": {
              "color": "#EBF0F8"
             },
             "line": {
              "color": "white"
             }
            },
            "header": {
             "fill": {
              "color": "#C8D4E3"
             },
             "line": {
              "color": "white"
             }
            },
            "type": "table"
           }
          ]
         },
         "layout": {
          "annotationdefaults": {
           "arrowcolor": "#2a3f5f",
           "arrowhead": 0,
           "arrowwidth": 1
          },
          "autotypenumbers": "strict",
          "coloraxis": {
           "colorbar": {
            "outlinewidth": 0,
            "ticks": ""
           }
          },
          "colorscale": {
           "diverging": [
            [
             0,
             "#8e0152"
            ],
            [
             0.1,
             "#c51b7d"
            ],
            [
             0.2,
             "#de77ae"
            ],
            [
             0.3,
             "#f1b6da"
            ],
            [
             0.4,
             "#fde0ef"
            ],
            [
             0.5,
             "#f7f7f7"
            ],
            [
             0.6,
             "#e6f5d0"
            ],
            [
             0.7,
             "#b8e186"
            ],
            [
             0.8,
             "#7fbc41"
            ],
            [
             0.9,
             "#4d9221"
            ],
            [
             1,
             "#276419"
            ]
           ],
           "sequential": [
            [
             0,
             "#0d0887"
            ],
            [
             0.1111111111111111,
             "#46039f"
            ],
            [
             0.2222222222222222,
             "#7201a8"
            ],
            [
             0.3333333333333333,
             "#9c179e"
            ],
            [
             0.4444444444444444,
             "#bd3786"
            ],
            [
             0.5555555555555556,
             "#d8576b"
            ],
            [
             0.6666666666666666,
             "#ed7953"
            ],
            [
             0.7777777777777778,
             "#fb9f3a"
            ],
            [
             0.8888888888888888,
             "#fdca26"
            ],
            [
             1,
             "#f0f921"
            ]
           ],
           "sequentialminus": [
            [
             0,
             "#0d0887"
            ],
            [
             0.1111111111111111,
             "#46039f"
            ],
            [
             0.2222222222222222,
             "#7201a8"
            ],
            [
             0.3333333333333333,
             "#9c179e"
            ],
            [
             0.4444444444444444,
             "#bd3786"
            ],
            [
             0.5555555555555556,
             "#d8576b"
            ],
            [
             0.6666666666666666,
             "#ed7953"
            ],
            [
             0.7777777777777778,
             "#fb9f3a"
            ],
            [
             0.8888888888888888,
             "#fdca26"
            ],
            [
             1,
             "#f0f921"
            ]
           ]
          },
          "colorway": [
           "#636efa",
           "#EF553B",
           "#00cc96",
           "#ab63fa",
           "#FFA15A",
           "#19d3f3",
           "#FF6692",
           "#B6E880",
           "#FF97FF",
           "#FECB52"
          ],
          "font": {
           "color": "#2a3f5f"
          },
          "geo": {
           "bgcolor": "white",
           "lakecolor": "white",
           "landcolor": "#E5ECF6",
           "showlakes": true,
           "showland": true,
           "subunitcolor": "white"
          },
          "hoverlabel": {
           "align": "left"
          },
          "hovermode": "closest",
          "mapbox": {
           "style": "light"
          },
          "paper_bgcolor": "white",
          "plot_bgcolor": "#E5ECF6",
          "polar": {
           "angularaxis": {
            "gridcolor": "white",
            "linecolor": "white",
            "ticks": ""
           },
           "bgcolor": "#E5ECF6",
           "radialaxis": {
            "gridcolor": "white",
            "linecolor": "white",
            "ticks": ""
           }
          },
          "scene": {
           "xaxis": {
            "backgroundcolor": "#E5ECF6",
            "gridcolor": "white",
            "gridwidth": 2,
            "linecolor": "white",
            "showbackground": true,
            "ticks": "",
            "zerolinecolor": "white"
           },
           "yaxis": {
            "backgroundcolor": "#E5ECF6",
            "gridcolor": "white",
            "gridwidth": 2,
            "linecolor": "white",
            "showbackground": true,
            "ticks": "",
            "zerolinecolor": "white"
           },
           "zaxis": {
            "backgroundcolor": "#E5ECF6",
            "gridcolor": "white",
            "gridwidth": 2,
            "linecolor": "white",
            "showbackground": true,
            "ticks": "",
            "zerolinecolor": "white"
           }
          },
          "shapedefaults": {
           "line": {
            "color": "#2a3f5f"
           }
          },
          "ternary": {
           "aaxis": {
            "gridcolor": "white",
            "linecolor": "white",
            "ticks": ""
           },
           "baxis": {
            "gridcolor": "white",
            "linecolor": "white",
            "ticks": ""
           },
           "bgcolor": "#E5ECF6",
           "caxis": {
            "gridcolor": "white",
            "linecolor": "white",
            "ticks": ""
           }
          },
          "title": {
           "x": 0.05
          },
          "xaxis": {
           "automargin": true,
           "gridcolor": "white",
           "linecolor": "white",
           "ticks": "",
           "title": {
            "standoff": 15
           },
           "zerolinecolor": "white",
           "zerolinewidth": 2
          },
          "yaxis": {
           "automargin": true,
           "gridcolor": "white",
           "linecolor": "white",
           "ticks": "",
           "title": {
            "standoff": 15
           },
           "zerolinecolor": "white",
           "zerolinewidth": 2
          }
         }
        },
        "title": {
         "text": "Perubahan Jumlah Pegawai"
        }
       }
      }
     },
     "metadata": {},
     "output_type": "display_data"
    }
   ],
   "source": [
    "import plotly.graph_objects as go\n",
    "from plotly.offline import iplot\n",
    "\n",
    "dfg = annual_hr_agg\n",
    "\n",
    "dfg['Net'] = dfg['JumlahPegawaiHire'] - dfg['JumlahPegawaiResign']\n",
    "\n",
    "measures = ['relative' if net >= 0 else 'relative' for net in dfg['Net']]\n",
    "\n",
    "fig = go.Figure(go.Waterfall(\n",
    "    name=\"20\", orientation=\"v\",\n",
    "    measure=measures,  # Corrected property name\n",
    "    x=dfg['TahunHiring'].to_list(),\n",
    "    textposition=\"outside\",\n",
    "    text=dfg['Net'].to_list(),\n",
    "    y=dfg['Net'].to_list(),\n",
    "    decreasing={\"marker\": {\"color\": \"Red\"}},\n",
    "    increasing={\"marker\": {\"color\": \"Green\"}},\n",
    "))\n",
    "\n",
    "fig.update_layout(title=\"Perubahan Jumlah Pegawai\", showlegend=False)\n",
    "\n",
    "# Display the figure in the Jupyter Notebook\n",
    "iplot(fig)"
   ]
  }
 ],
 "metadata": {
  "kernelspec": {
   "display_name": "base",
   "language": "python",
   "name": "python3"
  },
  "language_info": {
   "codemirror_mode": {
    "name": "ipython",
    "version": 3
   },
   "file_extension": ".py",
   "mimetype": "text/x-python",
   "name": "python",
   "nbconvert_exporter": "python",
   "pygments_lexer": "ipython3",
   "version": "3.11.4"
  }
 },
 "nbformat": 4,
 "nbformat_minor": 2
}
