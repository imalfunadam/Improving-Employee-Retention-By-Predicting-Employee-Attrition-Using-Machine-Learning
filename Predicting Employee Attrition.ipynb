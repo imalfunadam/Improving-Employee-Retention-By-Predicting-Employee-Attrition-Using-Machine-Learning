{
 "cells": [
  {
   "cell_type": "markdown",
   "metadata": {},
   "source": [
    "# Improving Employee Retention by Predicting Employee Attrition\n",
    "\n",
    "Table of Content :\n",
    "\n",
    "- Introducation\n",
    "- Load Dataset\n",
    "- Exploratory Data Analysis\n",
    "\n",
    "## Introduction\n",
    "**Background**\n",
    "\n",
    "Sumber daya manusia (SDM) adalah aset utama yang perlu dikelola dengan baik oleh perusahaan agar tujuan bisnis dapat tercapai dengan efektif dan efisien. Pada kesempatan kali ini, kita akan menghadapi sebuah permasalahan tentang sumber daya manusia yang ada di perusahaan. Fokus kita adalah untuk mengetahui bagaimana cara menjaga karyawan agar tetap bertahan di perusahaan yang ada saat ini yang dapat mengakibatkan bengkaknya biaya untuk rekrutmen karyawan serta pelatihan untuk mereka yang baru masuk. Dengan mengetahui faktor utama yang menyebabkan karyawan tidak merasa, perusahaan dapat segera menanggulanginya dengan membuat program-program yang relevan dengan permasalahan karyawan.\n",
    "\n",
    "**Goal:**\n",
    "\n",
    "Meningkatkan retensi karyawan di perusahaan dengan mengidentifikasi dan mengatasi faktor-faktor utama yang menyebabkan ketidakpuasan serta meningkatkan keberlanjutan sumber daya manusia (SDM) sebagai aset utama perusahaan.\n",
    "\n",
    "**Objectives:**\n",
    "\n",
    "\n",
    "1. Mengidentifikasi faktor-faktor utama yang menyebabkan ketidakpuasan dan keengganan karyawan untuk tetap berada di perusahaan.\n",
    "2. Membuat survei atau mekanisme umpan balik untuk mendapatkan pandangan langsung dari karyawan terkait dengan aspek-aspek yang dapat ditingkatkan.\n",
    "3. Menganalisis hasil survei untuk menentukan tren dan pola dalam faktor-faktor ketidakpuasan yang ditemukan.\n",
    "4. Mengembangkan program-program yang sesuai dan relevan untuk mengatasi setiap faktor ketidakpuasan yang diidentifikasi.\n",
    "5. Menyusun strategi komprehensif untuk meningkatkan kepuasan karyawan dan meningkatkan retensi mereka.\n",
    "6. Memonitor efektivitas program-program yang diimplementasikan melalui evaluasi rutin dan umpan balik dari karyawan.\n",
    "7. Mengukur penurunan biaya rekrutmen dan pelatihan dengan memantau peningkatan retensi karyawan dan kepuasan mereka.\n",
    "8. Meningkatkan komunikasi antara manajemen dan karyawan untuk memastikan pemahaman yang lebih baik tentang kebutuhan dan harapan karyawan.\n",
    "9. Membentuk tim internal atau komite karyawan untuk berkolaborasi dalam merancang dan melaksanakan inisiatif retensi.\n",
    "10. Menilai dan menyempurnakan program-program secara berkala berdasarkan umpan balik dan evaluasi kinerja perusahaan.\n",
    "\n",
    "## Load Dataset"
   ]
  },
  {
   "cell_type": "code",
   "execution_count": 127,
   "metadata": {},
   "outputs": [],
   "source": [
    "import pandas as pd \n",
    "import numpy as np\n",
    "import seaborn as sns\n",
    "import matplotlib.pyplot as plt \n",
    "%matplotlib inline\n",
    "import warnings\n",
    "warnings.filterwarnings(\"ignore\")"
   ]
  },
  {
   "cell_type": "code",
   "execution_count": 128,
   "metadata": {},
   "outputs": [
    {
     "data": {
      "text/html": [
       "<div>\n",
       "<style scoped>\n",
       "    .dataframe tbody tr th:only-of-type {\n",
       "        vertical-align: middle;\n",
       "    }\n",
       "\n",
       "    .dataframe tbody tr th {\n",
       "        vertical-align: top;\n",
       "    }\n",
       "\n",
       "    .dataframe thead th {\n",
       "        text-align: right;\n",
       "    }\n",
       "</style>\n",
       "<table border=\"1\" class=\"dataframe\">\n",
       "  <thead>\n",
       "    <tr style=\"text-align: right;\">\n",
       "      <th></th>\n",
       "      <th>Username</th>\n",
       "      <th>EnterpriseID</th>\n",
       "      <th>StatusPernikahan</th>\n",
       "      <th>JenisKelamin</th>\n",
       "      <th>StatusKepegawaian</th>\n",
       "      <th>Pekerjaan</th>\n",
       "      <th>JenjangKarir</th>\n",
       "      <th>PerformancePegawai</th>\n",
       "      <th>AsalDaerah</th>\n",
       "      <th>HiringPlatform</th>\n",
       "      <th>...</th>\n",
       "      <th>NomorHP</th>\n",
       "      <th>Email</th>\n",
       "      <th>TingkatPendidikan</th>\n",
       "      <th>PernahBekerja</th>\n",
       "      <th>IkutProgramLOP</th>\n",
       "      <th>AlasanResign</th>\n",
       "      <th>TanggalLahir</th>\n",
       "      <th>TanggalHiring</th>\n",
       "      <th>TanggalPenilaianKaryawan</th>\n",
       "      <th>TanggalResign</th>\n",
       "    </tr>\n",
       "  </thead>\n",
       "  <tbody>\n",
       "    <tr>\n",
       "      <th>18</th>\n",
       "      <td>hushedSeahorse7</td>\n",
       "      <td>111202</td>\n",
       "      <td>Bercerai</td>\n",
       "      <td>Wanita</td>\n",
       "      <td>FullTime</td>\n",
       "      <td>Data Analyst</td>\n",
       "      <td>Freshgraduate_program</td>\n",
       "      <td>Sangat_bagus</td>\n",
       "      <td>Jakarta Pusat</td>\n",
       "      <td>Diversity_Job_Fair</td>\n",
       "      <td>...</td>\n",
       "      <td>+6281212698xxx</td>\n",
       "      <td>hushedSeahorse7404@icloud.com</td>\n",
       "      <td>Sarjana</td>\n",
       "      <td>1</td>\n",
       "      <td>1.0</td>\n",
       "      <td>internal_conflict</td>\n",
       "      <td>1968-05-30</td>\n",
       "      <td>2012-04-02</td>\n",
       "      <td>2017-02-05</td>\n",
       "      <td>2017-09-12</td>\n",
       "    </tr>\n",
       "    <tr>\n",
       "      <th>49</th>\n",
       "      <td>needfulCardinal0</td>\n",
       "      <td>105390</td>\n",
       "      <td>Bercerai</td>\n",
       "      <td>Wanita</td>\n",
       "      <td>Outsource</td>\n",
       "      <td>Software Engineer (Back End)</td>\n",
       "      <td>Senior_level</td>\n",
       "      <td>Bagus</td>\n",
       "      <td>Jakarta Timur</td>\n",
       "      <td>Indeed</td>\n",
       "      <td>...</td>\n",
       "      <td>+6281206622xxx</td>\n",
       "      <td>needfulCardinal0741@proton.com</td>\n",
       "      <td>Magister</td>\n",
       "      <td>1</td>\n",
       "      <td>NaN</td>\n",
       "      <td>tidak_bahagia</td>\n",
       "      <td>1989-09-01</td>\n",
       "      <td>2014-07-07</td>\n",
       "      <td>2020-2-27</td>\n",
       "      <td>2015-01-07</td>\n",
       "    </tr>\n",
       "    <tr>\n",
       "      <th>214</th>\n",
       "      <td>peacefulEggs3</td>\n",
       "      <td>106621</td>\n",
       "      <td>Belum_menikah</td>\n",
       "      <td>Pria</td>\n",
       "      <td>FullTime</td>\n",
       "      <td>Software Engineer (Android)</td>\n",
       "      <td>Freshgraduate_program</td>\n",
       "      <td>Biasa</td>\n",
       "      <td>Jakarta Utara</td>\n",
       "      <td>LinkedIn</td>\n",
       "      <td>...</td>\n",
       "      <td>+6285683205xxx</td>\n",
       "      <td>peacefulEggs3191@yahoo.com</td>\n",
       "      <td>Magister</td>\n",
       "      <td>1</td>\n",
       "      <td>NaN</td>\n",
       "      <td>leadership</td>\n",
       "      <td>1985-03-14</td>\n",
       "      <td>2014-2-17</td>\n",
       "      <td>2020-01-11</td>\n",
       "      <td>2014-8-19</td>\n",
       "    </tr>\n",
       "  </tbody>\n",
       "</table>\n",
       "<p>3 rows × 25 columns</p>\n",
       "</div>"
      ],
      "text/plain": [
       "             Username  EnterpriseID StatusPernikahan JenisKelamin  \\\n",
       "18    hushedSeahorse7        111202         Bercerai       Wanita   \n",
       "49   needfulCardinal0        105390         Bercerai       Wanita   \n",
       "214     peacefulEggs3        106621    Belum_menikah         Pria   \n",
       "\n",
       "    StatusKepegawaian                     Pekerjaan           JenjangKarir  \\\n",
       "18           FullTime                  Data Analyst  Freshgraduate_program   \n",
       "49          Outsource  Software Engineer (Back End)           Senior_level   \n",
       "214          FullTime   Software Engineer (Android)  Freshgraduate_program   \n",
       "\n",
       "    PerformancePegawai     AsalDaerah      HiringPlatform  ...  \\\n",
       "18        Sangat_bagus  Jakarta Pusat  Diversity_Job_Fair  ...   \n",
       "49               Bagus  Jakarta Timur              Indeed  ...   \n",
       "214              Biasa  Jakarta Utara            LinkedIn  ...   \n",
       "\n",
       "            NomorHP                           Email  TingkatPendidikan  \\\n",
       "18   +6281212698xxx   hushedSeahorse7404@icloud.com            Sarjana   \n",
       "49   +6281206622xxx  needfulCardinal0741@proton.com           Magister   \n",
       "214  +6285683205xxx      peacefulEggs3191@yahoo.com           Magister   \n",
       "\n",
       "     PernahBekerja  IkutProgramLOP       AlasanResign TanggalLahir  \\\n",
       "18               1             1.0  internal_conflict   1968-05-30   \n",
       "49               1             NaN      tidak_bahagia   1989-09-01   \n",
       "214              1             NaN         leadership   1985-03-14   \n",
       "\n",
       "    TanggalHiring TanggalPenilaianKaryawan  TanggalResign  \n",
       "18     2012-04-02               2017-02-05     2017-09-12  \n",
       "49     2014-07-07                2020-2-27     2015-01-07  \n",
       "214     2014-2-17               2020-01-11      2014-8-19  \n",
       "\n",
       "[3 rows x 25 columns]"
      ]
     },
     "execution_count": 128,
     "metadata": {},
     "output_type": "execute_result"
    }
   ],
   "source": [
    "df = pd.read_csv('Improving Employee Retention by Predicting Employee Attrition Using Machine Learning.csv')\n",
    "df.sample(3)"
   ]
  },
  {
   "cell_type": "markdown",
   "metadata": {},
   "source": [
    "## Exploratory Data Analysis\n",
    "\n",
    "### Overview Data\n",
    "\n",
    "Melakukan investigasi awal terhadap data untuk memahami karakteristik dan informasi yang terkandung didalamnya termasuk missing value dan duplikat."
   ]
  },
  {
   "cell_type": "code",
   "execution_count": 129,
   "metadata": {},
   "outputs": [
    {
     "data": {
      "text/plain": [
       "(287, 25)"
      ]
     },
     "execution_count": 129,
     "metadata": {},
     "output_type": "execute_result"
    }
   ],
   "source": [
    "df.shape"
   ]
  },
  {
   "cell_type": "code",
   "execution_count": 130,
   "metadata": {},
   "outputs": [
    {
     "name": "stdout",
     "output_type": "stream",
     "text": [
      "<class 'pandas.core.frame.DataFrame'>\n",
      "RangeIndex: 287 entries, 0 to 286\n",
      "Data columns (total 25 columns):\n",
      " #   Column                              Non-Null Count  Dtype  \n",
      "---  ------                              --------------  -----  \n",
      " 0   Username                            287 non-null    object \n",
      " 1   EnterpriseID                        287 non-null    int64  \n",
      " 2   StatusPernikahan                    287 non-null    object \n",
      " 3   JenisKelamin                        287 non-null    object \n",
      " 4   StatusKepegawaian                   287 non-null    object \n",
      " 5   Pekerjaan                           287 non-null    object \n",
      " 6   JenjangKarir                        287 non-null    object \n",
      " 7   PerformancePegawai                  287 non-null    object \n",
      " 8   AsalDaerah                          287 non-null    object \n",
      " 9   HiringPlatform                      287 non-null    object \n",
      " 10  SkorSurveyEngagement                287 non-null    int64  \n",
      " 11  SkorKepuasanPegawai                 282 non-null    float64\n",
      " 12  JumlahKeikutsertaanProjek           284 non-null    float64\n",
      " 13  JumlahKeterlambatanSebulanTerakhir  286 non-null    float64\n",
      " 14  JumlahKetidakhadiran                281 non-null    float64\n",
      " 15  NomorHP                             287 non-null    object \n",
      " 16  Email                               287 non-null    object \n",
      " 17  TingkatPendidikan                   287 non-null    object \n",
      " 18  PernahBekerja                       287 non-null    object \n",
      " 19  IkutProgramLOP                      29 non-null     float64\n",
      " 20  AlasanResign                        221 non-null    object \n",
      " 21  TanggalLahir                        287 non-null    object \n",
      " 22  TanggalHiring                       287 non-null    object \n",
      " 23  TanggalPenilaianKaryawan            287 non-null    object \n",
      " 24  TanggalResign                       287 non-null    object \n",
      "dtypes: float64(5), int64(2), object(18)\n",
      "memory usage: 56.2+ KB\n"
     ]
    }
   ],
   "source": [
    "df.info()"
   ]
  },
  {
   "cell_type": "code",
   "execution_count": 131,
   "metadata": {},
   "outputs": [
    {
     "data": {
      "text/plain": [
       "Username                                0\n",
       "EnterpriseID                            0\n",
       "StatusPernikahan                        0\n",
       "JenisKelamin                            0\n",
       "StatusKepegawaian                       0\n",
       "Pekerjaan                               0\n",
       "JenjangKarir                            0\n",
       "PerformancePegawai                      0\n",
       "AsalDaerah                              0\n",
       "HiringPlatform                          0\n",
       "SkorSurveyEngagement                    0\n",
       "SkorKepuasanPegawai                     5\n",
       "JumlahKeikutsertaanProjek               3\n",
       "JumlahKeterlambatanSebulanTerakhir      1\n",
       "JumlahKetidakhadiran                    6\n",
       "NomorHP                                 0\n",
       "Email                                   0\n",
       "TingkatPendidikan                       0\n",
       "PernahBekerja                           0\n",
       "IkutProgramLOP                        258\n",
       "AlasanResign                           66\n",
       "TanggalLahir                            0\n",
       "TanggalHiring                           0\n",
       "TanggalPenilaianKaryawan                0\n",
       "TanggalResign                           0\n",
       "dtype: int64"
      ]
     },
     "execution_count": 131,
     "metadata": {},
     "output_type": "execute_result"
    }
   ],
   "source": [
    "df.isnull().sum()"
   ]
  },
  {
   "cell_type": "markdown",
   "metadata": {},
   "source": [
    "Terdapat beberapa fitur yang missing value yaitu `SkorKepuasanPegawai`, `JumlahKeikutsertaanProjek`, `JumlahKeterlambatanSebulanTerakhir`, `JumlahKetidakhadiran`, `IkutProgramLOP`, `AlasanResign`"
   ]
  },
  {
   "cell_type": "code",
   "execution_count": 132,
   "metadata": {},
   "outputs": [
    {
     "data": {
      "text/html": [
       "<div>\n",
       "<style scoped>\n",
       "    .dataframe tbody tr th:only-of-type {\n",
       "        vertical-align: middle;\n",
       "    }\n",
       "\n",
       "    .dataframe tbody tr th {\n",
       "        vertical-align: top;\n",
       "    }\n",
       "\n",
       "    .dataframe thead th {\n",
       "        text-align: right;\n",
       "    }\n",
       "</style>\n",
       "<table border=\"1\" class=\"dataframe\">\n",
       "  <thead>\n",
       "    <tr style=\"text-align: right;\">\n",
       "      <th></th>\n",
       "      <th>Username</th>\n",
       "      <th>EnterpriseID</th>\n",
       "      <th>StatusPernikahan</th>\n",
       "      <th>JenisKelamin</th>\n",
       "      <th>StatusKepegawaian</th>\n",
       "      <th>Pekerjaan</th>\n",
       "    </tr>\n",
       "  </thead>\n",
       "  <tbody>\n",
       "    <tr>\n",
       "      <th>0</th>\n",
       "      <td>Username</td>\n",
       "      <td>object</td>\n",
       "      <td>0</td>\n",
       "      <td>0.00</td>\n",
       "      <td>285</td>\n",
       "      <td>[spiritedPorpoise3, jealousGelding2, pluckyMue...</td>\n",
       "    </tr>\n",
       "    <tr>\n",
       "      <th>1</th>\n",
       "      <td>EnterpriseID</td>\n",
       "      <td>int64</td>\n",
       "      <td>0</td>\n",
       "      <td>0.00</td>\n",
       "      <td>287</td>\n",
       "      <td>[111065, 106080, 106452, 106325, 111171, 10641...</td>\n",
       "    </tr>\n",
       "    <tr>\n",
       "      <th>2</th>\n",
       "      <td>StatusPernikahan</td>\n",
       "      <td>object</td>\n",
       "      <td>0</td>\n",
       "      <td>0.00</td>\n",
       "      <td>5</td>\n",
       "      <td>[Belum_menikah, Menikah, Bercerai, Lainnya, -]</td>\n",
       "    </tr>\n",
       "    <tr>\n",
       "      <th>3</th>\n",
       "      <td>JenisKelamin</td>\n",
       "      <td>object</td>\n",
       "      <td>0</td>\n",
       "      <td>0.00</td>\n",
       "      <td>2</td>\n",
       "      <td>[Pria, Wanita]</td>\n",
       "    </tr>\n",
       "    <tr>\n",
       "      <th>4</th>\n",
       "      <td>StatusKepegawaian</td>\n",
       "      <td>object</td>\n",
       "      <td>0</td>\n",
       "      <td>0.00</td>\n",
       "      <td>3</td>\n",
       "      <td>[Outsource, FullTime, Internship]</td>\n",
       "    </tr>\n",
       "    <tr>\n",
       "      <th>5</th>\n",
       "      <td>Pekerjaan</td>\n",
       "      <td>object</td>\n",
       "      <td>0</td>\n",
       "      <td>0.00</td>\n",
       "      <td>14</td>\n",
       "      <td>[Software Engineer (Back End), Data Analyst, S...</td>\n",
       "    </tr>\n",
       "    <tr>\n",
       "      <th>6</th>\n",
       "      <td>JenjangKarir</td>\n",
       "      <td>object</td>\n",
       "      <td>0</td>\n",
       "      <td>0.00</td>\n",
       "      <td>3</td>\n",
       "      <td>[Freshgraduate_program, Senior_level, Mid_level]</td>\n",
       "    </tr>\n",
       "    <tr>\n",
       "      <th>7</th>\n",
       "      <td>PerformancePegawai</td>\n",
       "      <td>object</td>\n",
       "      <td>0</td>\n",
       "      <td>0.00</td>\n",
       "      <td>5</td>\n",
       "      <td>[Sangat_bagus, Sangat_kurang, Bagus, Biasa, Ku...</td>\n",
       "    </tr>\n",
       "    <tr>\n",
       "      <th>8</th>\n",
       "      <td>AsalDaerah</td>\n",
       "      <td>object</td>\n",
       "      <td>0</td>\n",
       "      <td>0.00</td>\n",
       "      <td>5</td>\n",
       "      <td>[Jakarta Timur, Jakarta Utara, Jakarta Pusat, ...</td>\n",
       "    </tr>\n",
       "    <tr>\n",
       "      <th>9</th>\n",
       "      <td>HiringPlatform</td>\n",
       "      <td>object</td>\n",
       "      <td>0</td>\n",
       "      <td>0.00</td>\n",
       "      <td>9</td>\n",
       "      <td>[Employee_Referral, Website, Indeed, LinkedIn,...</td>\n",
       "    </tr>\n",
       "    <tr>\n",
       "      <th>10</th>\n",
       "      <td>SkorSurveyEngagement</td>\n",
       "      <td>int64</td>\n",
       "      <td>0</td>\n",
       "      <td>0.00</td>\n",
       "      <td>5</td>\n",
       "      <td>[4, 3, 2, 1, 5]</td>\n",
       "    </tr>\n",
       "    <tr>\n",
       "      <th>11</th>\n",
       "      <td>SkorKepuasanPegawai</td>\n",
       "      <td>float64</td>\n",
       "      <td>5</td>\n",
       "      <td>1.74</td>\n",
       "      <td>5</td>\n",
       "      <td>[4.0, 3.0, 5.0, nan, 2.0, 1.0]</td>\n",
       "    </tr>\n",
       "    <tr>\n",
       "      <th>12</th>\n",
       "      <td>JumlahKeikutsertaanProjek</td>\n",
       "      <td>float64</td>\n",
       "      <td>3</td>\n",
       "      <td>1.05</td>\n",
       "      <td>9</td>\n",
       "      <td>[0.0, 4.0, 6.0, nan, 7.0, 3.0, 5.0, 1.0, 2.0, ...</td>\n",
       "    </tr>\n",
       "    <tr>\n",
       "      <th>13</th>\n",
       "      <td>JumlahKeterlambatanSebulanTerakhir</td>\n",
       "      <td>float64</td>\n",
       "      <td>1</td>\n",
       "      <td>0.35</td>\n",
       "      <td>7</td>\n",
       "      <td>[0.0, 4.0, 3.0, 5.0, 2.0, 6.0, 1.0, nan]</td>\n",
       "    </tr>\n",
       "    <tr>\n",
       "      <th>14</th>\n",
       "      <td>JumlahKetidakhadiran</td>\n",
       "      <td>float64</td>\n",
       "      <td>6</td>\n",
       "      <td>2.09</td>\n",
       "      <td>22</td>\n",
       "      <td>[9.0, 3.0, 11.0, 6.0, 10.0, 19.0, 4.0, 5.0, 2....</td>\n",
       "    </tr>\n",
       "    <tr>\n",
       "      <th>15</th>\n",
       "      <td>NomorHP</td>\n",
       "      <td>object</td>\n",
       "      <td>0</td>\n",
       "      <td>0.00</td>\n",
       "      <td>287</td>\n",
       "      <td>[+6282232522xxx, +6281270745xxx, +6281346215xx...</td>\n",
       "    </tr>\n",
       "    <tr>\n",
       "      <th>16</th>\n",
       "      <td>Email</td>\n",
       "      <td>object</td>\n",
       "      <td>0</td>\n",
       "      <td>0.00</td>\n",
       "      <td>287</td>\n",
       "      <td>[spiritedPorpoise3135@yahoo.com, jealousGeldin...</td>\n",
       "    </tr>\n",
       "    <tr>\n",
       "      <th>17</th>\n",
       "      <td>TingkatPendidikan</td>\n",
       "      <td>object</td>\n",
       "      <td>0</td>\n",
       "      <td>0.00</td>\n",
       "      <td>3</td>\n",
       "      <td>[Magister, Sarjana, Doktor]</td>\n",
       "    </tr>\n",
       "    <tr>\n",
       "      <th>18</th>\n",
       "      <td>PernahBekerja</td>\n",
       "      <td>object</td>\n",
       "      <td>0</td>\n",
       "      <td>0.00</td>\n",
       "      <td>2</td>\n",
       "      <td>[1, yes]</td>\n",
       "    </tr>\n",
       "    <tr>\n",
       "      <th>19</th>\n",
       "      <td>IkutProgramLOP</td>\n",
       "      <td>float64</td>\n",
       "      <td>258</td>\n",
       "      <td>89.90</td>\n",
       "      <td>2</td>\n",
       "      <td>[1.0, 0.0, nan]</td>\n",
       "    </tr>\n",
       "    <tr>\n",
       "      <th>20</th>\n",
       "      <td>AlasanResign</td>\n",
       "      <td>object</td>\n",
       "      <td>66</td>\n",
       "      <td>23.00</td>\n",
       "      <td>11</td>\n",
       "      <td>[masih_bekerja, toxic_culture, jam_kerja, gant...</td>\n",
       "    </tr>\n",
       "    <tr>\n",
       "      <th>21</th>\n",
       "      <td>TanggalLahir</td>\n",
       "      <td>object</td>\n",
       "      <td>0</td>\n",
       "      <td>0.00</td>\n",
       "      <td>284</td>\n",
       "      <td>[1972-07-01, 1984-04-26, 1974-01-07, 1979-11-2...</td>\n",
       "    </tr>\n",
       "    <tr>\n",
       "      <th>22</th>\n",
       "      <td>TanggalHiring</td>\n",
       "      <td>object</td>\n",
       "      <td>0</td>\n",
       "      <td>0.00</td>\n",
       "      <td>97</td>\n",
       "      <td>[2011-01-10, 2014-01-06, 2014-2-17, 2013-11-11...</td>\n",
       "    </tr>\n",
       "    <tr>\n",
       "      <th>23</th>\n",
       "      <td>TanggalPenilaianKaryawan</td>\n",
       "      <td>object</td>\n",
       "      <td>0</td>\n",
       "      <td>0.00</td>\n",
       "      <td>127</td>\n",
       "      <td>[2016-2-15, 2020-1-17, 2016-01-10, 2020-02-04,...</td>\n",
       "    </tr>\n",
       "    <tr>\n",
       "      <th>24</th>\n",
       "      <td>TanggalResign</td>\n",
       "      <td>object</td>\n",
       "      <td>0</td>\n",
       "      <td>0.00</td>\n",
       "      <td>53</td>\n",
       "      <td>[-, 2018-6-16, 2014-9-24, 2018-09-06, 2019-01-...</td>\n",
       "    </tr>\n",
       "  </tbody>\n",
       "</table>\n",
       "</div>"
      ],
      "text/plain": [
       "                              Username  EnterpriseID   StatusPernikahan  \\\n",
       "0                             Username        object                  0   \n",
       "1                         EnterpriseID         int64                  0   \n",
       "2                     StatusPernikahan        object                  0   \n",
       "3                         JenisKelamin        object                  0   \n",
       "4                    StatusKepegawaian        object                  0   \n",
       "5                            Pekerjaan        object                  0   \n",
       "6                         JenjangKarir        object                  0   \n",
       "7                   PerformancePegawai        object                  0   \n",
       "8                           AsalDaerah        object                  0   \n",
       "9                       HiringPlatform        object                  0   \n",
       "10                SkorSurveyEngagement         int64                  0   \n",
       "11                 SkorKepuasanPegawai       float64                  5   \n",
       "12           JumlahKeikutsertaanProjek       float64                  3   \n",
       "13  JumlahKeterlambatanSebulanTerakhir       float64                  1   \n",
       "14                JumlahKetidakhadiran       float64                  6   \n",
       "15                             NomorHP        object                  0   \n",
       "16                               Email        object                  0   \n",
       "17                   TingkatPendidikan        object                  0   \n",
       "18                       PernahBekerja        object                  0   \n",
       "19                      IkutProgramLOP       float64                258   \n",
       "20                        AlasanResign        object                 66   \n",
       "21                        TanggalLahir        object                  0   \n",
       "22                       TanggalHiring        object                  0   \n",
       "23            TanggalPenilaianKaryawan        object                  0   \n",
       "24                       TanggalResign        object                  0   \n",
       "\n",
       "     JenisKelamin   StatusKepegawaian  \\\n",
       "0            0.00                 285   \n",
       "1            0.00                 287   \n",
       "2            0.00                   5   \n",
       "3            0.00                   2   \n",
       "4            0.00                   3   \n",
       "5            0.00                  14   \n",
       "6            0.00                   3   \n",
       "7            0.00                   5   \n",
       "8            0.00                   5   \n",
       "9            0.00                   9   \n",
       "10           0.00                   5   \n",
       "11           1.74                   5   \n",
       "12           1.05                   9   \n",
       "13           0.35                   7   \n",
       "14           2.09                  22   \n",
       "15           0.00                 287   \n",
       "16           0.00                 287   \n",
       "17           0.00                   3   \n",
       "18           0.00                   2   \n",
       "19          89.90                   2   \n",
       "20          23.00                  11   \n",
       "21           0.00                 284   \n",
       "22           0.00                  97   \n",
       "23           0.00                 127   \n",
       "24           0.00                  53   \n",
       "\n",
       "                                            Pekerjaan  \n",
       "0   [spiritedPorpoise3, jealousGelding2, pluckyMue...  \n",
       "1   [111065, 106080, 106452, 106325, 111171, 10641...  \n",
       "2      [Belum_menikah, Menikah, Bercerai, Lainnya, -]  \n",
       "3                                      [Pria, Wanita]  \n",
       "4                   [Outsource, FullTime, Internship]  \n",
       "5   [Software Engineer (Back End), Data Analyst, S...  \n",
       "6    [Freshgraduate_program, Senior_level, Mid_level]  \n",
       "7   [Sangat_bagus, Sangat_kurang, Bagus, Biasa, Ku...  \n",
       "8   [Jakarta Timur, Jakarta Utara, Jakarta Pusat, ...  \n",
       "9   [Employee_Referral, Website, Indeed, LinkedIn,...  \n",
       "10                                    [4, 3, 2, 1, 5]  \n",
       "11                     [4.0, 3.0, 5.0, nan, 2.0, 1.0]  \n",
       "12  [0.0, 4.0, 6.0, nan, 7.0, 3.0, 5.0, 1.0, 2.0, ...  \n",
       "13           [0.0, 4.0, 3.0, 5.0, 2.0, 6.0, 1.0, nan]  \n",
       "14  [9.0, 3.0, 11.0, 6.0, 10.0, 19.0, 4.0, 5.0, 2....  \n",
       "15  [+6282232522xxx, +6281270745xxx, +6281346215xx...  \n",
       "16  [spiritedPorpoise3135@yahoo.com, jealousGeldin...  \n",
       "17                        [Magister, Sarjana, Doktor]  \n",
       "18                                           [1, yes]  \n",
       "19                                    [1.0, 0.0, nan]  \n",
       "20  [masih_bekerja, toxic_culture, jam_kerja, gant...  \n",
       "21  [1972-07-01, 1984-04-26, 1974-01-07, 1979-11-2...  \n",
       "22  [2011-01-10, 2014-01-06, 2014-2-17, 2013-11-11...  \n",
       "23  [2016-2-15, 2020-1-17, 2016-01-10, 2020-02-04,...  \n",
       "24  [-, 2018-6-16, 2014-9-24, 2018-09-06, 2019-01-...  "
      ]
     },
     "execution_count": 132,
     "metadata": {},
     "output_type": "execute_result"
    }
   ],
   "source": [
    "# overview\n",
    "list_item = []\n",
    "for col in df.columns:\n",
    "    list_item.append([col, df[col].dtype, df[col].isna().sum(), round(100*df[col].isna().sum()/len(df[col]), 2), df[col].nunique(), df[col].unique()[:10]])\n",
    "desc_df = pd.DataFrame(data=list_item, columns='Username, EnterpriseID, StatusPernikahan, JenisKelamin, StatusKepegawaian, Pekerjaan'.split(\",\"))\n",
    "desc_df"
   ]
  },
  {
   "cell_type": "markdown",
   "metadata": {},
   "source": [
    "Di Fitur pernah bekerja terdapat keanehan data yaitu data numerik dengan kategorikal contohnya [1, yes]"
   ]
  },
  {
   "cell_type": "code",
   "execution_count": 133,
   "metadata": {},
   "outputs": [
    {
     "data": {
      "text/plain": [
       "0"
      ]
     },
     "execution_count": 133,
     "metadata": {},
     "output_type": "execute_result"
    }
   ],
   "source": [
    "df.duplicated().sum()"
   ]
  },
  {
   "cell_type": "code",
   "execution_count": 134,
   "metadata": {},
   "outputs": [
    {
     "data": {
      "text/plain": [
       "['EnterpriseID',\n",
       " 'SkorSurveyEngagement',\n",
       " 'SkorKepuasanPegawai',\n",
       " 'JumlahKeikutsertaanProjek',\n",
       " 'JumlahKeterlambatanSebulanTerakhir',\n",
       " 'JumlahKetidakhadiran',\n",
       " 'IkutProgramLOP']"
      ]
     },
     "execution_count": 134,
     "metadata": {},
     "output_type": "execute_result"
    }
   ],
   "source": [
    "# numerikal fitur\n",
    "nums = df.loc[:, (df.dtypes == 'int64') | (df.dtypes == float)].columns.tolist()\n",
    "nums"
   ]
  },
  {
   "cell_type": "code",
   "execution_count": 135,
   "metadata": {},
   "outputs": [
    {
     "data": {
      "text/plain": [
       "['Username',\n",
       " 'StatusPernikahan',\n",
       " 'JenisKelamin',\n",
       " 'StatusKepegawaian',\n",
       " 'Pekerjaan',\n",
       " 'JenjangKarir',\n",
       " 'PerformancePegawai',\n",
       " 'AsalDaerah',\n",
       " 'HiringPlatform',\n",
       " 'NomorHP',\n",
       " 'Email',\n",
       " 'TingkatPendidikan',\n",
       " 'PernahBekerja',\n",
       " 'AlasanResign',\n",
       " 'TanggalLahir',\n",
       " 'TanggalHiring',\n",
       " 'TanggalPenilaianKaryawan',\n",
       " 'TanggalResign']"
      ]
     },
     "execution_count": 135,
     "metadata": {},
     "output_type": "execute_result"
    }
   ],
   "source": [
    "# kategorikal fitur\n",
    "cats = df.loc[:, (df.dtypes == 'object')].columns.tolist()\n",
    "cats"
   ]
  },
  {
   "cell_type": "markdown",
   "metadata": {},
   "source": [
    "## **Poin-poin Penting**\n",
    "\n",
    "**Karakteristik Data:**\n",
    "\n",
    "- Dataset terdiri dari 287 baris dan 25 fitur.\n",
    "- 7 fitur numerik dan 18 fitur kategori\n",
    "\n",
    "**Missing Value:**\n",
    "\n",
    "- Terdapat missing value pada fitur :\n",
    "    - SkorKepuasanPegawai \n",
    "    - JumlahKeikutsertaanProjek\n",
    "    - JumlahKeterlambatanSebulanTerakhir\n",
    "    - JumlahKetidakhadiran\n",
    "    - IkutProgramLOP\n",
    "    - AlasanResign\n",
    "\n",
    " **Duplikat Data:**\n",
    "- Tidak ada duplikat data dalam dataset.\n",
    "\n",
    "## Statistical Summary"
   ]
  },
  {
   "cell_type": "code",
   "execution_count": 136,
   "metadata": {},
   "outputs": [
    {
     "data": {
      "text/html": [
       "<div>\n",
       "<style scoped>\n",
       "    .dataframe tbody tr th:only-of-type {\n",
       "        vertical-align: middle;\n",
       "    }\n",
       "\n",
       "    .dataframe tbody tr th {\n",
       "        vertical-align: top;\n",
       "    }\n",
       "\n",
       "    .dataframe thead th {\n",
       "        text-align: right;\n",
       "    }\n",
       "</style>\n",
       "<table border=\"1\" class=\"dataframe\">\n",
       "  <thead>\n",
       "    <tr style=\"text-align: right;\">\n",
       "      <th></th>\n",
       "      <th>count</th>\n",
       "      <th>mean</th>\n",
       "      <th>std</th>\n",
       "      <th>min</th>\n",
       "      <th>25%</th>\n",
       "      <th>50%</th>\n",
       "      <th>75%</th>\n",
       "      <th>max</th>\n",
       "    </tr>\n",
       "  </thead>\n",
       "  <tbody>\n",
       "    <tr>\n",
       "      <th>EnterpriseID</th>\n",
       "      <td>287.0</td>\n",
       "      <td>105923.0</td>\n",
       "      <td>4045.0</td>\n",
       "      <td>100282.0</td>\n",
       "      <td>101269.0</td>\n",
       "      <td>106069.0</td>\n",
       "      <td>110514.0</td>\n",
       "      <td>111703.0</td>\n",
       "    </tr>\n",
       "    <tr>\n",
       "      <th>SkorSurveyEngagement</th>\n",
       "      <td>287.0</td>\n",
       "      <td>3.0</td>\n",
       "      <td>1.0</td>\n",
       "      <td>1.0</td>\n",
       "      <td>3.0</td>\n",
       "      <td>3.0</td>\n",
       "      <td>4.0</td>\n",
       "      <td>5.0</td>\n",
       "    </tr>\n",
       "    <tr>\n",
       "      <th>SkorKepuasanPegawai</th>\n",
       "      <td>282.0</td>\n",
       "      <td>4.0</td>\n",
       "      <td>1.0</td>\n",
       "      <td>1.0</td>\n",
       "      <td>3.0</td>\n",
       "      <td>4.0</td>\n",
       "      <td>5.0</td>\n",
       "      <td>5.0</td>\n",
       "    </tr>\n",
       "    <tr>\n",
       "      <th>JumlahKeikutsertaanProjek</th>\n",
       "      <td>284.0</td>\n",
       "      <td>1.0</td>\n",
       "      <td>2.0</td>\n",
       "      <td>0.0</td>\n",
       "      <td>0.0</td>\n",
       "      <td>0.0</td>\n",
       "      <td>0.0</td>\n",
       "      <td>8.0</td>\n",
       "    </tr>\n",
       "    <tr>\n",
       "      <th>JumlahKeterlambatanSebulanTerakhir</th>\n",
       "      <td>286.0</td>\n",
       "      <td>0.0</td>\n",
       "      <td>1.0</td>\n",
       "      <td>0.0</td>\n",
       "      <td>0.0</td>\n",
       "      <td>0.0</td>\n",
       "      <td>0.0</td>\n",
       "      <td>6.0</td>\n",
       "    </tr>\n",
       "    <tr>\n",
       "      <th>JumlahKetidakhadiran</th>\n",
       "      <td>281.0</td>\n",
       "      <td>10.0</td>\n",
       "      <td>7.0</td>\n",
       "      <td>1.0</td>\n",
       "      <td>5.0</td>\n",
       "      <td>10.0</td>\n",
       "      <td>15.0</td>\n",
       "      <td>55.0</td>\n",
       "    </tr>\n",
       "    <tr>\n",
       "      <th>IkutProgramLOP</th>\n",
       "      <td>29.0</td>\n",
       "      <td>1.0</td>\n",
       "      <td>1.0</td>\n",
       "      <td>0.0</td>\n",
       "      <td>0.0</td>\n",
       "      <td>1.0</td>\n",
       "      <td>1.0</td>\n",
       "      <td>1.0</td>\n",
       "    </tr>\n",
       "  </tbody>\n",
       "</table>\n",
       "</div>"
      ],
      "text/plain": [
       "                                    count      mean     std       min  \\\n",
       "EnterpriseID                        287.0  105923.0  4045.0  100282.0   \n",
       "SkorSurveyEngagement                287.0       3.0     1.0       1.0   \n",
       "SkorKepuasanPegawai                 282.0       4.0     1.0       1.0   \n",
       "JumlahKeikutsertaanProjek           284.0       1.0     2.0       0.0   \n",
       "JumlahKeterlambatanSebulanTerakhir  286.0       0.0     1.0       0.0   \n",
       "JumlahKetidakhadiran                281.0      10.0     7.0       1.0   \n",
       "IkutProgramLOP                       29.0       1.0     1.0       0.0   \n",
       "\n",
       "                                         25%       50%       75%       max  \n",
       "EnterpriseID                        101269.0  106069.0  110514.0  111703.0  \n",
       "SkorSurveyEngagement                     3.0       3.0       4.0       5.0  \n",
       "SkorKepuasanPegawai                      3.0       4.0       5.0       5.0  \n",
       "JumlahKeikutsertaanProjek                0.0       0.0       0.0       8.0  \n",
       "JumlahKeterlambatanSebulanTerakhir       0.0       0.0       0.0       6.0  \n",
       "JumlahKetidakhadiran                     5.0      10.0      15.0      55.0  \n",
       "IkutProgramLOP                           0.0       1.0       1.0       1.0  "
      ]
     },
     "execution_count": 136,
     "metadata": {},
     "output_type": "execute_result"
    }
   ],
   "source": [
    "df[nums].describe().round(0).T"
   ]
  },
  {
   "cell_type": "markdown",
   "metadata": {},
   "source": [
    "**Key Takeaways:**\n",
    "\n",
    "- Dilihat dari nilai mean dan median yang tidak begitu jauh nilainya, distribusi data cenderung mendekati normal\n",
    "- Mayoritas karyawan memiliki **SkorSurveyEngagement 3.0 dari 5.0**\n",
    "- Mayoritas karyawan memiliki **SkorKepuasanPegawai 4.0 dari 5.0**\n",
    "- Mayoritas karyawan memiliki **JumlahKeikutsertaanProjek 0.0 dari 8.0**\n",
    "- Mayoritas karyawan memiliki **JumlahKeterlambatanSebulanTerakhir\t0.0 dari 6.0**\n",
    "- Mayoritas karyawan memiliki **JumlahKetidakhadiran 10.0 dari 55.0**\n",
    "- Mayoritas karyawan memiliki **IkutProgramLOP 1.0 dari 1.0 dari jumlah karyawan yang totalnya 287 yang hanya mengisi 29**\n",
    "\n",
    "**Penjelasan**\n",
    "- Jika mayoritas karyawan memiliki **Skor Survey Engagement sebesar 3.0 dari 5.0**, hal ini menunjukkan adanya tingkat keterlibatan yang cenderung rata-rata. \n",
    "- Jika **Skor Kepuasan Pegawai sebesar 4.0 dari 5.0**, itu menunjukkan bahwa mayoritas pegawai merasa cukup puas dengan kondisi dan pengalaman mereka di perusahaan. Meskipun sudah mencapai tingkat kepuasan yang baik, perusahaan dapat tetap mengambil langkah-langkah untuk mempertahankan dan meningkatkan kepuasan pegawai\n",
    "- Jika mayoritas karyawan memiliki Jumlah **Keikutsertaan Projek sebesar 0.0 dari 8.0**, ini mungkin menunjukkan bahwa karyawan tidak terlibat dalam proyek-proyek perusahaan atau memiliki tingkat partisipasi yang sangat rendah. Situasi ini dapat memiliki dampak negatif pada motivasi, pengembangan keterampilan, dan rasa kepemilikan terhadap pekerjaan.\n",
    "- Jika mayoritas karyawan memiliki **Jumlah Keterlambatan sebesar 0.0 dari 6.0**, itu menunjukkan bahwa sebagian besar karyawan memiliki rekam jejak kehadiran yang baik dan jarang mengalami keterlambatan. Ini bisa diartikan sebagai indikator positif terhadap disiplin dan keteraturan karyawan dalam memenuhi kewajiban mereka terkait waktu kerja. Walaupun demikian, tetap diperlukan pemantauan dan tindakan yang proaktif untuk memastikan bahwa keadaan ini tetap terjaga.\n",
    "- Jika mayoritas karyawan memiliki **Jumlah Ketidakhadiran sebesar 10.0 dari 55.0**, ini menunjukkan bahwa ada sejumlah tingkat ketidakhadiran di antara karyawan yang mungkin memerlukan perhatian lebih lanjut. Ketidakhadiran dapat memiliki dampak negatif pada produktivitas dan kinerja perusahaan secara keseluruhan. \n",
    "- Jika mayoritas dari karyawan, yang jumlahnya total 287 namun hanya 29 yang mengisi, memiliki Skor Ikut Program Loyalitas dan Organisasi (LOP) sebesar 1.0 dari 1.0, hal ini menunjukkan bahwa karyawan yang telah mengisi survei sangat positif terhadap dan berpartisipasi dalam program LOP yang ditawarkan oleh perusahaan. Meskipun jumlah responden relatif kecil dibandingkan dengan jumlah total karyawan, skor penuh menunjukkan tingkat kepuasan yang tinggi terhadap program tersebut. "
   ]
  },
  {
   "cell_type": "code",
   "execution_count": 137,
   "metadata": {},
   "outputs": [
    {
     "data": {
      "text/html": [
       "<div>\n",
       "<style scoped>\n",
       "    .dataframe tbody tr th:only-of-type {\n",
       "        vertical-align: middle;\n",
       "    }\n",
       "\n",
       "    .dataframe tbody tr th {\n",
       "        vertical-align: top;\n",
       "    }\n",
       "\n",
       "    .dataframe thead th {\n",
       "        text-align: right;\n",
       "    }\n",
       "</style>\n",
       "<table border=\"1\" class=\"dataframe\">\n",
       "  <thead>\n",
       "    <tr style=\"text-align: right;\">\n",
       "      <th></th>\n",
       "      <th>count</th>\n",
       "      <th>unique</th>\n",
       "      <th>top</th>\n",
       "      <th>freq</th>\n",
       "    </tr>\n",
       "  </thead>\n",
       "  <tbody>\n",
       "    <tr>\n",
       "      <th>Username</th>\n",
       "      <td>287</td>\n",
       "      <td>285</td>\n",
       "      <td>boredEggs0</td>\n",
       "      <td>2</td>\n",
       "    </tr>\n",
       "    <tr>\n",
       "      <th>StatusPernikahan</th>\n",
       "      <td>287</td>\n",
       "      <td>5</td>\n",
       "      <td>Belum_menikah</td>\n",
       "      <td>132</td>\n",
       "    </tr>\n",
       "    <tr>\n",
       "      <th>JenisKelamin</th>\n",
       "      <td>287</td>\n",
       "      <td>2</td>\n",
       "      <td>Wanita</td>\n",
       "      <td>167</td>\n",
       "    </tr>\n",
       "    <tr>\n",
       "      <th>StatusKepegawaian</th>\n",
       "      <td>287</td>\n",
       "      <td>3</td>\n",
       "      <td>FullTime</td>\n",
       "      <td>217</td>\n",
       "    </tr>\n",
       "    <tr>\n",
       "      <th>Pekerjaan</th>\n",
       "      <td>287</td>\n",
       "      <td>14</td>\n",
       "      <td>Software Engineer (Back End)</td>\n",
       "      <td>109</td>\n",
       "    </tr>\n",
       "    <tr>\n",
       "      <th>JenjangKarir</th>\n",
       "      <td>287</td>\n",
       "      <td>3</td>\n",
       "      <td>Freshgraduate_program</td>\n",
       "      <td>169</td>\n",
       "    </tr>\n",
       "    <tr>\n",
       "      <th>PerformancePegawai</th>\n",
       "      <td>287</td>\n",
       "      <td>5</td>\n",
       "      <td>Biasa</td>\n",
       "      <td>85</td>\n",
       "    </tr>\n",
       "    <tr>\n",
       "      <th>AsalDaerah</th>\n",
       "      <td>287</td>\n",
       "      <td>5</td>\n",
       "      <td>Jakarta Pusat</td>\n",
       "      <td>72</td>\n",
       "    </tr>\n",
       "    <tr>\n",
       "      <th>HiringPlatform</th>\n",
       "      <td>287</td>\n",
       "      <td>9</td>\n",
       "      <td>Indeed</td>\n",
       "      <td>85</td>\n",
       "    </tr>\n",
       "    <tr>\n",
       "      <th>NomorHP</th>\n",
       "      <td>287</td>\n",
       "      <td>287</td>\n",
       "      <td>+6282232522xxx</td>\n",
       "      <td>1</td>\n",
       "    </tr>\n",
       "    <tr>\n",
       "      <th>Email</th>\n",
       "      <td>287</td>\n",
       "      <td>287</td>\n",
       "      <td>spiritedPorpoise3135@yahoo.com</td>\n",
       "      <td>1</td>\n",
       "    </tr>\n",
       "    <tr>\n",
       "      <th>TingkatPendidikan</th>\n",
       "      <td>287</td>\n",
       "      <td>3</td>\n",
       "      <td>Sarjana</td>\n",
       "      <td>176</td>\n",
       "    </tr>\n",
       "    <tr>\n",
       "      <th>PernahBekerja</th>\n",
       "      <td>287</td>\n",
       "      <td>2</td>\n",
       "      <td>1</td>\n",
       "      <td>286</td>\n",
       "    </tr>\n",
       "    <tr>\n",
       "      <th>AlasanResign</th>\n",
       "      <td>221</td>\n",
       "      <td>11</td>\n",
       "      <td>masih_bekerja</td>\n",
       "      <td>132</td>\n",
       "    </tr>\n",
       "    <tr>\n",
       "      <th>TanggalLahir</th>\n",
       "      <td>287</td>\n",
       "      <td>284</td>\n",
       "      <td>1987-06-14</td>\n",
       "      <td>2</td>\n",
       "    </tr>\n",
       "    <tr>\n",
       "      <th>TanggalHiring</th>\n",
       "      <td>287</td>\n",
       "      <td>97</td>\n",
       "      <td>2011-01-10</td>\n",
       "      <td>12</td>\n",
       "    </tr>\n",
       "    <tr>\n",
       "      <th>TanggalPenilaianKaryawan</th>\n",
       "      <td>287</td>\n",
       "      <td>127</td>\n",
       "      <td>2020-1-14</td>\n",
       "      <td>17</td>\n",
       "    </tr>\n",
       "    <tr>\n",
       "      <th>TanggalResign</th>\n",
       "      <td>287</td>\n",
       "      <td>53</td>\n",
       "      <td>-</td>\n",
       "      <td>198</td>\n",
       "    </tr>\n",
       "  </tbody>\n",
       "</table>\n",
       "</div>"
      ],
      "text/plain": [
       "                         count unique                             top freq\n",
       "Username                   287    285                      boredEggs0    2\n",
       "StatusPernikahan           287      5                   Belum_menikah  132\n",
       "JenisKelamin               287      2                          Wanita  167\n",
       "StatusKepegawaian          287      3                        FullTime  217\n",
       "Pekerjaan                  287     14    Software Engineer (Back End)  109\n",
       "JenjangKarir               287      3           Freshgraduate_program  169\n",
       "PerformancePegawai         287      5                           Biasa   85\n",
       "AsalDaerah                 287      5                   Jakarta Pusat   72\n",
       "HiringPlatform             287      9                          Indeed   85\n",
       "NomorHP                    287    287                  +6282232522xxx    1\n",
       "Email                      287    287  spiritedPorpoise3135@yahoo.com    1\n",
       "TingkatPendidikan          287      3                         Sarjana  176\n",
       "PernahBekerja              287      2                               1  286\n",
       "AlasanResign               221     11                   masih_bekerja  132\n",
       "TanggalLahir               287    284                      1987-06-14    2\n",
       "TanggalHiring              287     97                      2011-01-10   12\n",
       "TanggalPenilaianKaryawan   287    127                       2020-1-14   17\n",
       "TanggalResign              287     53                               -  198"
      ]
     },
     "execution_count": 137,
     "metadata": {},
     "output_type": "execute_result"
    }
   ],
   "source": [
    "df[cats].describe().T"
   ]
  },
  {
   "cell_type": "markdown",
   "metadata": {},
   "source": [
    "Berikut adalah simpulan singkat dari data yang disediakan:\n",
    "\n",
    "1. **Username:**\n",
    "    - Terdapat 287 entri, dengan 285 nama pengguna unik.\n",
    "    - Nama pengguna 'boredEggs0' muncul 2 kali.\n",
    "\n",
    "2. **Status Pernikahan:**\n",
    "    - Ada 5 status pernikahan yang berbeda.\n",
    "    - Mayoritas karyawan (132) belum menikah.\n",
    "\n",
    "3. **Jenis Kelamin:**\n",
    "    - Terdapat dua jenis kelamin, dengan mayoritas karyawan (167) adalah wanita.\n",
    "\n",
    "4. **Status Kepegawaian:**\n",
    "    - Ada 3 status kepegawaian, dengan mayoritas karyawan (217) bekerja sebagai karyawan penuh waktu (FullTime).\n",
    "\n",
    "5. **Pekerjaan:**\n",
    "    - Terdapat 14 jenis pekerjaan berbeda.\n",
    "    - Posisi Software Engineer (Back End) paling banyak diisi, dengan 109 karyawan.\n",
    "\n",
    "6. **Jenjang Karir:**\n",
    "    - Ada 3 jenjang karir yang berbeda.\n",
    "    - Mayoritas karyawan (169) berada pada jenjang Freshgraduate_program.\n",
    "\n",
    "7. Performance Pegawai:\n",
    "    - Terdapat 5 level performa pegawai.\n",
    "    - Mayoritas karyawan (85) memiliki performa biasa.\n",
    "\n",
    "8. **Asal Daerah:**\n",
    "    - Ada 5 asal daerah yang berbeda.\n",
    "    - Jakarta Pusat merupakan asal daerah mayoritas dengan 72 karyawan.\n",
    "\n",
    "9. **Hiring Platform:**\n",
    "    - Terdapat 9 platform perekrutan yang berbeda.\n",
    "    - Indeed adalah platform perekrutan yang paling sering digunakan oleh karyawan (85 kali).\n",
    "\n",
    "10. **Nomor HP dan Email:**\n",
    "    - Setiap karyawan memiliki nomor HP dan alamat email yang unik.\n",
    "\n",
    "11. **Tingkat Pendidikan:**\n",
    "    - Ada 3 tingkat pendidikan yang berbeda.\n",
    "    - Mayoritas karyawan (176) memiliki gelar Sarjana.\n",
    "\n",
    "12. **Pernah Bekerja:**\n",
    "    - Mayoritas karyawan (286 dari 287) telah bekerja sebelumnya.\n",
    "\n",
    "13. **Alasan Resign:**\n",
    "    - Terdapat 11 alasan resign yang berbeda.\n",
    "    - Alasan resign paling umum adalah masih bekerja (132 karyawan).\n",
    "\n",
    "14. **Tanggal Lahir:**\n",
    "    - Terdapat 287 tanggal lahir yang berbeda, dengan beberapa tanggal lahir yang sama muncul 2 kali.\n",
    "\n",
    "15. **Tanggal Hiring:**\n",
    "    - Terdapat 97 tanggal hiring yang berbeda, dengan beberapa tanggal hiring yang muncul 12 kali.\n",
    "\n",
    "16. **Tanggal Penilaian Karyawan:**\n",
    "    - Terdapat 127 tanggal penilaian karyawan yang berbeda, dengan beberapa tanggal penilaian yang muncul 17 kali.\n",
    "\n",
    "17. **Tanggal Resign:**\n",
    "    - Terdapat 53 tanggal resign yang berbeda, dengan mayoritas (198 kali) tidak memiliki tanggal resign yang diisi (-).\n",
    "\n",
    "## Data preprocessing\n",
    "Sebelum memulai pemrosesan data, tahap paling awal yang harus dilakukan adalah mempersiapkan data mentah menjadi data yang bersih dan siap diolah. Kamu harus melakukan data preprocessing, yakni menangani berbagai permasalahan data seperti data yang kosong, data yang tidak sesuai, hingga mengidentifikasi data-data yang tidak dibutuhkan."
   ]
  },
  {
   "cell_type": "code",
   "execution_count": 138,
   "metadata": {},
   "outputs": [],
   "source": [
    "#Mengatasi data null \n",
    "df['SkorKepuasanPegawai'].fillna(df['SkorKepuasanPegawai'].median(), inplace=True)\n",
    "df['JumlahKeikutsertaanProjek'].fillna(df['JumlahKeikutsertaanProjek'].mean(), inplace=True)\n",
    "df['JumlahKeterlambatanSebulanTerakhir'].fillna(df['JumlahKeterlambatanSebulanTerakhir'].mean(), inplace=True)\n",
    "df['JumlahKetidakhadiran'].fillna(df['JumlahKetidakhadiran'].median(), inplace=True)\n",
    "df['IkutProgramLOP'].fillna(df['IkutProgramLOP'].mode()[0], inplace=True)\n",
    "df['AlasanResign'].fillna('Tidak Diketahui', inplace=True)"
   ]
  },
  {
   "cell_type": "code",
   "execution_count": 139,
   "metadata": {},
   "outputs": [
    {
     "name": "stdout",
     "output_type": "stream",
     "text": [
      "<class 'pandas.core.frame.DataFrame'>\n",
      "RangeIndex: 287 entries, 0 to 286\n",
      "Data columns (total 25 columns):\n",
      " #   Column                              Non-Null Count  Dtype  \n",
      "---  ------                              --------------  -----  \n",
      " 0   Username                            287 non-null    object \n",
      " 1   EnterpriseID                        287 non-null    int64  \n",
      " 2   StatusPernikahan                    287 non-null    object \n",
      " 3   JenisKelamin                        287 non-null    object \n",
      " 4   StatusKepegawaian                   287 non-null    object \n",
      " 5   Pekerjaan                           287 non-null    object \n",
      " 6   JenjangKarir                        287 non-null    object \n",
      " 7   PerformancePegawai                  287 non-null    object \n",
      " 8   AsalDaerah                          287 non-null    object \n",
      " 9   HiringPlatform                      287 non-null    object \n",
      " 10  SkorSurveyEngagement                287 non-null    int64  \n",
      " 11  SkorKepuasanPegawai                 287 non-null    float64\n",
      " 12  JumlahKeikutsertaanProjek           287 non-null    float64\n",
      " 13  JumlahKeterlambatanSebulanTerakhir  287 non-null    float64\n",
      " 14  JumlahKetidakhadiran                287 non-null    float64\n",
      " 15  NomorHP                             287 non-null    object \n",
      " 16  Email                               287 non-null    object \n",
      " 17  TingkatPendidikan                   287 non-null    object \n",
      " 18  PernahBekerja                       287 non-null    object \n",
      " 19  IkutProgramLOP                      287 non-null    float64\n",
      " 20  AlasanResign                        287 non-null    object \n",
      " 21  TanggalLahir                        287 non-null    object \n",
      " 22  TanggalHiring                       287 non-null    object \n",
      " 23  TanggalPenilaianKaryawan            287 non-null    object \n",
      " 24  TanggalResign                       287 non-null    object \n",
      "dtypes: float64(5), int64(2), object(18)\n",
      "memory usage: 56.2+ KB\n"
     ]
    }
   ],
   "source": [
    "df.info()"
   ]
  },
  {
   "cell_type": "code",
   "execution_count": 140,
   "metadata": {},
   "outputs": [
    {
     "data": {
      "text/html": [
       "<div>\n",
       "<style scoped>\n",
       "    .dataframe tbody tr th:only-of-type {\n",
       "        vertical-align: middle;\n",
       "    }\n",
       "\n",
       "    .dataframe tbody tr th {\n",
       "        vertical-align: top;\n",
       "    }\n",
       "\n",
       "    .dataframe thead th {\n",
       "        text-align: right;\n",
       "    }\n",
       "</style>\n",
       "<table border=\"1\" class=\"dataframe\">\n",
       "  <thead>\n",
       "    <tr style=\"text-align: right;\">\n",
       "      <th></th>\n",
       "      <th>Username</th>\n",
       "      <th>EnterpriseID</th>\n",
       "      <th>StatusPernikahan</th>\n",
       "      <th>JenisKelamin</th>\n",
       "      <th>StatusKepegawaian</th>\n",
       "      <th>Pekerjaan</th>\n",
       "    </tr>\n",
       "  </thead>\n",
       "  <tbody>\n",
       "    <tr>\n",
       "      <th>0</th>\n",
       "      <td>Username</td>\n",
       "      <td>object</td>\n",
       "      <td>0</td>\n",
       "      <td>0.0</td>\n",
       "      <td>285</td>\n",
       "      <td>[spiritedPorpoise3, jealousGelding2, pluckyMue...</td>\n",
       "    </tr>\n",
       "    <tr>\n",
       "      <th>1</th>\n",
       "      <td>EnterpriseID</td>\n",
       "      <td>int64</td>\n",
       "      <td>0</td>\n",
       "      <td>0.0</td>\n",
       "      <td>287</td>\n",
       "      <td>[111065, 106080, 106452, 106325, 111171, 10641...</td>\n",
       "    </tr>\n",
       "    <tr>\n",
       "      <th>2</th>\n",
       "      <td>StatusPernikahan</td>\n",
       "      <td>object</td>\n",
       "      <td>0</td>\n",
       "      <td>0.0</td>\n",
       "      <td>5</td>\n",
       "      <td>[Belum_menikah, Menikah, Bercerai, Lainnya, -]</td>\n",
       "    </tr>\n",
       "    <tr>\n",
       "      <th>3</th>\n",
       "      <td>JenisKelamin</td>\n",
       "      <td>object</td>\n",
       "      <td>0</td>\n",
       "      <td>0.0</td>\n",
       "      <td>2</td>\n",
       "      <td>[Pria, Wanita]</td>\n",
       "    </tr>\n",
       "    <tr>\n",
       "      <th>4</th>\n",
       "      <td>StatusKepegawaian</td>\n",
       "      <td>object</td>\n",
       "      <td>0</td>\n",
       "      <td>0.0</td>\n",
       "      <td>3</td>\n",
       "      <td>[Outsource, FullTime, Internship]</td>\n",
       "    </tr>\n",
       "    <tr>\n",
       "      <th>5</th>\n",
       "      <td>Pekerjaan</td>\n",
       "      <td>object</td>\n",
       "      <td>0</td>\n",
       "      <td>0.0</td>\n",
       "      <td>14</td>\n",
       "      <td>[Software Engineer (Back End), Data Analyst, S...</td>\n",
       "    </tr>\n",
       "    <tr>\n",
       "      <th>6</th>\n",
       "      <td>JenjangKarir</td>\n",
       "      <td>object</td>\n",
       "      <td>0</td>\n",
       "      <td>0.0</td>\n",
       "      <td>3</td>\n",
       "      <td>[Freshgraduate_program, Senior_level, Mid_level]</td>\n",
       "    </tr>\n",
       "    <tr>\n",
       "      <th>7</th>\n",
       "      <td>PerformancePegawai</td>\n",
       "      <td>object</td>\n",
       "      <td>0</td>\n",
       "      <td>0.0</td>\n",
       "      <td>5</td>\n",
       "      <td>[Sangat_bagus, Sangat_kurang, Bagus, Biasa, Ku...</td>\n",
       "    </tr>\n",
       "    <tr>\n",
       "      <th>8</th>\n",
       "      <td>AsalDaerah</td>\n",
       "      <td>object</td>\n",
       "      <td>0</td>\n",
       "      <td>0.0</td>\n",
       "      <td>5</td>\n",
       "      <td>[Jakarta Timur, Jakarta Utara, Jakarta Pusat, ...</td>\n",
       "    </tr>\n",
       "    <tr>\n",
       "      <th>9</th>\n",
       "      <td>HiringPlatform</td>\n",
       "      <td>object</td>\n",
       "      <td>0</td>\n",
       "      <td>0.0</td>\n",
       "      <td>9</td>\n",
       "      <td>[Employee_Referral, Website, Indeed, LinkedIn,...</td>\n",
       "    </tr>\n",
       "    <tr>\n",
       "      <th>10</th>\n",
       "      <td>SkorSurveyEngagement</td>\n",
       "      <td>int64</td>\n",
       "      <td>0</td>\n",
       "      <td>0.0</td>\n",
       "      <td>5</td>\n",
       "      <td>[4, 3, 2, 1, 5]</td>\n",
       "    </tr>\n",
       "    <tr>\n",
       "      <th>11</th>\n",
       "      <td>SkorKepuasanPegawai</td>\n",
       "      <td>float64</td>\n",
       "      <td>0</td>\n",
       "      <td>0.0</td>\n",
       "      <td>5</td>\n",
       "      <td>[4.0, 3.0, 5.0, 2.0, 1.0]</td>\n",
       "    </tr>\n",
       "    <tr>\n",
       "      <th>12</th>\n",
       "      <td>JumlahKeikutsertaanProjek</td>\n",
       "      <td>float64</td>\n",
       "      <td>0</td>\n",
       "      <td>0.0</td>\n",
       "      <td>10</td>\n",
       "      <td>[0.0, 4.0, 6.0, 1.1795774647887325, 7.0, 3.0, ...</td>\n",
       "    </tr>\n",
       "    <tr>\n",
       "      <th>13</th>\n",
       "      <td>JumlahKeterlambatanSebulanTerakhir</td>\n",
       "      <td>float64</td>\n",
       "      <td>0</td>\n",
       "      <td>0.0</td>\n",
       "      <td>8</td>\n",
       "      <td>[0.0, 4.0, 3.0, 5.0, 2.0, 6.0, 1.0, 0.41258741...</td>\n",
       "    </tr>\n",
       "    <tr>\n",
       "      <th>14</th>\n",
       "      <td>JumlahKetidakhadiran</td>\n",
       "      <td>float64</td>\n",
       "      <td>0</td>\n",
       "      <td>0.0</td>\n",
       "      <td>22</td>\n",
       "      <td>[9.0, 3.0, 11.0, 6.0, 10.0, 19.0, 4.0, 5.0, 2....</td>\n",
       "    </tr>\n",
       "    <tr>\n",
       "      <th>15</th>\n",
       "      <td>NomorHP</td>\n",
       "      <td>object</td>\n",
       "      <td>0</td>\n",
       "      <td>0.0</td>\n",
       "      <td>287</td>\n",
       "      <td>[+6282232522xxx, +6281270745xxx, +6281346215xx...</td>\n",
       "    </tr>\n",
       "    <tr>\n",
       "      <th>16</th>\n",
       "      <td>Email</td>\n",
       "      <td>object</td>\n",
       "      <td>0</td>\n",
       "      <td>0.0</td>\n",
       "      <td>287</td>\n",
       "      <td>[spiritedPorpoise3135@yahoo.com, jealousGeldin...</td>\n",
       "    </tr>\n",
       "    <tr>\n",
       "      <th>17</th>\n",
       "      <td>TingkatPendidikan</td>\n",
       "      <td>object</td>\n",
       "      <td>0</td>\n",
       "      <td>0.0</td>\n",
       "      <td>3</td>\n",
       "      <td>[Magister, Sarjana, Doktor]</td>\n",
       "    </tr>\n",
       "    <tr>\n",
       "      <th>18</th>\n",
       "      <td>PernahBekerja</td>\n",
       "      <td>object</td>\n",
       "      <td>0</td>\n",
       "      <td>0.0</td>\n",
       "      <td>2</td>\n",
       "      <td>[1, yes]</td>\n",
       "    </tr>\n",
       "    <tr>\n",
       "      <th>19</th>\n",
       "      <td>IkutProgramLOP</td>\n",
       "      <td>float64</td>\n",
       "      <td>0</td>\n",
       "      <td>0.0</td>\n",
       "      <td>2</td>\n",
       "      <td>[1.0, 0.0]</td>\n",
       "    </tr>\n",
       "    <tr>\n",
       "      <th>20</th>\n",
       "      <td>AlasanResign</td>\n",
       "      <td>object</td>\n",
       "      <td>0</td>\n",
       "      <td>0.0</td>\n",
       "      <td>12</td>\n",
       "      <td>[masih_bekerja, toxic_culture, jam_kerja, gant...</td>\n",
       "    </tr>\n",
       "    <tr>\n",
       "      <th>21</th>\n",
       "      <td>TanggalLahir</td>\n",
       "      <td>object</td>\n",
       "      <td>0</td>\n",
       "      <td>0.0</td>\n",
       "      <td>284</td>\n",
       "      <td>[1972-07-01, 1984-04-26, 1974-01-07, 1979-11-2...</td>\n",
       "    </tr>\n",
       "    <tr>\n",
       "      <th>22</th>\n",
       "      <td>TanggalHiring</td>\n",
       "      <td>object</td>\n",
       "      <td>0</td>\n",
       "      <td>0.0</td>\n",
       "      <td>97</td>\n",
       "      <td>[2011-01-10, 2014-01-06, 2014-2-17, 2013-11-11...</td>\n",
       "    </tr>\n",
       "    <tr>\n",
       "      <th>23</th>\n",
       "      <td>TanggalPenilaianKaryawan</td>\n",
       "      <td>object</td>\n",
       "      <td>0</td>\n",
       "      <td>0.0</td>\n",
       "      <td>127</td>\n",
       "      <td>[2016-2-15, 2020-1-17, 2016-01-10, 2020-02-04,...</td>\n",
       "    </tr>\n",
       "    <tr>\n",
       "      <th>24</th>\n",
       "      <td>TanggalResign</td>\n",
       "      <td>object</td>\n",
       "      <td>0</td>\n",
       "      <td>0.0</td>\n",
       "      <td>53</td>\n",
       "      <td>[-, 2018-6-16, 2014-9-24, 2018-09-06, 2019-01-...</td>\n",
       "    </tr>\n",
       "  </tbody>\n",
       "</table>\n",
       "</div>"
      ],
      "text/plain": [
       "                              Username  EnterpriseID   StatusPernikahan  \\\n",
       "0                             Username        object                  0   \n",
       "1                         EnterpriseID         int64                  0   \n",
       "2                     StatusPernikahan        object                  0   \n",
       "3                         JenisKelamin        object                  0   \n",
       "4                    StatusKepegawaian        object                  0   \n",
       "5                            Pekerjaan        object                  0   \n",
       "6                         JenjangKarir        object                  0   \n",
       "7                   PerformancePegawai        object                  0   \n",
       "8                           AsalDaerah        object                  0   \n",
       "9                       HiringPlatform        object                  0   \n",
       "10                SkorSurveyEngagement         int64                  0   \n",
       "11                 SkorKepuasanPegawai       float64                  0   \n",
       "12           JumlahKeikutsertaanProjek       float64                  0   \n",
       "13  JumlahKeterlambatanSebulanTerakhir       float64                  0   \n",
       "14                JumlahKetidakhadiran       float64                  0   \n",
       "15                             NomorHP        object                  0   \n",
       "16                               Email        object                  0   \n",
       "17                   TingkatPendidikan        object                  0   \n",
       "18                       PernahBekerja        object                  0   \n",
       "19                      IkutProgramLOP       float64                  0   \n",
       "20                        AlasanResign        object                  0   \n",
       "21                        TanggalLahir        object                  0   \n",
       "22                       TanggalHiring        object                  0   \n",
       "23            TanggalPenilaianKaryawan        object                  0   \n",
       "24                       TanggalResign        object                  0   \n",
       "\n",
       "     JenisKelamin   StatusKepegawaian  \\\n",
       "0             0.0                 285   \n",
       "1             0.0                 287   \n",
       "2             0.0                   5   \n",
       "3             0.0                   2   \n",
       "4             0.0                   3   \n",
       "5             0.0                  14   \n",
       "6             0.0                   3   \n",
       "7             0.0                   5   \n",
       "8             0.0                   5   \n",
       "9             0.0                   9   \n",
       "10            0.0                   5   \n",
       "11            0.0                   5   \n",
       "12            0.0                  10   \n",
       "13            0.0                   8   \n",
       "14            0.0                  22   \n",
       "15            0.0                 287   \n",
       "16            0.0                 287   \n",
       "17            0.0                   3   \n",
       "18            0.0                   2   \n",
       "19            0.0                   2   \n",
       "20            0.0                  12   \n",
       "21            0.0                 284   \n",
       "22            0.0                  97   \n",
       "23            0.0                 127   \n",
       "24            0.0                  53   \n",
       "\n",
       "                                            Pekerjaan  \n",
       "0   [spiritedPorpoise3, jealousGelding2, pluckyMue...  \n",
       "1   [111065, 106080, 106452, 106325, 111171, 10641...  \n",
       "2      [Belum_menikah, Menikah, Bercerai, Lainnya, -]  \n",
       "3                                      [Pria, Wanita]  \n",
       "4                   [Outsource, FullTime, Internship]  \n",
       "5   [Software Engineer (Back End), Data Analyst, S...  \n",
       "6    [Freshgraduate_program, Senior_level, Mid_level]  \n",
       "7   [Sangat_bagus, Sangat_kurang, Bagus, Biasa, Ku...  \n",
       "8   [Jakarta Timur, Jakarta Utara, Jakarta Pusat, ...  \n",
       "9   [Employee_Referral, Website, Indeed, LinkedIn,...  \n",
       "10                                    [4, 3, 2, 1, 5]  \n",
       "11                          [4.0, 3.0, 5.0, 2.0, 1.0]  \n",
       "12  [0.0, 4.0, 6.0, 1.1795774647887325, 7.0, 3.0, ...  \n",
       "13  [0.0, 4.0, 3.0, 5.0, 2.0, 6.0, 1.0, 0.41258741...  \n",
       "14  [9.0, 3.0, 11.0, 6.0, 10.0, 19.0, 4.0, 5.0, 2....  \n",
       "15  [+6282232522xxx, +6281270745xxx, +6281346215xx...  \n",
       "16  [spiritedPorpoise3135@yahoo.com, jealousGeldin...  \n",
       "17                        [Magister, Sarjana, Doktor]  \n",
       "18                                           [1, yes]  \n",
       "19                                         [1.0, 0.0]  \n",
       "20  [masih_bekerja, toxic_culture, jam_kerja, gant...  \n",
       "21  [1972-07-01, 1984-04-26, 1974-01-07, 1979-11-2...  \n",
       "22  [2011-01-10, 2014-01-06, 2014-2-17, 2013-11-11...  \n",
       "23  [2016-2-15, 2020-1-17, 2016-01-10, 2020-02-04,...  \n",
       "24  [-, 2018-6-16, 2014-9-24, 2018-09-06, 2019-01-...  "
      ]
     },
     "execution_count": 140,
     "metadata": {},
     "output_type": "execute_result"
    }
   ],
   "source": [
    "# overview\n",
    "list_item = []\n",
    "for col in df.columns:\n",
    "    list_item.append([col, df[col].dtype, df[col].isna().sum(), round(100*df[col].isna().sum()/len(df[col]), 2), df[col].nunique(), df[col].unique()[:10]])\n",
    "desc_df = pd.DataFrame(data=list_item, columns='Username, EnterpriseID, StatusPernikahan, JenisKelamin, StatusKepegawaian, Pekerjaan'.split(\",\"))\n",
    "desc_df"
   ]
  },
  {
   "cell_type": "code",
   "execution_count": 141,
   "metadata": {},
   "outputs": [],
   "source": [
    "# Menghapus kolom \"nomorhp\" karena memiliki satu unique value\n",
    "df.drop(\"NomorHP\", axis=1, inplace=True)\n",
    "\n",
    "# Menghapus kolom \"email\" karena memiliki satu unique value\n",
    "df.drop(\"Email\", axis=1, inplace=True)"
   ]
  },
  {
   "cell_type": "code",
   "execution_count": 142,
   "metadata": {},
   "outputs": [
    {
     "name": "stdout",
     "output_type": "stream",
     "text": [
      "<class 'pandas.core.frame.DataFrame'>\n",
      "RangeIndex: 287 entries, 0 to 286\n",
      "Data columns (total 23 columns):\n",
      " #   Column                              Non-Null Count  Dtype  \n",
      "---  ------                              --------------  -----  \n",
      " 0   Username                            287 non-null    object \n",
      " 1   EnterpriseID                        287 non-null    int64  \n",
      " 2   StatusPernikahan                    287 non-null    object \n",
      " 3   JenisKelamin                        287 non-null    object \n",
      " 4   StatusKepegawaian                   287 non-null    object \n",
      " 5   Pekerjaan                           287 non-null    object \n",
      " 6   JenjangKarir                        287 non-null    object \n",
      " 7   PerformancePegawai                  287 non-null    object \n",
      " 8   AsalDaerah                          287 non-null    object \n",
      " 9   HiringPlatform                      287 non-null    object \n",
      " 10  SkorSurveyEngagement                287 non-null    int64  \n",
      " 11  SkorKepuasanPegawai                 287 non-null    float64\n",
      " 12  JumlahKeikutsertaanProjek           287 non-null    float64\n",
      " 13  JumlahKeterlambatanSebulanTerakhir  287 non-null    float64\n",
      " 14  JumlahKetidakhadiran                287 non-null    float64\n",
      " 15  TingkatPendidikan                   287 non-null    object \n",
      " 16  PernahBekerja                       287 non-null    object \n",
      " 17  IkutProgramLOP                      287 non-null    float64\n",
      " 18  AlasanResign                        287 non-null    object \n",
      " 19  TanggalLahir                        287 non-null    object \n",
      " 20  TanggalHiring                       287 non-null    object \n",
      " 21  TanggalPenilaianKaryawan            287 non-null    object \n",
      " 22  TanggalResign                       287 non-null    object \n",
      "dtypes: float64(5), int64(2), object(16)\n",
      "memory usage: 51.7+ KB\n"
     ]
    }
   ],
   "source": [
    "df.info()"
   ]
  },
  {
   "cell_type": "markdown",
   "metadata": {},
   "source": [
    "## Annual Report On Employee Number Changes\n",
    "Dalam konteks manajemen karyawan, perusahaan perlu mengetahui berapa perubahan jumlah karyawan setiap tahunnya agar bisa menyesuaikan langkah strategis guna meningkatkan kinerja perusahaan dan bisa bertahan di dunia yang terdisrupsi ini. Salah satu langkah yang telah dibuat perusahaan adalah melakukan perubahan budaya kerja setiap tahunnya yang mengacu pada jumlah karyawan yang ada, semakin banyak karyawan maka office space yang perlu disiapkan juga semakin bertambah, serta kebijakan-kebijakan lain seperti besaran bonus maksimal untuk karyawan yang performanya baik di tahun tersebut dan lain-lain. Setiap tahunnya perusahaan menyadari ada yang keluar dan ada yang masuk (karyawan), namun apabila pada tahun tertentu jumlah karyawan yang keluar lebih banyak dari yang masuk artinya perusahaan perlu berbenah diri agar karyawan lain tetap bertahan sehingga rancangan strategi jangka panjang tetap dapat dilaksanakan tanpa kendala."
   ]
  },
  {
   "cell_type": "code",
   "execution_count": 143,
   "metadata": {},
   "outputs": [],
   "source": [
    "df['StatusPernikahan'] = df['StatusPernikahan'].replace('-','')\n",
    "\n",
    "df['AlasanResign'] = df['AlasanResign'].replace('Product Design (UI & UX)', 'masih_bekerja')\n",
    "\n",
    "df['TanggalLahir'] =  pd.to_datetime(df['TanggalLahir'])\n",
    "\n",
    "df['TahunLahir'] = df['TanggalLahir'].dt.year\n",
    "\n",
    "df['Umur'] = 2024 - df['TahunLahir']\n",
    "\n",
    "df['TanggalResign'] = df['TanggalResign'].replace('-', np.nan)\n",
    "\n",
    "df['TanggalResign'] = pd.to_datetime(df['TanggalResign'])\n",
    "df['TanggalHiring'] = pd.to_datetime(df['TanggalHiring'])\n",
    "\n",
    "def check_resign(date):\n",
    "    if pd.isnull(date):\n",
    "        return 'No'\n",
    "    else:\n",
    "        return 'Yes'\n",
    "    \n",
    "df['Resign'] = df['TanggalResign'].apply(check_resign)\n",
    "\n",
    "df['TahunHiring'] = df['TanggalHiring'].dt.year\n",
    "df['TahunResign'] = df['TanggalResign'].dt.year"
   ]
  },
  {
   "cell_type": "code",
   "execution_count": 144,
   "metadata": {},
   "outputs": [
    {
     "data": {
      "text/html": [
       "<div>\n",
       "<style scoped>\n",
       "    .dataframe tbody tr th:only-of-type {\n",
       "        vertical-align: middle;\n",
       "    }\n",
       "\n",
       "    .dataframe tbody tr th {\n",
       "        vertical-align: top;\n",
       "    }\n",
       "\n",
       "    .dataframe thead th {\n",
       "        text-align: right;\n",
       "    }\n",
       "</style>\n",
       "<table border=\"1\" class=\"dataframe\">\n",
       "  <thead>\n",
       "    <tr style=\"text-align: right;\">\n",
       "      <th></th>\n",
       "      <th>TahunHiring</th>\n",
       "      <th>JumlahPegawaiHire</th>\n",
       "      <th>TahunResign</th>\n",
       "      <th>JumlahPegawaiResign</th>\n",
       "      <th>PegawaiBertahan</th>\n",
       "      <th>PegawaiBertahanCumulative</th>\n",
       "    </tr>\n",
       "  </thead>\n",
       "  <tbody>\n",
       "    <tr>\n",
       "      <th>0</th>\n",
       "      <td>2006.0</td>\n",
       "      <td>1.0</td>\n",
       "      <td>2006.0</td>\n",
       "      <td>0.0</td>\n",
       "      <td>1.0</td>\n",
       "      <td>1.0</td>\n",
       "    </tr>\n",
       "    <tr>\n",
       "      <th>1</th>\n",
       "      <td>2007.0</td>\n",
       "      <td>2.0</td>\n",
       "      <td>2007.0</td>\n",
       "      <td>0.0</td>\n",
       "      <td>2.0</td>\n",
       "      <td>3.0</td>\n",
       "    </tr>\n",
       "    <tr>\n",
       "      <th>2</th>\n",
       "      <td>2008.0</td>\n",
       "      <td>2.0</td>\n",
       "      <td>2008.0</td>\n",
       "      <td>0.0</td>\n",
       "      <td>2.0</td>\n",
       "      <td>5.0</td>\n",
       "    </tr>\n",
       "    <tr>\n",
       "      <th>3</th>\n",
       "      <td>2009.0</td>\n",
       "      <td>7.0</td>\n",
       "      <td>2009.0</td>\n",
       "      <td>0.0</td>\n",
       "      <td>7.0</td>\n",
       "      <td>12.0</td>\n",
       "    </tr>\n",
       "    <tr>\n",
       "      <th>4</th>\n",
       "      <td>2010.0</td>\n",
       "      <td>8.0</td>\n",
       "      <td>2010.0</td>\n",
       "      <td>0.0</td>\n",
       "      <td>8.0</td>\n",
       "      <td>20.0</td>\n",
       "    </tr>\n",
       "    <tr>\n",
       "      <th>5</th>\n",
       "      <td>2011.0</td>\n",
       "      <td>76.0</td>\n",
       "      <td>2011.0</td>\n",
       "      <td>0.0</td>\n",
       "      <td>76.0</td>\n",
       "      <td>96.0</td>\n",
       "    </tr>\n",
       "    <tr>\n",
       "      <th>6</th>\n",
       "      <td>2012.0</td>\n",
       "      <td>41.0</td>\n",
       "      <td>2012.0</td>\n",
       "      <td>0.0</td>\n",
       "      <td>41.0</td>\n",
       "      <td>137.0</td>\n",
       "    </tr>\n",
       "    <tr>\n",
       "      <th>7</th>\n",
       "      <td>2013.0</td>\n",
       "      <td>43.0</td>\n",
       "      <td>2013.0</td>\n",
       "      <td>5.0</td>\n",
       "      <td>38.0</td>\n",
       "      <td>175.0</td>\n",
       "    </tr>\n",
       "    <tr>\n",
       "      <th>8</th>\n",
       "      <td>2014.0</td>\n",
       "      <td>56.0</td>\n",
       "      <td>2014.0</td>\n",
       "      <td>12.0</td>\n",
       "      <td>44.0</td>\n",
       "      <td>219.0</td>\n",
       "    </tr>\n",
       "    <tr>\n",
       "      <th>9</th>\n",
       "      <td>2015.0</td>\n",
       "      <td>31.0</td>\n",
       "      <td>2015.0</td>\n",
       "      <td>8.0</td>\n",
       "      <td>23.0</td>\n",
       "      <td>242.0</td>\n",
       "    </tr>\n",
       "    <tr>\n",
       "      <th>10</th>\n",
       "      <td>2016.0</td>\n",
       "      <td>14.0</td>\n",
       "      <td>2016.0</td>\n",
       "      <td>8.0</td>\n",
       "      <td>6.0</td>\n",
       "      <td>248.0</td>\n",
       "    </tr>\n",
       "    <tr>\n",
       "      <th>11</th>\n",
       "      <td>2017.0</td>\n",
       "      <td>5.0</td>\n",
       "      <td>2017.0</td>\n",
       "      <td>19.0</td>\n",
       "      <td>-14.0</td>\n",
       "      <td>234.0</td>\n",
       "    </tr>\n",
       "    <tr>\n",
       "      <th>12</th>\n",
       "      <td>2018.0</td>\n",
       "      <td>1.0</td>\n",
       "      <td>2018.0</td>\n",
       "      <td>26.0</td>\n",
       "      <td>-25.0</td>\n",
       "      <td>209.0</td>\n",
       "    </tr>\n",
       "    <tr>\n",
       "      <th>13</th>\n",
       "      <td>2019.0</td>\n",
       "      <td>0.0</td>\n",
       "      <td>2019.0</td>\n",
       "      <td>5.0</td>\n",
       "      <td>-5.0</td>\n",
       "      <td>204.0</td>\n",
       "    </tr>\n",
       "    <tr>\n",
       "      <th>14</th>\n",
       "      <td>2020.0</td>\n",
       "      <td>0.0</td>\n",
       "      <td>2020.0</td>\n",
       "      <td>6.0</td>\n",
       "      <td>-6.0</td>\n",
       "      <td>198.0</td>\n",
       "    </tr>\n",
       "  </tbody>\n",
       "</table>\n",
       "</div>"
      ],
      "text/plain": [
       "    TahunHiring  JumlahPegawaiHire  TahunResign  JumlahPegawaiResign  \\\n",
       "0        2006.0                1.0       2006.0                  0.0   \n",
       "1        2007.0                2.0       2007.0                  0.0   \n",
       "2        2008.0                2.0       2008.0                  0.0   \n",
       "3        2009.0                7.0       2009.0                  0.0   \n",
       "4        2010.0                8.0       2010.0                  0.0   \n",
       "5        2011.0               76.0       2011.0                  0.0   \n",
       "6        2012.0               41.0       2012.0                  0.0   \n",
       "7        2013.0               43.0       2013.0                  5.0   \n",
       "8        2014.0               56.0       2014.0                 12.0   \n",
       "9        2015.0               31.0       2015.0                  8.0   \n",
       "10       2016.0               14.0       2016.0                  8.0   \n",
       "11       2017.0                5.0       2017.0                 19.0   \n",
       "12       2018.0                1.0       2018.0                 26.0   \n",
       "13       2019.0                0.0       2019.0                  5.0   \n",
       "14       2020.0                0.0       2020.0                  6.0   \n",
       "\n",
       "    PegawaiBertahan  PegawaiBertahanCumulative  \n",
       "0               1.0                        1.0  \n",
       "1               2.0                        3.0  \n",
       "2               2.0                        5.0  \n",
       "3               7.0                       12.0  \n",
       "4               8.0                       20.0  \n",
       "5              76.0                       96.0  \n",
       "6              41.0                      137.0  \n",
       "7              38.0                      175.0  \n",
       "8              44.0                      219.0  \n",
       "9              23.0                      242.0  \n",
       "10              6.0                      248.0  \n",
       "11            -14.0                      234.0  \n",
       "12            -25.0                      209.0  \n",
       "13             -5.0                      204.0  \n",
       "14             -6.0                      198.0  "
      ]
     },
     "execution_count": 144,
     "metadata": {},
     "output_type": "execute_result"
    }
   ],
   "source": [
    "annual_hiring_agg =  (\n",
    "    df\n",
    "    .groupby('TahunHiring')['Username']\n",
    "    .count()\n",
    "    .to_frame()\n",
    "    .reset_index()\n",
    "    .rename(columns={'Username': 'JumlahPegawaiHire'})\n",
    "    .sort_values(by='TahunHiring', ascending=True)\n",
    ")\n",
    "\n",
    "annual_resign_agg = (\n",
    "    df\n",
    "    .groupby('TahunResign')['Username']\n",
    "    .count()\n",
    "    .to_frame()\n",
    "    .reset_index()\n",
    "    .rename(columns={'Username': 'JumlahPegawaiResign'})\n",
    "    .sort_values(by='TahunResign', ascending=True)\n",
    ")\n",
    "\n",
    "annual_hr_agg = annual_hiring_agg.merge(annual_resign_agg, how='outer', left_on='TahunHiring', right_on='TahunResign')\n",
    "annual_hr_agg['TahunHiring'] = annual_hr_agg['TahunHiring'].fillna(annual_hr_agg['TahunResign'])\n",
    "annual_hr_agg['TahunResign'] = annual_hr_agg['TahunResign'].fillna(annual_hr_agg['TahunHiring'])\n",
    "annual_hr_agg.fillna(0, inplace=True)\n",
    "\n",
    "annual_hr_agg['PegawaiBertahan'] = annual_hr_agg['JumlahPegawaiHire'] - annual_hr_agg['JumlahPegawaiResign']\n",
    "annual_hr_agg['PegawaiBertahanCumulative'] = annual_hr_agg['PegawaiBertahan'].cumsum()\n",
    "annual_hr_agg\n"
   ]
  },
  {
   "cell_type": "code",
   "execution_count": 145,
   "metadata": {},
   "outputs": [
    {
     "data": {
      "application/vnd.plotly.v1+json": {
       "config": {
        "plotlyServerURL": "https://plot.ly"
       },
       "data": [
        {
         "connector": {
          "line": {
           "color": "rgb(63, 63, 63)"
          }
         },
         "decreasing": {
          "marker": {
           "color": "Red"
          }
         },
         "increasing": {
          "marker": {
           "color": "Green"
          }
         },
         "measure": [
          "relative",
          "relative",
          "relative",
          "relative",
          "relative",
          "relative",
          "relative",
          "relative",
          "relative",
          "relative",
          "relative",
          "relative",
          "relative",
          "relative",
          "relative"
         ],
         "name": "20",
         "orientation": "v",
         "text": [
          "1.0",
          "2.0",
          "2.0",
          "7.0",
          "8.0",
          "76.0",
          "41.0",
          "38.0",
          "44.0",
          "23.0",
          "6.0",
          "-14.0",
          "-25.0",
          "-5.0",
          "-6.0"
         ],
         "textposition": "outside",
         "type": "waterfall",
         "x": [
          2006,
          2007,
          2008,
          2009,
          2010,
          2011,
          2012,
          2013,
          2014,
          2015,
          2016,
          2017,
          2018,
          2019,
          2020
         ],
         "y": [
          1,
          2,
          2,
          7,
          8,
          76,
          41,
          38,
          44,
          23,
          6,
          -14,
          -25,
          -5,
          -6
         ]
        },
        {
         "line": {
          "color": "blue",
          "width": 2
         },
         "marker": {
          "color": "blue",
          "size": 8
         },
         "mode": "lines+markers",
         "name": "Pegawai Bertahan (Cumulative)",
         "type": "scatter",
         "x": [
          2006,
          2007,
          2008,
          2009,
          2010,
          2011,
          2012,
          2013,
          2014,
          2015,
          2016,
          2017,
          2018,
          2019,
          2020
         ],
         "y": [
          1,
          3,
          5,
          12,
          20,
          96,
          137,
          175,
          219,
          242,
          248,
          234,
          209,
          204,
          198
         ]
        }
       ],
       "layout": {
        "showlegend": true,
        "template": {
         "data": {
          "bar": [
           {
            "error_x": {
             "color": "#2a3f5f"
            },
            "error_y": {
             "color": "#2a3f5f"
            },
            "marker": {
             "line": {
              "color": "#E5ECF6",
              "width": 0.5
             },
             "pattern": {
              "fillmode": "overlay",
              "size": 10,
              "solidity": 0.2
             }
            },
            "type": "bar"
           }
          ],
          "barpolar": [
           {
            "marker": {
             "line": {
              "color": "#E5ECF6",
              "width": 0.5
             },
             "pattern": {
              "fillmode": "overlay",
              "size": 10,
              "solidity": 0.2
             }
            },
            "type": "barpolar"
           }
          ],
          "carpet": [
           {
            "aaxis": {
             "endlinecolor": "#2a3f5f",
             "gridcolor": "white",
             "linecolor": "white",
             "minorgridcolor": "white",
             "startlinecolor": "#2a3f5f"
            },
            "baxis": {
             "endlinecolor": "#2a3f5f",
             "gridcolor": "white",
             "linecolor": "white",
             "minorgridcolor": "white",
             "startlinecolor": "#2a3f5f"
            },
            "type": "carpet"
           }
          ],
          "choropleth": [
           {
            "colorbar": {
             "outlinewidth": 0,
             "ticks": ""
            },
            "type": "choropleth"
           }
          ],
          "contour": [
           {
            "colorbar": {
             "outlinewidth": 0,
             "ticks": ""
            },
            "colorscale": [
             [
              0,
              "#0d0887"
             ],
             [
              0.1111111111111111,
              "#46039f"
             ],
             [
              0.2222222222222222,
              "#7201a8"
             ],
             [
              0.3333333333333333,
              "#9c179e"
             ],
             [
              0.4444444444444444,
              "#bd3786"
             ],
             [
              0.5555555555555556,
              "#d8576b"
             ],
             [
              0.6666666666666666,
              "#ed7953"
             ],
             [
              0.7777777777777778,
              "#fb9f3a"
             ],
             [
              0.8888888888888888,
              "#fdca26"
             ],
             [
              1,
              "#f0f921"
             ]
            ],
            "type": "contour"
           }
          ],
          "contourcarpet": [
           {
            "colorbar": {
             "outlinewidth": 0,
             "ticks": ""
            },
            "type": "contourcarpet"
           }
          ],
          "heatmap": [
           {
            "colorbar": {
             "outlinewidth": 0,
             "ticks": ""
            },
            "colorscale": [
             [
              0,
              "#0d0887"
             ],
             [
              0.1111111111111111,
              "#46039f"
             ],
             [
              0.2222222222222222,
              "#7201a8"
             ],
             [
              0.3333333333333333,
              "#9c179e"
             ],
             [
              0.4444444444444444,
              "#bd3786"
             ],
             [
              0.5555555555555556,
              "#d8576b"
             ],
             [
              0.6666666666666666,
              "#ed7953"
             ],
             [
              0.7777777777777778,
              "#fb9f3a"
             ],
             [
              0.8888888888888888,
              "#fdca26"
             ],
             [
              1,
              "#f0f921"
             ]
            ],
            "type": "heatmap"
           }
          ],
          "heatmapgl": [
           {
            "colorbar": {
             "outlinewidth": 0,
             "ticks": ""
            },
            "colorscale": [
             [
              0,
              "#0d0887"
             ],
             [
              0.1111111111111111,
              "#46039f"
             ],
             [
              0.2222222222222222,
              "#7201a8"
             ],
             [
              0.3333333333333333,
              "#9c179e"
             ],
             [
              0.4444444444444444,
              "#bd3786"
             ],
             [
              0.5555555555555556,
              "#d8576b"
             ],
             [
              0.6666666666666666,
              "#ed7953"
             ],
             [
              0.7777777777777778,
              "#fb9f3a"
             ],
             [
              0.8888888888888888,
              "#fdca26"
             ],
             [
              1,
              "#f0f921"
             ]
            ],
            "type": "heatmapgl"
           }
          ],
          "histogram": [
           {
            "marker": {
             "pattern": {
              "fillmode": "overlay",
              "size": 10,
              "solidity": 0.2
             }
            },
            "type": "histogram"
           }
          ],
          "histogram2d": [
           {
            "colorbar": {
             "outlinewidth": 0,
             "ticks": ""
            },
            "colorscale": [
             [
              0,
              "#0d0887"
             ],
             [
              0.1111111111111111,
              "#46039f"
             ],
             [
              0.2222222222222222,
              "#7201a8"
             ],
             [
              0.3333333333333333,
              "#9c179e"
             ],
             [
              0.4444444444444444,
              "#bd3786"
             ],
             [
              0.5555555555555556,
              "#d8576b"
             ],
             [
              0.6666666666666666,
              "#ed7953"
             ],
             [
              0.7777777777777778,
              "#fb9f3a"
             ],
             [
              0.8888888888888888,
              "#fdca26"
             ],
             [
              1,
              "#f0f921"
             ]
            ],
            "type": "histogram2d"
           }
          ],
          "histogram2dcontour": [
           {
            "colorbar": {
             "outlinewidth": 0,
             "ticks": ""
            },
            "colorscale": [
             [
              0,
              "#0d0887"
             ],
             [
              0.1111111111111111,
              "#46039f"
             ],
             [
              0.2222222222222222,
              "#7201a8"
             ],
             [
              0.3333333333333333,
              "#9c179e"
             ],
             [
              0.4444444444444444,
              "#bd3786"
             ],
             [
              0.5555555555555556,
              "#d8576b"
             ],
             [
              0.6666666666666666,
              "#ed7953"
             ],
             [
              0.7777777777777778,
              "#fb9f3a"
             ],
             [
              0.8888888888888888,
              "#fdca26"
             ],
             [
              1,
              "#f0f921"
             ]
            ],
            "type": "histogram2dcontour"
           }
          ],
          "mesh3d": [
           {
            "colorbar": {
             "outlinewidth": 0,
             "ticks": ""
            },
            "type": "mesh3d"
           }
          ],
          "parcoords": [
           {
            "line": {
             "colorbar": {
              "outlinewidth": 0,
              "ticks": ""
             }
            },
            "type": "parcoords"
           }
          ],
          "pie": [
           {
            "automargin": true,
            "type": "pie"
           }
          ],
          "scatter": [
           {
            "fillpattern": {
             "fillmode": "overlay",
             "size": 10,
             "solidity": 0.2
            },
            "type": "scatter"
           }
          ],
          "scatter3d": [
           {
            "line": {
             "colorbar": {
              "outlinewidth": 0,
              "ticks": ""
             }
            },
            "marker": {
             "colorbar": {
              "outlinewidth": 0,
              "ticks": ""
             }
            },
            "type": "scatter3d"
           }
          ],
          "scattercarpet": [
           {
            "marker": {
             "colorbar": {
              "outlinewidth": 0,
              "ticks": ""
             }
            },
            "type": "scattercarpet"
           }
          ],
          "scattergeo": [
           {
            "marker": {
             "colorbar": {
              "outlinewidth": 0,
              "ticks": ""
             }
            },
            "type": "scattergeo"
           }
          ],
          "scattergl": [
           {
            "marker": {
             "colorbar": {
              "outlinewidth": 0,
              "ticks": ""
             }
            },
            "type": "scattergl"
           }
          ],
          "scattermapbox": [
           {
            "marker": {
             "colorbar": {
              "outlinewidth": 0,
              "ticks": ""
             }
            },
            "type": "scattermapbox"
           }
          ],
          "scatterpolar": [
           {
            "marker": {
             "colorbar": {
              "outlinewidth": 0,
              "ticks": ""
             }
            },
            "type": "scatterpolar"
           }
          ],
          "scatterpolargl": [
           {
            "marker": {
             "colorbar": {
              "outlinewidth": 0,
              "ticks": ""
             }
            },
            "type": "scatterpolargl"
           }
          ],
          "scatterternary": [
           {
            "marker": {
             "colorbar": {
              "outlinewidth": 0,
              "ticks": ""
             }
            },
            "type": "scatterternary"
           }
          ],
          "surface": [
           {
            "colorbar": {
             "outlinewidth": 0,
             "ticks": ""
            },
            "colorscale": [
             [
              0,
              "#0d0887"
             ],
             [
              0.1111111111111111,
              "#46039f"
             ],
             [
              0.2222222222222222,
              "#7201a8"
             ],
             [
              0.3333333333333333,
              "#9c179e"
             ],
             [
              0.4444444444444444,
              "#bd3786"
             ],
             [
              0.5555555555555556,
              "#d8576b"
             ],
             [
              0.6666666666666666,
              "#ed7953"
             ],
             [
              0.7777777777777778,
              "#fb9f3a"
             ],
             [
              0.8888888888888888,
              "#fdca26"
             ],
             [
              1,
              "#f0f921"
             ]
            ],
            "type": "surface"
           }
          ],
          "table": [
           {
            "cells": {
             "fill": {
              "color": "#EBF0F8"
             },
             "line": {
              "color": "white"
             }
            },
            "header": {
             "fill": {
              "color": "#C8D4E3"
             },
             "line": {
              "color": "white"
             }
            },
            "type": "table"
           }
          ]
         },
         "layout": {
          "annotationdefaults": {
           "arrowcolor": "#2a3f5f",
           "arrowhead": 0,
           "arrowwidth": 1
          },
          "autotypenumbers": "strict",
          "coloraxis": {
           "colorbar": {
            "outlinewidth": 0,
            "ticks": ""
           }
          },
          "colorscale": {
           "diverging": [
            [
             0,
             "#8e0152"
            ],
            [
             0.1,
             "#c51b7d"
            ],
            [
             0.2,
             "#de77ae"
            ],
            [
             0.3,
             "#f1b6da"
            ],
            [
             0.4,
             "#fde0ef"
            ],
            [
             0.5,
             "#f7f7f7"
            ],
            [
             0.6,
             "#e6f5d0"
            ],
            [
             0.7,
             "#b8e186"
            ],
            [
             0.8,
             "#7fbc41"
            ],
            [
             0.9,
             "#4d9221"
            ],
            [
             1,
             "#276419"
            ]
           ],
           "sequential": [
            [
             0,
             "#0d0887"
            ],
            [
             0.1111111111111111,
             "#46039f"
            ],
            [
             0.2222222222222222,
             "#7201a8"
            ],
            [
             0.3333333333333333,
             "#9c179e"
            ],
            [
             0.4444444444444444,
             "#bd3786"
            ],
            [
             0.5555555555555556,
             "#d8576b"
            ],
            [
             0.6666666666666666,
             "#ed7953"
            ],
            [
             0.7777777777777778,
             "#fb9f3a"
            ],
            [
             0.8888888888888888,
             "#fdca26"
            ],
            [
             1,
             "#f0f921"
            ]
           ],
           "sequentialminus": [
            [
             0,
             "#0d0887"
            ],
            [
             0.1111111111111111,
             "#46039f"
            ],
            [
             0.2222222222222222,
             "#7201a8"
            ],
            [
             0.3333333333333333,
             "#9c179e"
            ],
            [
             0.4444444444444444,
             "#bd3786"
            ],
            [
             0.5555555555555556,
             "#d8576b"
            ],
            [
             0.6666666666666666,
             "#ed7953"
            ],
            [
             0.7777777777777778,
             "#fb9f3a"
            ],
            [
             0.8888888888888888,
             "#fdca26"
            ],
            [
             1,
             "#f0f921"
            ]
           ]
          },
          "colorway": [
           "#636efa",
           "#EF553B",
           "#00cc96",
           "#ab63fa",
           "#FFA15A",
           "#19d3f3",
           "#FF6692",
           "#B6E880",
           "#FF97FF",
           "#FECB52"
          ],
          "font": {
           "color": "#2a3f5f"
          },
          "geo": {
           "bgcolor": "white",
           "lakecolor": "white",
           "landcolor": "#E5ECF6",
           "showlakes": true,
           "showland": true,
           "subunitcolor": "white"
          },
          "hoverlabel": {
           "align": "left"
          },
          "hovermode": "closest",
          "mapbox": {
           "style": "light"
          },
          "paper_bgcolor": "white",
          "plot_bgcolor": "#E5ECF6",
          "polar": {
           "angularaxis": {
            "gridcolor": "white",
            "linecolor": "white",
            "ticks": ""
           },
           "bgcolor": "#E5ECF6",
           "radialaxis": {
            "gridcolor": "white",
            "linecolor": "white",
            "ticks": ""
           }
          },
          "scene": {
           "xaxis": {
            "backgroundcolor": "#E5ECF6",
            "gridcolor": "white",
            "gridwidth": 2,
            "linecolor": "white",
            "showbackground": true,
            "ticks": "",
            "zerolinecolor": "white"
           },
           "yaxis": {
            "backgroundcolor": "#E5ECF6",
            "gridcolor": "white",
            "gridwidth": 2,
            "linecolor": "white",
            "showbackground": true,
            "ticks": "",
            "zerolinecolor": "white"
           },
           "zaxis": {
            "backgroundcolor": "#E5ECF6",
            "gridcolor": "white",
            "gridwidth": 2,
            "linecolor": "white",
            "showbackground": true,
            "ticks": "",
            "zerolinecolor": "white"
           }
          },
          "shapedefaults": {
           "line": {
            "color": "#2a3f5f"
           }
          },
          "ternary": {
           "aaxis": {
            "gridcolor": "white",
            "linecolor": "white",
            "ticks": ""
           },
           "baxis": {
            "gridcolor": "white",
            "linecolor": "white",
            "ticks": ""
           },
           "bgcolor": "#E5ECF6",
           "caxis": {
            "gridcolor": "white",
            "linecolor": "white",
            "ticks": ""
           }
          },
          "title": {
           "x": 0.05
          },
          "xaxis": {
           "automargin": true,
           "gridcolor": "white",
           "linecolor": "white",
           "ticks": "",
           "title": {
            "standoff": 15
           },
           "zerolinecolor": "white",
           "zerolinewidth": 2
          },
          "yaxis": {
           "automargin": true,
           "gridcolor": "white",
           "linecolor": "white",
           "ticks": "",
           "title": {
            "standoff": 15
           },
           "zerolinecolor": "white",
           "zerolinewidth": 2
          }
         }
        },
        "title": {
         "text": "Perubahan Jumlah Pegawai"
        }
       }
      }
     },
     "metadata": {},
     "output_type": "display_data"
    }
   ],
   "source": [
    "import plotly.graph_objects as go\n",
    "\n",
    "dfg = annual_hr_agg\n",
    "\n",
    "dfg['Net'] = dfg['JumlahPegawaiHire'] - dfg['JumlahPegawaiResign']\n",
    "dfg['PegawaiBertahanCumulative'] = dfg['PegawaiBertahan'].cumsum()\n",
    "\n",
    "measures = ['relative' if net >= 0 else 'relative' for net in dfg['Net']]\n",
    "\n",
    "fig = go.Figure(go.Waterfall(\n",
    "    name=\"20\", orientation=\"v\",\n",
    "    measure=measures,\n",
    "    x=dfg['TahunHiring'].to_list(),\n",
    "    textposition=\"outside\",\n",
    "    text=dfg['Net'].to_list(),\n",
    "    y=dfg['Net'].to_list(),\n",
    "    decreasing={\"marker\": {\"color\": \"Red\"}},\n",
    "    increasing={\"marker\": {\"color\": \"Green\"}},\n",
    "    connector={\"line\": {\"color\": \"rgb(63, 63, 63)\"}},\n",
    "))\n",
    "\n",
    "# Add the cumulative PegawaiBertahan data to the chart\n",
    "fig.add_trace(go.Scatter(\n",
    "    x=dfg['TahunHiring'].to_list(),\n",
    "    y=dfg['PegawaiBertahanCumulative'].to_list(),\n",
    "    mode='lines+markers',\n",
    "    name='Pegawai Bertahan (Cumulative)',\n",
    "    line=dict(color='blue', width=2),\n",
    "    marker=dict(color='blue', size=8),\n",
    "))\n",
    "\n",
    "fig.update_layout(title=\"Perubahan Jumlah Pegawai\", showlegend=True)\n",
    "\n",
    "fig.show()"
   ]
  },
  {
   "cell_type": "markdown",
   "metadata": {},
   "source": [
    "**Data:**\n",
    "\n",
    "- Data ini menunjukkan informasi perekrutan dan pengunduran diri karyawan dari tahun 2006 hingga 2020.\n",
    "- Kolom-kolomnya:\n",
    "    - TahunHiring: Tahun karyawan direkrut.\n",
    "    - JumlahPegawaiHire: Jumlah karyawan yang direkrut pada tahun tersebut.\n",
    "    - TahunResign: Tahun karyawan mengundurkan diri.\n",
    "    - JumlahPegawaiResign: Jumlah karyawan yang mengundurkan diri pada tahun tersebut.\n",
    "    - PegawaiBertahan: Jumlah karyawan yang bertahan di akhir setiap tahun.\n",
    "    - PegawaiBertahanCumulative: Jumlah kumulatif karyawan yang bertahan hingga akhir setiap tahun.\n",
    "\n",
    "**Analisis:**\n",
    "\n",
    "- **Tren Perekrutan:**\n",
    "    - Jumlah karyawan yang direkrut bervariasi dari tahun ke tahun.\n",
    "    - Tahun 2011 memiliki jumlah karyawan yang direkrut paling banyak (76 orang).\n",
    "    - Tahun 2020 tidak ada karyawan yang direkrut.<br>\n",
    "- **Tren Pengunduran Diri:**\n",
    "    - Jumlah karyawan yang mengundurkan diri bervariasi dari tahun ke tahun.\n",
    "    - Tahun 2017 memiliki jumlah karyawan yang mengundurkan diri paling banyak (19 orang).<br>\n",
    "- **Jumlah Karyawan Bertahan:**\n",
    "    - Jumlah karyawan yang bertahan di akhir setiap tahun menunjukkan tren fluktuatif.\n",
    "    - Pada tahun 2020, terdapat 198 karyawan yang bertahan.\n",
    "    - Secara kumulatif, terdapat 204 karyawan yang bertahan hingga akhir tahun 2020.\n",
    "\n",
    "**Kesimpulan:**\n",
    "\n",
    "- Data menunjukkan bahwa jumlah karyawan yang direkrut dan mengundurkan diri bervariasi dari tahun ke tahun.\n",
    "- Jumlah karyawan yang bertahan di akhir setiap tahun menunjukkan tren fluktuatif.\n",
    "- Pada tahun 2020, terdapat 198 karyawan yang bertahan.\n",
    "\n",
    "##  Resign Reason Analysis For Employee Attrition Management Strategy\n",
    "\n",
    "Setelah mengetahui keadaan dari perusahaan yang sedang tidak baik-baik saja, langkah selanjutnya adalah mengetahui alasan pegawai untuk resign pada setiap divisi pekerjaan yang ada. Perusahaan ingin membuat strategi yang lebih personal sehingga setiap divisi pekerjaan yang ada diberikan perlakuan yang sesuai dengan keluhannya masing-masing. Hanya saja, perusahaan ingin mengetahui divisi apa yang paling rentan resign, kemudian langkah apa yang sekiranya bisa dilakukan oleh perusahaan. Pada tahap ini kamu akan menyelidiki bagaimana persebaran tipe pekerjaan yang paling sering resign beserta alasan mereka yang bisa dijadikan kunci dalam perbaikan management pada setiap divisi pekerjaan yang ada."
   ]
  },
  {
   "cell_type": "code",
   "execution_count": 152,
   "metadata": {},
   "outputs": [
    {
     "name": "stdout",
     "output_type": "stream",
     "text": [
      "Data Karyawan yang Sudah Resign:\n",
      "                       Pekerjaan  JumlahResigned\n",
      "0                   Data Analyst               8\n",
      "1                  Data Engineer               3\n",
      "2       Product Design (UI & UX)               9\n",
      "3                Product Manager               6\n",
      "4    Software Engineer (Android)               7\n",
      "5   Software Engineer (Back End)              28\n",
      "6  Software Engineer (Front End)              28\n",
      "\n",
      "Data Karyawan yang Belum Resign:\n",
      "                         Pekerjaan  JumlahNotResigned\n",
      "0                     Data Analyst                  8\n",
      "1                    Data Engineer                  7\n",
      "2                  DevOps Engineer                  3\n",
      "3          Digital Product Manager                  2\n",
      "4        Machine Learning Engineer                  2\n",
      "5         Product Design (UI & UX)                 15\n",
      "6   Product Design (UX Researcher)                  1\n",
      "7                  Product Manager                 11\n",
      "8                     Scrum Master                  3\n",
      "9               Software Architect                  1\n",
      "10     Software Engineer (Android)                 17\n",
      "11    Software Engineer (Back End)                 81\n",
      "12   Software Engineer (Front End)                 44\n",
      "13         Software Engineer (iOS)                  3\n"
     ]
    }
   ],
   "source": [
    "import pandas as pd\n",
    "import numpy as np\n",
    "\n",
    "# Gantilah 'Pekerjaan', 'AlasanResign', dan 'TanggalResign' dengan nama kolom yang sesuai pada dataset Anda\n",
    "pekerjaan_col = 'Pekerjaan'\n",
    "alasan_resign_col = 'AlasanResign'\n",
    "tanggal_resign_col = 'TanggalResign'\n",
    "\n",
    "# Membuat DataFrame untuk karyawan yang sudah resign\n",
    "df_resigned = df[df[alasan_resign_col].notnull() & df[tanggal_resign_col].notnull()].groupby(pekerjaan_col).size().reset_index(name='JumlahResigned')\n",
    "\n",
    "# Mengganti nilai NaN pada kolom 'AlasanResign' dan 'TanggalResign' hanya pada data yang tanggal resignnya kosong atau tidak ada nilai datetime\n",
    "df.loc[df[tanggal_resign_col].isnull() | pd.to_datetime(df[tanggal_resign_col], errors='coerce').isna(), alasan_resign_col] = 'Belum Resign'\n",
    "df.loc[df[tanggal_resign_col].isnull() | pd.to_datetime(df[tanggal_resign_col], errors='coerce').isna(), tanggal_resign_col] = np.nan\n",
    "\n",
    "# Membuat DataFrame untuk karyawan yang belum resign\n",
    "df_not_resigned = df[df[alasan_resign_col] == 'Belum Resign'].groupby(pekerjaan_col).size().reset_index(name='JumlahNotResigned')\n",
    "\n",
    "# Menampilkan kedua DataFrame\n",
    "print(\"Data Karyawan yang Sudah Resign:\")\n",
    "print(df_resigned)\n",
    "\n",
    "print(\"\\nData Karyawan yang Belum Resign:\")\n",
    "print(df_not_resigned)"
   ]
  },
  {
   "cell_type": "code",
   "execution_count": 153,
   "metadata": {},
   "outputs": [
    {
     "name": "stdout",
     "output_type": "stream",
     "text": [
      "Dataframe Gabungan:\n",
      "                         Pekerjaan  JumlahResigned  JumlahNotResigned\n",
      "0                     Data Analyst             8.0                  8\n",
      "1                    Data Engineer             3.0                  7\n",
      "2         Product Design (UI & UX)             9.0                 15\n",
      "3                  Product Manager             6.0                 11\n",
      "4      Software Engineer (Android)             7.0                 17\n",
      "5     Software Engineer (Back End)            28.0                 81\n",
      "6    Software Engineer (Front End)            28.0                 44\n",
      "7                  DevOps Engineer             NaN                  3\n",
      "8          Digital Product Manager             NaN                  2\n",
      "9        Machine Learning Engineer             NaN                  2\n",
      "10  Product Design (UX Researcher)             NaN                  1\n",
      "11                    Scrum Master             NaN                  3\n",
      "12              Software Architect             NaN                  1\n",
      "13         Software Engineer (iOS)             NaN                  3\n"
     ]
    }
   ],
   "source": [
    "# Gabungkan kedua dataframe berdasarkan key 'Pekerjaan'\n",
    "df_combined = pd.merge(df_resigned, df_not_resigned, on=pekerjaan_col, how='outer', suffixes=('_Resigned', '_NotResigned'))\n",
    "\n",
    "# Menampilkan dataframe yang telah digabungkan\n",
    "print(\"Dataframe Gabungan:\")\n",
    "print(df_combined)"
   ]
  },
  {
   "cell_type": "code",
   "execution_count": 159,
   "metadata": {},
   "outputs": [
    {
     "data": {
      "text/html": [
       "<div>\n",
       "<style scoped>\n",
       "    .dataframe tbody tr th:only-of-type {\n",
       "        vertical-align: middle;\n",
       "    }\n",
       "\n",
       "    .dataframe tbody tr th {\n",
       "        vertical-align: top;\n",
       "    }\n",
       "\n",
       "    .dataframe thead th {\n",
       "        text-align: right;\n",
       "    }\n",
       "</style>\n",
       "<table border=\"1\" class=\"dataframe\">\n",
       "  <thead>\n",
       "    <tr style=\"text-align: right;\">\n",
       "      <th></th>\n",
       "      <th>Pekerjaan</th>\n",
       "      <th>JumlahResigned</th>\n",
       "      <th>JumlahNotResigned</th>\n",
       "      <th>JumlahEmployee</th>\n",
       "      <th>PersentaseEmployeeMasihAda</th>\n",
       "    </tr>\n",
       "  </thead>\n",
       "  <tbody>\n",
       "    <tr>\n",
       "      <th>0</th>\n",
       "      <td>Data Analyst</td>\n",
       "      <td>8.0</td>\n",
       "      <td>8</td>\n",
       "      <td>16.0</td>\n",
       "      <td>50.00</td>\n",
       "    </tr>\n",
       "    <tr>\n",
       "      <th>1</th>\n",
       "      <td>Data Engineer</td>\n",
       "      <td>3.0</td>\n",
       "      <td>7</td>\n",
       "      <td>10.0</td>\n",
       "      <td>70.00</td>\n",
       "    </tr>\n",
       "    <tr>\n",
       "      <th>2</th>\n",
       "      <td>Product Design (UI &amp; UX)</td>\n",
       "      <td>9.0</td>\n",
       "      <td>15</td>\n",
       "      <td>24.0</td>\n",
       "      <td>62.50</td>\n",
       "    </tr>\n",
       "    <tr>\n",
       "      <th>3</th>\n",
       "      <td>Product Manager</td>\n",
       "      <td>6.0</td>\n",
       "      <td>11</td>\n",
       "      <td>17.0</td>\n",
       "      <td>64.71</td>\n",
       "    </tr>\n",
       "    <tr>\n",
       "      <th>4</th>\n",
       "      <td>Software Engineer (Android)</td>\n",
       "      <td>7.0</td>\n",
       "      <td>17</td>\n",
       "      <td>24.0</td>\n",
       "      <td>70.83</td>\n",
       "    </tr>\n",
       "    <tr>\n",
       "      <th>5</th>\n",
       "      <td>Software Engineer (Back End)</td>\n",
       "      <td>28.0</td>\n",
       "      <td>81</td>\n",
       "      <td>109.0</td>\n",
       "      <td>74.31</td>\n",
       "    </tr>\n",
       "    <tr>\n",
       "      <th>6</th>\n",
       "      <td>Software Engineer (Front End)</td>\n",
       "      <td>28.0</td>\n",
       "      <td>44</td>\n",
       "      <td>72.0</td>\n",
       "      <td>61.11</td>\n",
       "    </tr>\n",
       "    <tr>\n",
       "      <th>7</th>\n",
       "      <td>DevOps Engineer</td>\n",
       "      <td>NaN</td>\n",
       "      <td>3</td>\n",
       "      <td>NaN</td>\n",
       "      <td>NaN</td>\n",
       "    </tr>\n",
       "    <tr>\n",
       "      <th>8</th>\n",
       "      <td>Digital Product Manager</td>\n",
       "      <td>NaN</td>\n",
       "      <td>2</td>\n",
       "      <td>NaN</td>\n",
       "      <td>NaN</td>\n",
       "    </tr>\n",
       "    <tr>\n",
       "      <th>9</th>\n",
       "      <td>Machine Learning Engineer</td>\n",
       "      <td>NaN</td>\n",
       "      <td>2</td>\n",
       "      <td>NaN</td>\n",
       "      <td>NaN</td>\n",
       "    </tr>\n",
       "    <tr>\n",
       "      <th>10</th>\n",
       "      <td>Product Design (UX Researcher)</td>\n",
       "      <td>NaN</td>\n",
       "      <td>1</td>\n",
       "      <td>NaN</td>\n",
       "      <td>NaN</td>\n",
       "    </tr>\n",
       "    <tr>\n",
       "      <th>11</th>\n",
       "      <td>Scrum Master</td>\n",
       "      <td>NaN</td>\n",
       "      <td>3</td>\n",
       "      <td>NaN</td>\n",
       "      <td>NaN</td>\n",
       "    </tr>\n",
       "    <tr>\n",
       "      <th>12</th>\n",
       "      <td>Software Architect</td>\n",
       "      <td>NaN</td>\n",
       "      <td>1</td>\n",
       "      <td>NaN</td>\n",
       "      <td>NaN</td>\n",
       "    </tr>\n",
       "    <tr>\n",
       "      <th>13</th>\n",
       "      <td>Software Engineer (iOS)</td>\n",
       "      <td>NaN</td>\n",
       "      <td>3</td>\n",
       "      <td>NaN</td>\n",
       "      <td>NaN</td>\n",
       "    </tr>\n",
       "  </tbody>\n",
       "</table>\n",
       "</div>"
      ],
      "text/plain": [
       "                         Pekerjaan  JumlahResigned  JumlahNotResigned  \\\n",
       "0                     Data Analyst             8.0                  8   \n",
       "1                    Data Engineer             3.0                  7   \n",
       "2         Product Design (UI & UX)             9.0                 15   \n",
       "3                  Product Manager             6.0                 11   \n",
       "4      Software Engineer (Android)             7.0                 17   \n",
       "5     Software Engineer (Back End)            28.0                 81   \n",
       "6    Software Engineer (Front End)            28.0                 44   \n",
       "7                  DevOps Engineer             NaN                  3   \n",
       "8          Digital Product Manager             NaN                  2   \n",
       "9        Machine Learning Engineer             NaN                  2   \n",
       "10  Product Design (UX Researcher)             NaN                  1   \n",
       "11                    Scrum Master             NaN                  3   \n",
       "12              Software Architect             NaN                  1   \n",
       "13         Software Engineer (iOS)             NaN                  3   \n",
       "\n",
       "    JumlahEmployee  PersentaseEmployeeMasihAda  \n",
       "0             16.0                       50.00  \n",
       "1             10.0                       70.00  \n",
       "2             24.0                       62.50  \n",
       "3             17.0                       64.71  \n",
       "4             24.0                       70.83  \n",
       "5            109.0                       74.31  \n",
       "6             72.0                       61.11  \n",
       "7              NaN                         NaN  \n",
       "8              NaN                         NaN  \n",
       "9              NaN                         NaN  \n",
       "10             NaN                         NaN  \n",
       "11             NaN                         NaN  \n",
       "12             NaN                         NaN  \n",
       "13             NaN                         NaN  "
      ]
     },
     "execution_count": 159,
     "metadata": {},
     "output_type": "execute_result"
    }
   ],
   "source": [
    "# Menambahkan kolom 'JumlahEmployee' (jumlah total employee)\n",
    "df_combined['JumlahEmployee'] = df_combined['JumlahResigned'] + df_combined['JumlahNotResigned']\n",
    "\n",
    "# Menambahkan kolom 'PersentaseEmployeeMasihAda' (persentase employee yang masih ada)\n",
    "df_combined['PersentaseEmployeeMasihAda'] = round((df_combined['JumlahNotResigned'] / df_combined['JumlahEmployee']) * 100, 2)\n",
    "\n",
    "# Menampilkan dataframe dengan kolom baru\n",
    "df_combined"
   ]
  },
  {
   "cell_type": "code",
   "execution_count": 162,
   "metadata": {},
   "outputs": [
    {
     "data": {
      "image/png": "[encoded data removed]",
      "text/plain": [
       "<Figure size 1000x600 with 1 Axes>"
      ]
     },
     "metadata": {},
     "output_type": "display_data"
    }
   ],
   "source": [
    "# Mengimpor data yang sudah dihasilkan sebelumnya\n",
    "divisi = df_combined['Pekerjaan']\n",
    "persentase_employee_masih_ada = df_combined['PersentaseEmployeeMasihAda']\n",
    "\n",
    "# Membuat plot batang\n",
    "plt.figure(figsize=(10, 6))\n",
    "plt.bar(divisi, persentase_employee_masih_ada, color='skyblue')\n",
    "plt.xlabel('Divisi Pekerjaan')\n",
    "plt.ylabel('Persentase Employee Masih Ada (%)')\n",
    "plt.title('Persentase Employee Masih Ada Berdasarkan Divisi Pekerjaan')\n",
    "plt.xticks(rotation=45, ha='right')  # Untuk memutar label sumbu x agar lebih mudah dibaca\n",
    "plt.tight_layout()\n",
    "\n",
    "# Menampilkan plot\n",
    "plt.show()"
   ]
  },
  {
   "cell_type": "code",
   "execution_count": 148,
   "metadata": {},
   "outputs": [
    {
     "data": {
      "text/html": [
       "<div>\n",
       "<style scoped>\n",
       "    .dataframe tbody tr th:only-of-type {\n",
       "        vertical-align: middle;\n",
       "    }\n",
       "\n",
       "    .dataframe tbody tr th {\n",
       "        vertical-align: top;\n",
       "    }\n",
       "\n",
       "    .dataframe thead th {\n",
       "        text-align: right;\n",
       "    }\n",
       "</style>\n",
       "<table border=\"1\" class=\"dataframe\">\n",
       "  <thead>\n",
       "    <tr style=\"text-align: right;\">\n",
       "      <th></th>\n",
       "      <th>Pekerjaan</th>\n",
       "      <th>AlasanResign</th>\n",
       "      <th>JumlahResign</th>\n",
       "    </tr>\n",
       "  </thead>\n",
       "  <tbody>\n",
       "    <tr>\n",
       "      <th>0</th>\n",
       "      <td>Data Analyst</td>\n",
       "      <td>Belum Resign</td>\n",
       "      <td>8</td>\n",
       "    </tr>\n",
       "    <tr>\n",
       "      <th>1</th>\n",
       "      <td>Data Analyst</td>\n",
       "      <td>internal_conflict</td>\n",
       "      <td>2</td>\n",
       "    </tr>\n",
       "    <tr>\n",
       "      <th>2</th>\n",
       "      <td>Data Analyst</td>\n",
       "      <td>toxic_culture</td>\n",
       "      <td>6</td>\n",
       "    </tr>\n",
       "    <tr>\n",
       "      <th>3</th>\n",
       "      <td>Data Engineer</td>\n",
       "      <td>Belum Resign</td>\n",
       "      <td>7</td>\n",
       "    </tr>\n",
       "    <tr>\n",
       "      <th>4</th>\n",
       "      <td>Data Engineer</td>\n",
       "      <td>apresiasi</td>\n",
       "      <td>1</td>\n",
       "    </tr>\n",
       "    <tr>\n",
       "      <th>5</th>\n",
       "      <td>Data Engineer</td>\n",
       "      <td>jam_kerja</td>\n",
       "      <td>1</td>\n",
       "    </tr>\n",
       "    <tr>\n",
       "      <th>6</th>\n",
       "      <td>Data Engineer</td>\n",
       "      <td>kejelasan_karir</td>\n",
       "      <td>1</td>\n",
       "    </tr>\n",
       "    <tr>\n",
       "      <th>7</th>\n",
       "      <td>DevOps Engineer</td>\n",
       "      <td>Belum Resign</td>\n",
       "      <td>3</td>\n",
       "    </tr>\n",
       "    <tr>\n",
       "      <th>8</th>\n",
       "      <td>Digital Product Manager</td>\n",
       "      <td>Belum Resign</td>\n",
       "      <td>2</td>\n",
       "    </tr>\n",
       "    <tr>\n",
       "      <th>9</th>\n",
       "      <td>Machine Learning Engineer</td>\n",
       "      <td>Belum Resign</td>\n",
       "      <td>2</td>\n",
       "    </tr>\n",
       "    <tr>\n",
       "      <th>10</th>\n",
       "      <td>Product Design (UI &amp; UX)</td>\n",
       "      <td>Belum Resign</td>\n",
       "      <td>15</td>\n",
       "    </tr>\n",
       "    <tr>\n",
       "      <th>11</th>\n",
       "      <td>Product Design (UI &amp; UX)</td>\n",
       "      <td>ganti_karir</td>\n",
       "      <td>2</td>\n",
       "    </tr>\n",
       "    <tr>\n",
       "      <th>12</th>\n",
       "      <td>Product Design (UI &amp; UX)</td>\n",
       "      <td>jam_kerja</td>\n",
       "      <td>3</td>\n",
       "    </tr>\n",
       "    <tr>\n",
       "      <th>13</th>\n",
       "      <td>Product Design (UI &amp; UX)</td>\n",
       "      <td>leadership</td>\n",
       "      <td>1</td>\n",
       "    </tr>\n",
       "    <tr>\n",
       "      <th>14</th>\n",
       "      <td>Product Design (UI &amp; UX)</td>\n",
       "      <td>masih_bekerja</td>\n",
       "      <td>1</td>\n",
       "    </tr>\n",
       "    <tr>\n",
       "      <th>15</th>\n",
       "      <td>Product Design (UI &amp; UX)</td>\n",
       "      <td>tidak_bahagia</td>\n",
       "      <td>2</td>\n",
       "    </tr>\n",
       "    <tr>\n",
       "      <th>16</th>\n",
       "      <td>Product Design (UX Researcher)</td>\n",
       "      <td>Belum Resign</td>\n",
       "      <td>1</td>\n",
       "    </tr>\n",
       "    <tr>\n",
       "      <th>17</th>\n",
       "      <td>Product Manager</td>\n",
       "      <td>Belum Resign</td>\n",
       "      <td>11</td>\n",
       "    </tr>\n",
       "    <tr>\n",
       "      <th>18</th>\n",
       "      <td>Product Manager</td>\n",
       "      <td>ganti_karir</td>\n",
       "      <td>3</td>\n",
       "    </tr>\n",
       "    <tr>\n",
       "      <th>19</th>\n",
       "      <td>Product Manager</td>\n",
       "      <td>jam_kerja</td>\n",
       "      <td>2</td>\n",
       "    </tr>\n",
       "    <tr>\n",
       "      <th>20</th>\n",
       "      <td>Product Manager</td>\n",
       "      <td>leadership</td>\n",
       "      <td>1</td>\n",
       "    </tr>\n",
       "    <tr>\n",
       "      <th>21</th>\n",
       "      <td>Scrum Master</td>\n",
       "      <td>Belum Resign</td>\n",
       "      <td>3</td>\n",
       "    </tr>\n",
       "    <tr>\n",
       "      <th>22</th>\n",
       "      <td>Software Architect</td>\n",
       "      <td>Belum Resign</td>\n",
       "      <td>1</td>\n",
       "    </tr>\n",
       "    <tr>\n",
       "      <th>23</th>\n",
       "      <td>Software Engineer (Android)</td>\n",
       "      <td>Belum Resign</td>\n",
       "      <td>17</td>\n",
       "    </tr>\n",
       "    <tr>\n",
       "      <th>24</th>\n",
       "      <td>Software Engineer (Android)</td>\n",
       "      <td>ganti_karir</td>\n",
       "      <td>3</td>\n",
       "    </tr>\n",
       "    <tr>\n",
       "      <th>25</th>\n",
       "      <td>Software Engineer (Android)</td>\n",
       "      <td>kejelasan_karir</td>\n",
       "      <td>2</td>\n",
       "    </tr>\n",
       "    <tr>\n",
       "      <th>26</th>\n",
       "      <td>Software Engineer (Android)</td>\n",
       "      <td>leadership</td>\n",
       "      <td>2</td>\n",
       "    </tr>\n",
       "    <tr>\n",
       "      <th>27</th>\n",
       "      <td>Software Engineer (Back End)</td>\n",
       "      <td>Belum Resign</td>\n",
       "      <td>81</td>\n",
       "    </tr>\n",
       "    <tr>\n",
       "      <th>28</th>\n",
       "      <td>Software Engineer (Back End)</td>\n",
       "      <td>ganti_karir</td>\n",
       "      <td>4</td>\n",
       "    </tr>\n",
       "    <tr>\n",
       "      <th>29</th>\n",
       "      <td>Software Engineer (Back End)</td>\n",
       "      <td>internal_conflict</td>\n",
       "      <td>2</td>\n",
       "    </tr>\n",
       "    <tr>\n",
       "      <th>30</th>\n",
       "      <td>Software Engineer (Back End)</td>\n",
       "      <td>jam_kerja</td>\n",
       "      <td>6</td>\n",
       "    </tr>\n",
       "    <tr>\n",
       "      <th>31</th>\n",
       "      <td>Software Engineer (Back End)</td>\n",
       "      <td>kejelasan_karir</td>\n",
       "      <td>4</td>\n",
       "    </tr>\n",
       "    <tr>\n",
       "      <th>32</th>\n",
       "      <td>Software Engineer (Back End)</td>\n",
       "      <td>leadership</td>\n",
       "      <td>2</td>\n",
       "    </tr>\n",
       "    <tr>\n",
       "      <th>33</th>\n",
       "      <td>Software Engineer (Back End)</td>\n",
       "      <td>masih_bekerja</td>\n",
       "      <td>1</td>\n",
       "    </tr>\n",
       "    <tr>\n",
       "      <th>34</th>\n",
       "      <td>Software Engineer (Back End)</td>\n",
       "      <td>tidak_bahagia</td>\n",
       "      <td>5</td>\n",
       "    </tr>\n",
       "    <tr>\n",
       "      <th>35</th>\n",
       "      <td>Software Engineer (Back End)</td>\n",
       "      <td>tidak_bisa_remote</td>\n",
       "      <td>3</td>\n",
       "    </tr>\n",
       "    <tr>\n",
       "      <th>36</th>\n",
       "      <td>Software Engineer (Back End)</td>\n",
       "      <td>toxic_culture</td>\n",
       "      <td>1</td>\n",
       "    </tr>\n",
       "    <tr>\n",
       "      <th>37</th>\n",
       "      <td>Software Engineer (Front End)</td>\n",
       "      <td>Belum Resign</td>\n",
       "      <td>44</td>\n",
       "    </tr>\n",
       "    <tr>\n",
       "      <th>38</th>\n",
       "      <td>Software Engineer (Front End)</td>\n",
       "      <td>apresiasi</td>\n",
       "      <td>1</td>\n",
       "    </tr>\n",
       "    <tr>\n",
       "      <th>39</th>\n",
       "      <td>Software Engineer (Front End)</td>\n",
       "      <td>ganti_karir</td>\n",
       "      <td>2</td>\n",
       "    </tr>\n",
       "    <tr>\n",
       "      <th>40</th>\n",
       "      <td>Software Engineer (Front End)</td>\n",
       "      <td>jam_kerja</td>\n",
       "      <td>4</td>\n",
       "    </tr>\n",
       "    <tr>\n",
       "      <th>41</th>\n",
       "      <td>Software Engineer (Front End)</td>\n",
       "      <td>kejelasan_karir</td>\n",
       "      <td>4</td>\n",
       "    </tr>\n",
       "    <tr>\n",
       "      <th>42</th>\n",
       "      <td>Software Engineer (Front End)</td>\n",
       "      <td>leadership</td>\n",
       "      <td>3</td>\n",
       "    </tr>\n",
       "    <tr>\n",
       "      <th>43</th>\n",
       "      <td>Software Engineer (Front End)</td>\n",
       "      <td>masih_bekerja</td>\n",
       "      <td>2</td>\n",
       "    </tr>\n",
       "    <tr>\n",
       "      <th>44</th>\n",
       "      <td>Software Engineer (Front End)</td>\n",
       "      <td>tidak_bahagia</td>\n",
       "      <td>1</td>\n",
       "    </tr>\n",
       "    <tr>\n",
       "      <th>45</th>\n",
       "      <td>Software Engineer (Front End)</td>\n",
       "      <td>tidak_bisa_remote</td>\n",
       "      <td>8</td>\n",
       "    </tr>\n",
       "    <tr>\n",
       "      <th>46</th>\n",
       "      <td>Software Engineer (Front End)</td>\n",
       "      <td>toxic_culture</td>\n",
       "      <td>3</td>\n",
       "    </tr>\n",
       "    <tr>\n",
       "      <th>47</th>\n",
       "      <td>Software Engineer (iOS)</td>\n",
       "      <td>Belum Resign</td>\n",
       "      <td>3</td>\n",
       "    </tr>\n",
       "  </tbody>\n",
       "</table>\n",
       "</div>"
      ],
      "text/plain": [
       "                         Pekerjaan       AlasanResign  JumlahResign\n",
       "0                     Data Analyst       Belum Resign             8\n",
       "1                     Data Analyst  internal_conflict             2\n",
       "2                     Data Analyst      toxic_culture             6\n",
       "3                    Data Engineer       Belum Resign             7\n",
       "4                    Data Engineer          apresiasi             1\n",
       "5                    Data Engineer          jam_kerja             1\n",
       "6                    Data Engineer    kejelasan_karir             1\n",
       "7                  DevOps Engineer       Belum Resign             3\n",
       "8          Digital Product Manager       Belum Resign             2\n",
       "9        Machine Learning Engineer       Belum Resign             2\n",
       "10        Product Design (UI & UX)       Belum Resign            15\n",
       "11        Product Design (UI & UX)        ganti_karir             2\n",
       "12        Product Design (UI & UX)          jam_kerja             3\n",
       "13        Product Design (UI & UX)         leadership             1\n",
       "14        Product Design (UI & UX)      masih_bekerja             1\n",
       "15        Product Design (UI & UX)      tidak_bahagia             2\n",
       "16  Product Design (UX Researcher)       Belum Resign             1\n",
       "17                 Product Manager       Belum Resign            11\n",
       "18                 Product Manager        ganti_karir             3\n",
       "19                 Product Manager          jam_kerja             2\n",
       "20                 Product Manager         leadership             1\n",
       "21                    Scrum Master       Belum Resign             3\n",
       "22              Software Architect       Belum Resign             1\n",
       "23     Software Engineer (Android)       Belum Resign            17\n",
       "24     Software Engineer (Android)        ganti_karir             3\n",
       "25     Software Engineer (Android)    kejelasan_karir             2\n",
       "26     Software Engineer (Android)         leadership             2\n",
       "27    Software Engineer (Back End)       Belum Resign            81\n",
       "28    Software Engineer (Back End)        ganti_karir             4\n",
       "29    Software Engineer (Back End)  internal_conflict             2\n",
       "30    Software Engineer (Back End)          jam_kerja             6\n",
       "31    Software Engineer (Back End)    kejelasan_karir             4\n",
       "32    Software Engineer (Back End)         leadership             2\n",
       "33    Software Engineer (Back End)      masih_bekerja             1\n",
       "34    Software Engineer (Back End)      tidak_bahagia             5\n",
       "35    Software Engineer (Back End)  tidak_bisa_remote             3\n",
       "36    Software Engineer (Back End)      toxic_culture             1\n",
       "37   Software Engineer (Front End)       Belum Resign            44\n",
       "38   Software Engineer (Front End)          apresiasi             1\n",
       "39   Software Engineer (Front End)        ganti_karir             2\n",
       "40   Software Engineer (Front End)          jam_kerja             4\n",
       "41   Software Engineer (Front End)    kejelasan_karir             4\n",
       "42   Software Engineer (Front End)         leadership             3\n",
       "43   Software Engineer (Front End)      masih_bekerja             2\n",
       "44   Software Engineer (Front End)      tidak_bahagia             1\n",
       "45   Software Engineer (Front End)  tidak_bisa_remote             8\n",
       "46   Software Engineer (Front End)      toxic_culture             3\n",
       "47         Software Engineer (iOS)       Belum Resign             3"
      ]
     },
     "execution_count": 148,
     "metadata": {},
     "output_type": "execute_result"
    }
   ],
   "source": [
    "# Contoh: Melibatkan kolom 'Pekerjaan' dan 'AlasanResign'\n",
    "df_resign_analysis = df[['Pekerjaan', 'AlasanResign']]\n",
    "\n",
    "# Group by pekerjaan dan hitung jumlah resign untuk setiap alasan\n",
    "resign_by_job = df_resign_analysis.groupby(['Pekerjaan', 'AlasanResign']).size().reset_index(name='JumlahResign')\n",
    "\n",
    "# Menampilkan DataFrame hasil analisis\n",
    "resign_by_job"
   ]
  },
  {
   "cell_type": "code",
   "execution_count": 149,
   "metadata": {},
   "outputs": [
    {
     "data": {
      "image/png": "[encoded data removed]",
      "text/plain": [
       "<Figure size 1200x800 with 1 Axes>"
      ]
     },
     "metadata": {},
     "output_type": "display_data"
    }
   ],
   "source": [
    "# Contoh: Plot bar chart untuk persebaran alasan resign\n",
    "plt.figure(figsize=(12, 8))\n",
    "sns.barplot(x='JumlahResign', y='Pekerjaan', hue='AlasanResign', data=resign_by_job)\n",
    "plt.title('Persebaran Alasan Resign per Divisi')\n",
    "plt.xlabel('Jumlah Resign')\n",
    "plt.ylabel('Divisi Pekerjaan')\n",
    "plt.show()"
   ]
  },
  {
   "cell_type": "code",
   "execution_count": 150,
   "metadata": {},
   "outputs": [
    {
     "data": {
      "text/plain": [
       "Belum Resign         81\n",
       "jam_kerja             6\n",
       "tidak_bahagia         5\n",
       "ganti_karir           4\n",
       "kejelasan_karir       4\n",
       "tidak_bisa_remote     3\n",
       "internal_conflict     2\n",
       "leadership            2\n",
       "toxic_culture         1\n",
       "masih_bekerja         1\n",
       "Name: AlasanResign, dtype: int64"
      ]
     },
     "execution_count": 150,
     "metadata": {},
     "output_type": "execute_result"
    }
   ],
   "source": [
    "# Contoh: Identifikasi divisi dengan jumlah resign tertinggi\n",
    "top_resign_divisions = df_resign_analysis['Pekerjaan'].value_counts().head(1).index.tolist()\n",
    "\n",
    "# Filter DataFrame untuk divisi dengan jumlah resign tertinggi\n",
    "top_resign_df = df_resign_analysis[df_resign_analysis['Pekerjaan'].isin(top_resign_divisions)]\n",
    "\n",
    "# Analisis alasan resign utama di divisi tersebut\n",
    "top_resign_reasons = top_resign_df['AlasanResign'].value_counts()\n",
    "\n",
    "# Menampilkan hasil analisis alasan resign utama\n",
    "top_resign_reasons"
   ]
  }
 ],
 "metadata": {
  "kernelspec": {
   "display_name": "base",
   "language": "python",
   "name": "python3"
  },
  "language_info": {
   "codemirror_mode": {
    "name": "ipython",
    "version": 3
   },
   "file_extension": ".py",
   "mimetype": "text/x-python",
   "name": "python",
   "nbconvert_exporter": "python",
   "pygments_lexer": "ipython3",
   "version": "3.11.4"
  }
 },
 "nbformat": 4,
 "nbformat_minor": 2
}
